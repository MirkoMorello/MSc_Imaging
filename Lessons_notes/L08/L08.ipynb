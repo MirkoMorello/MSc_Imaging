{
 "cells": [
  {
   "cell_type": "markdown",
   "metadata": {},
   "source": [
    "# L08 09/04/24"
   ]
  },
  {
   "cell_type": "code",
   "execution_count": 1,
   "metadata": {},
   "outputs": [
    {
     "name": "stderr",
     "output_type": "stream",
     "text": [
      "/home/omirako/.local/lib/python3.12/site-packages/tqdm/auto.py:21: TqdmWarning: IProgress not found. Please update jupyter and ipywidgets. See https://ipywidgets.readthedocs.io/en/stable/user_install.html\n",
      "  from .autonotebook import tqdm as notebook_tqdm\n",
      "2024-05-02 23:29:59.138521: I tensorflow/core/platform/cpu_feature_guard.cc:210] This TensorFlow binary is optimized to use available CPU instructions in performance-critical operations.\n",
      "To enable the following instructions: AVX2 FMA, in other operations, rebuild TensorFlow with the appropriate compiler flags.\n",
      "2024-05-02 23:29:59.850249: W tensorflow/compiler/tf2tensorrt/utils/py_utils.cc:38] TF-TRT Warning: Could not find TensorRT\n"
     ]
    }
   ],
   "source": [
    "import re\n",
    "import pandas as pd\n",
    "import numpy as np\n",
    "import torchmetrics\n",
    "import torch\n",
    "import torch.nn as nn\n",
    "import torch.optim as optim\n",
    "import torch.nn.functional as F\n",
    "import datetime as dt\n",
    "import sklearn.preprocessing\n",
    "from sklearn.model_selection import train_test_split\n",
    "from torch.utils.tensorboard import SummaryWriter\n",
    "from sklearn.preprocessing import OneHotEncoder\n",
    "from tqdm import tqdm\n"
   ]
  },
  {
   "cell_type": "code",
   "execution_count": 2,
   "metadata": {},
   "outputs": [
    {
     "data": {
      "text/html": [
       "<div>\n",
       "<style scoped>\n",
       "    .dataframe tbody tr th:only-of-type {\n",
       "        vertical-align: middle;\n",
       "    }\n",
       "\n",
       "    .dataframe tbody tr th {\n",
       "        vertical-align: top;\n",
       "    }\n",
       "\n",
       "    .dataframe thead th {\n",
       "        text-align: right;\n",
       "    }\n",
       "</style>\n",
       "<table border=\"1\" class=\"dataframe\">\n",
       "  <thead>\n",
       "    <tr style=\"text-align: right;\">\n",
       "      <th></th>\n",
       "      <th>stop_date</th>\n",
       "      <th>stop_time</th>\n",
       "      <th>country_name</th>\n",
       "      <th>driver_gender</th>\n",
       "      <th>driver_age_raw</th>\n",
       "      <th>driver_age</th>\n",
       "      <th>driver_race</th>\n",
       "      <th>violation_raw</th>\n",
       "      <th>violation</th>\n",
       "      <th>search_conducted</th>\n",
       "      <th>search_type</th>\n",
       "      <th>stop_outcome</th>\n",
       "      <th>is_arrested</th>\n",
       "      <th>stop_duration</th>\n",
       "      <th>drugs_related_stop</th>\n",
       "    </tr>\n",
       "  </thead>\n",
       "  <tbody>\n",
       "    <tr>\n",
       "      <th>0</th>\n",
       "      <td>1/2/2005</td>\n",
       "      <td>1:55</td>\n",
       "      <td>NaN</td>\n",
       "      <td>M</td>\n",
       "      <td>1985.0</td>\n",
       "      <td>20.0</td>\n",
       "      <td>White</td>\n",
       "      <td>Speeding</td>\n",
       "      <td>Speeding</td>\n",
       "      <td>False</td>\n",
       "      <td>NaN</td>\n",
       "      <td>Citation</td>\n",
       "      <td>False</td>\n",
       "      <td>0-15 Min</td>\n",
       "      <td>False</td>\n",
       "    </tr>\n",
       "    <tr>\n",
       "      <th>1</th>\n",
       "      <td>1/18/2005</td>\n",
       "      <td>8:15</td>\n",
       "      <td>NaN</td>\n",
       "      <td>M</td>\n",
       "      <td>1965.0</td>\n",
       "      <td>40.0</td>\n",
       "      <td>White</td>\n",
       "      <td>Speeding</td>\n",
       "      <td>Speeding</td>\n",
       "      <td>False</td>\n",
       "      <td>NaN</td>\n",
       "      <td>Citation</td>\n",
       "      <td>False</td>\n",
       "      <td>0-15 Min</td>\n",
       "      <td>False</td>\n",
       "    </tr>\n",
       "    <tr>\n",
       "      <th>2</th>\n",
       "      <td>1/23/2005</td>\n",
       "      <td>23:15</td>\n",
       "      <td>NaN</td>\n",
       "      <td>M</td>\n",
       "      <td>1972.0</td>\n",
       "      <td>33.0</td>\n",
       "      <td>White</td>\n",
       "      <td>Speeding</td>\n",
       "      <td>Speeding</td>\n",
       "      <td>False</td>\n",
       "      <td>NaN</td>\n",
       "      <td>Citation</td>\n",
       "      <td>False</td>\n",
       "      <td>0-15 Min</td>\n",
       "      <td>False</td>\n",
       "    </tr>\n",
       "    <tr>\n",
       "      <th>3</th>\n",
       "      <td>2/20/2005</td>\n",
       "      <td>17:15</td>\n",
       "      <td>NaN</td>\n",
       "      <td>M</td>\n",
       "      <td>1986.0</td>\n",
       "      <td>19.0</td>\n",
       "      <td>White</td>\n",
       "      <td>Call for Service</td>\n",
       "      <td>Other</td>\n",
       "      <td>False</td>\n",
       "      <td>NaN</td>\n",
       "      <td>Arrest Driver</td>\n",
       "      <td>True</td>\n",
       "      <td>16-30 Min</td>\n",
       "      <td>False</td>\n",
       "    </tr>\n",
       "    <tr>\n",
       "      <th>4</th>\n",
       "      <td>3/14/2005</td>\n",
       "      <td>10:00</td>\n",
       "      <td>NaN</td>\n",
       "      <td>F</td>\n",
       "      <td>1984.0</td>\n",
       "      <td>21.0</td>\n",
       "      <td>White</td>\n",
       "      <td>Speeding</td>\n",
       "      <td>Speeding</td>\n",
       "      <td>False</td>\n",
       "      <td>NaN</td>\n",
       "      <td>Citation</td>\n",
       "      <td>False</td>\n",
       "      <td>0-15 Min</td>\n",
       "      <td>False</td>\n",
       "    </tr>\n",
       "    <tr>\n",
       "      <th>...</th>\n",
       "      <td>...</td>\n",
       "      <td>...</td>\n",
       "      <td>...</td>\n",
       "      <td>...</td>\n",
       "      <td>...</td>\n",
       "      <td>...</td>\n",
       "      <td>...</td>\n",
       "      <td>...</td>\n",
       "      <td>...</td>\n",
       "      <td>...</td>\n",
       "      <td>...</td>\n",
       "      <td>...</td>\n",
       "      <td>...</td>\n",
       "      <td>...</td>\n",
       "      <td>...</td>\n",
       "    </tr>\n",
       "    <tr>\n",
       "      <th>52961</th>\n",
       "      <td>10/5/2011</td>\n",
       "      <td>1:55</td>\n",
       "      <td>NaN</td>\n",
       "      <td>NaN</td>\n",
       "      <td>NaN</td>\n",
       "      <td>NaN</td>\n",
       "      <td>NaN</td>\n",
       "      <td>NaN</td>\n",
       "      <td>NaN</td>\n",
       "      <td>False</td>\n",
       "      <td>NaN</td>\n",
       "      <td>NaN</td>\n",
       "      <td>NaN</td>\n",
       "      <td>NaN</td>\n",
       "      <td>False</td>\n",
       "    </tr>\n",
       "    <tr>\n",
       "      <th>52962</th>\n",
       "      <td>10/5/2011</td>\n",
       "      <td>6:43</td>\n",
       "      <td>NaN</td>\n",
       "      <td>M</td>\n",
       "      <td>1986.0</td>\n",
       "      <td>25.0</td>\n",
       "      <td>White</td>\n",
       "      <td>Speeding</td>\n",
       "      <td>Speeding</td>\n",
       "      <td>False</td>\n",
       "      <td>NaN</td>\n",
       "      <td>Citation</td>\n",
       "      <td>False</td>\n",
       "      <td>0-15 Min</td>\n",
       "      <td>False</td>\n",
       "    </tr>\n",
       "    <tr>\n",
       "      <th>52963</th>\n",
       "      <td>10/5/2011</td>\n",
       "      <td>6:49</td>\n",
       "      <td>NaN</td>\n",
       "      <td>NaN</td>\n",
       "      <td>NaN</td>\n",
       "      <td>NaN</td>\n",
       "      <td>NaN</td>\n",
       "      <td>NaN</td>\n",
       "      <td>NaN</td>\n",
       "      <td>False</td>\n",
       "      <td>NaN</td>\n",
       "      <td>NaN</td>\n",
       "      <td>NaN</td>\n",
       "      <td>NaN</td>\n",
       "      <td>False</td>\n",
       "    </tr>\n",
       "    <tr>\n",
       "      <th>52964</th>\n",
       "      <td>10/5/2011</td>\n",
       "      <td>7:19</td>\n",
       "      <td>NaN</td>\n",
       "      <td>F</td>\n",
       "      <td>1986.0</td>\n",
       "      <td>25.0</td>\n",
       "      <td>White</td>\n",
       "      <td>Speeding</td>\n",
       "      <td>Speeding</td>\n",
       "      <td>False</td>\n",
       "      <td>NaN</td>\n",
       "      <td>Citation</td>\n",
       "      <td>False</td>\n",
       "      <td>0-15 Min</td>\n",
       "      <td>False</td>\n",
       "    </tr>\n",
       "    <tr>\n",
       "      <th>52965</th>\n",
       "      <td>10/5</td>\n",
       "      <td>NaN</td>\n",
       "      <td>NaN</td>\n",
       "      <td>NaN</td>\n",
       "      <td>NaN</td>\n",
       "      <td>NaN</td>\n",
       "      <td>NaN</td>\n",
       "      <td>NaN</td>\n",
       "      <td>NaN</td>\n",
       "      <td>NaN</td>\n",
       "      <td>NaN</td>\n",
       "      <td>NaN</td>\n",
       "      <td>NaN</td>\n",
       "      <td>NaN</td>\n",
       "      <td>NaN</td>\n",
       "    </tr>\n",
       "  </tbody>\n",
       "</table>\n",
       "<p>52966 rows × 15 columns</p>\n",
       "</div>"
      ],
      "text/plain": [
       "       stop_date stop_time  country_name driver_gender  driver_age_raw  \\\n",
       "0       1/2/2005      1:55           NaN             M          1985.0   \n",
       "1      1/18/2005      8:15           NaN             M          1965.0   \n",
       "2      1/23/2005     23:15           NaN             M          1972.0   \n",
       "3      2/20/2005     17:15           NaN             M          1986.0   \n",
       "4      3/14/2005     10:00           NaN             F          1984.0   \n",
       "...          ...       ...           ...           ...             ...   \n",
       "52961  10/5/2011      1:55           NaN           NaN             NaN   \n",
       "52962  10/5/2011      6:43           NaN             M          1986.0   \n",
       "52963  10/5/2011      6:49           NaN           NaN             NaN   \n",
       "52964  10/5/2011      7:19           NaN             F          1986.0   \n",
       "52965       10/5       NaN           NaN           NaN             NaN   \n",
       "\n",
       "       driver_age driver_race     violation_raw violation search_conducted  \\\n",
       "0            20.0       White          Speeding  Speeding            False   \n",
       "1            40.0       White          Speeding  Speeding            False   \n",
       "2            33.0       White          Speeding  Speeding            False   \n",
       "3            19.0       White  Call for Service     Other            False   \n",
       "4            21.0       White          Speeding  Speeding            False   \n",
       "...           ...         ...               ...       ...              ...   \n",
       "52961         NaN         NaN               NaN       NaN            False   \n",
       "52962        25.0       White          Speeding  Speeding            False   \n",
       "52963         NaN         NaN               NaN       NaN            False   \n",
       "52964        25.0       White          Speeding  Speeding            False   \n",
       "52965         NaN         NaN               NaN       NaN              NaN   \n",
       "\n",
       "      search_type   stop_outcome is_arrested stop_duration drugs_related_stop  \n",
       "0             NaN       Citation       False      0-15 Min              False  \n",
       "1             NaN       Citation       False      0-15 Min              False  \n",
       "2             NaN       Citation       False      0-15 Min              False  \n",
       "3             NaN  Arrest Driver        True     16-30 Min              False  \n",
       "4             NaN       Citation       False      0-15 Min              False  \n",
       "...           ...            ...         ...           ...                ...  \n",
       "52961         NaN            NaN         NaN           NaN              False  \n",
       "52962         NaN       Citation       False      0-15 Min              False  \n",
       "52963         NaN            NaN         NaN           NaN              False  \n",
       "52964         NaN       Citation       False      0-15 Min              False  \n",
       "52965         NaN            NaN         NaN           NaN                NaN  \n",
       "\n",
       "[52966 rows x 15 columns]"
      ]
     },
     "execution_count": 2,
     "metadata": {},
     "output_type": "execute_result"
    }
   ],
   "source": [
    "df = pd.read_csv('../datasets/traffic_violations.csv', sep=',')\n",
    "df"
   ]
  },
  {
   "cell_type": "markdown",
   "metadata": {},
   "source": [
    "# Data Preprocessing"
   ]
  },
  {
   "cell_type": "markdown",
   "metadata": {},
   "source": [
    "#### N/A generation/dropping"
   ]
  },
  {
   "cell_type": "code",
   "execution_count": 3,
   "metadata": {},
   "outputs": [
    {
     "data": {
      "text/html": [
       "<div>\n",
       "<style scoped>\n",
       "    .dataframe tbody tr th:only-of-type {\n",
       "        vertical-align: middle;\n",
       "    }\n",
       "\n",
       "    .dataframe tbody tr th {\n",
       "        vertical-align: top;\n",
       "    }\n",
       "\n",
       "    .dataframe thead th {\n",
       "        text-align: right;\n",
       "    }\n",
       "</style>\n",
       "<table border=\"1\" class=\"dataframe\">\n",
       "  <thead>\n",
       "    <tr style=\"text-align: right;\">\n",
       "      <th></th>\n",
       "      <th>stop_date</th>\n",
       "      <th>stop_time</th>\n",
       "      <th>driver_gender</th>\n",
       "      <th>driver_age_raw</th>\n",
       "      <th>driver_age</th>\n",
       "      <th>driver_race</th>\n",
       "      <th>violation_raw</th>\n",
       "      <th>violation</th>\n",
       "      <th>search_conducted</th>\n",
       "      <th>stop_outcome</th>\n",
       "      <th>is_arrested</th>\n",
       "      <th>stop_duration</th>\n",
       "      <th>drugs_related_stop</th>\n",
       "    </tr>\n",
       "  </thead>\n",
       "  <tbody>\n",
       "    <tr>\n",
       "      <th>0</th>\n",
       "      <td>1/2/2005</td>\n",
       "      <td>1:55</td>\n",
       "      <td>M</td>\n",
       "      <td>1985</td>\n",
       "      <td>20</td>\n",
       "      <td>White</td>\n",
       "      <td>Speeding</td>\n",
       "      <td>Speeding</td>\n",
       "      <td>False</td>\n",
       "      <td>Citation</td>\n",
       "      <td>False</td>\n",
       "      <td>0-15 Min</td>\n",
       "      <td>False</td>\n",
       "    </tr>\n",
       "    <tr>\n",
       "      <th>1</th>\n",
       "      <td>1/18/2005</td>\n",
       "      <td>8:15</td>\n",
       "      <td>M</td>\n",
       "      <td>1965</td>\n",
       "      <td>40</td>\n",
       "      <td>White</td>\n",
       "      <td>Speeding</td>\n",
       "      <td>Speeding</td>\n",
       "      <td>False</td>\n",
       "      <td>Citation</td>\n",
       "      <td>False</td>\n",
       "      <td>0-15 Min</td>\n",
       "      <td>False</td>\n",
       "    </tr>\n",
       "    <tr>\n",
       "      <th>2</th>\n",
       "      <td>1/23/2005</td>\n",
       "      <td>23:15</td>\n",
       "      <td>M</td>\n",
       "      <td>1972</td>\n",
       "      <td>33</td>\n",
       "      <td>White</td>\n",
       "      <td>Speeding</td>\n",
       "      <td>Speeding</td>\n",
       "      <td>False</td>\n",
       "      <td>Citation</td>\n",
       "      <td>False</td>\n",
       "      <td>0-15 Min</td>\n",
       "      <td>False</td>\n",
       "    </tr>\n",
       "    <tr>\n",
       "      <th>3</th>\n",
       "      <td>2/20/2005</td>\n",
       "      <td>17:15</td>\n",
       "      <td>M</td>\n",
       "      <td>1986</td>\n",
       "      <td>19</td>\n",
       "      <td>White</td>\n",
       "      <td>Call for Service</td>\n",
       "      <td>Other</td>\n",
       "      <td>False</td>\n",
       "      <td>Arrest Driver</td>\n",
       "      <td>True</td>\n",
       "      <td>16-30 Min</td>\n",
       "      <td>False</td>\n",
       "    </tr>\n",
       "    <tr>\n",
       "      <th>4</th>\n",
       "      <td>3/14/2005</td>\n",
       "      <td>10:00</td>\n",
       "      <td>F</td>\n",
       "      <td>1984</td>\n",
       "      <td>21</td>\n",
       "      <td>White</td>\n",
       "      <td>Speeding</td>\n",
       "      <td>Speeding</td>\n",
       "      <td>False</td>\n",
       "      <td>Citation</td>\n",
       "      <td>False</td>\n",
       "      <td>0-15 Min</td>\n",
       "      <td>False</td>\n",
       "    </tr>\n",
       "    <tr>\n",
       "      <th>...</th>\n",
       "      <td>...</td>\n",
       "      <td>...</td>\n",
       "      <td>...</td>\n",
       "      <td>...</td>\n",
       "      <td>...</td>\n",
       "      <td>...</td>\n",
       "      <td>...</td>\n",
       "      <td>...</td>\n",
       "      <td>...</td>\n",
       "      <td>...</td>\n",
       "      <td>...</td>\n",
       "      <td>...</td>\n",
       "      <td>...</td>\n",
       "    </tr>\n",
       "    <tr>\n",
       "      <th>49335</th>\n",
       "      <td>10/4/2011</td>\n",
       "      <td>22:22</td>\n",
       "      <td>M</td>\n",
       "      <td>1979</td>\n",
       "      <td>32</td>\n",
       "      <td>White</td>\n",
       "      <td>Speeding</td>\n",
       "      <td>Speeding</td>\n",
       "      <td>False</td>\n",
       "      <td>Arrest Driver</td>\n",
       "      <td>True</td>\n",
       "      <td>0-15 Min</td>\n",
       "      <td>False</td>\n",
       "    </tr>\n",
       "    <tr>\n",
       "      <th>49336</th>\n",
       "      <td>10/4/2011</td>\n",
       "      <td>22:36</td>\n",
       "      <td>F</td>\n",
       "      <td>1967</td>\n",
       "      <td>44</td>\n",
       "      <td>Hispanic</td>\n",
       "      <td>Speeding</td>\n",
       "      <td>Speeding</td>\n",
       "      <td>False</td>\n",
       "      <td>Citation</td>\n",
       "      <td>False</td>\n",
       "      <td>0-15 Min</td>\n",
       "      <td>False</td>\n",
       "    </tr>\n",
       "    <tr>\n",
       "      <th>49337</th>\n",
       "      <td>10/4/2011</td>\n",
       "      <td>23:25</td>\n",
       "      <td>F</td>\n",
       "      <td>1991</td>\n",
       "      <td>20</td>\n",
       "      <td>Black</td>\n",
       "      <td>Speeding</td>\n",
       "      <td>Speeding</td>\n",
       "      <td>False</td>\n",
       "      <td>Citation</td>\n",
       "      <td>False</td>\n",
       "      <td>0-15 Min</td>\n",
       "      <td>False</td>\n",
       "    </tr>\n",
       "    <tr>\n",
       "      <th>49338</th>\n",
       "      <td>10/5/2011</td>\n",
       "      <td>6:43</td>\n",
       "      <td>M</td>\n",
       "      <td>1986</td>\n",
       "      <td>25</td>\n",
       "      <td>White</td>\n",
       "      <td>Speeding</td>\n",
       "      <td>Speeding</td>\n",
       "      <td>False</td>\n",
       "      <td>Citation</td>\n",
       "      <td>False</td>\n",
       "      <td>0-15 Min</td>\n",
       "      <td>False</td>\n",
       "    </tr>\n",
       "    <tr>\n",
       "      <th>49339</th>\n",
       "      <td>10/5/2011</td>\n",
       "      <td>7:19</td>\n",
       "      <td>F</td>\n",
       "      <td>1986</td>\n",
       "      <td>25</td>\n",
       "      <td>White</td>\n",
       "      <td>Speeding</td>\n",
       "      <td>Speeding</td>\n",
       "      <td>False</td>\n",
       "      <td>Citation</td>\n",
       "      <td>False</td>\n",
       "      <td>0-15 Min</td>\n",
       "      <td>False</td>\n",
       "    </tr>\n",
       "  </tbody>\n",
       "</table>\n",
       "<p>49340 rows × 13 columns</p>\n",
       "</div>"
      ],
      "text/plain": [
       "       stop_date stop_time driver_gender  driver_age_raw  driver_age  \\\n",
       "0       1/2/2005      1:55             M            1985          20   \n",
       "1      1/18/2005      8:15             M            1965          40   \n",
       "2      1/23/2005     23:15             M            1972          33   \n",
       "3      2/20/2005     17:15             M            1986          19   \n",
       "4      3/14/2005     10:00             F            1984          21   \n",
       "...          ...       ...           ...             ...         ...   \n",
       "49335  10/4/2011     22:22             M            1979          32   \n",
       "49336  10/4/2011     22:36             F            1967          44   \n",
       "49337  10/4/2011     23:25             F            1991          20   \n",
       "49338  10/5/2011      6:43             M            1986          25   \n",
       "49339  10/5/2011      7:19             F            1986          25   \n",
       "\n",
       "      driver_race     violation_raw violation  search_conducted  \\\n",
       "0           White          Speeding  Speeding             False   \n",
       "1           White          Speeding  Speeding             False   \n",
       "2           White          Speeding  Speeding             False   \n",
       "3           White  Call for Service     Other             False   \n",
       "4           White          Speeding  Speeding             False   \n",
       "...           ...               ...       ...               ...   \n",
       "49335       White          Speeding  Speeding             False   \n",
       "49336    Hispanic          Speeding  Speeding             False   \n",
       "49337       Black          Speeding  Speeding             False   \n",
       "49338       White          Speeding  Speeding             False   \n",
       "49339       White          Speeding  Speeding             False   \n",
       "\n",
       "        stop_outcome  is_arrested stop_duration  drugs_related_stop  \n",
       "0           Citation        False      0-15 Min               False  \n",
       "1           Citation        False      0-15 Min               False  \n",
       "2           Citation        False      0-15 Min               False  \n",
       "3      Arrest Driver         True     16-30 Min               False  \n",
       "4           Citation        False      0-15 Min               False  \n",
       "...              ...          ...           ...                 ...  \n",
       "49335  Arrest Driver         True      0-15 Min               False  \n",
       "49336       Citation        False      0-15 Min               False  \n",
       "49337       Citation        False      0-15 Min               False  \n",
       "49338       Citation        False      0-15 Min               False  \n",
       "49339       Citation        False      0-15 Min               False  \n",
       "\n",
       "[49340 rows x 13 columns]"
      ]
     },
     "execution_count": 3,
     "metadata": {},
     "output_type": "execute_result"
    }
   ],
   "source": [
    "df = pd.read_csv('../datasets/traffic_violations.csv', sep=',')\n",
    "df = df.convert_dtypes() # force pandas to infer the data types\n",
    "df = df.dropna(thresh=.8*len(df), axis = 1) # drop columns with more than 80% of na\n",
    "\n",
    "# Insert generated data for booleans\n",
    "boolean_cols = df.select_dtypes(include = bool).columns\n",
    "most_frequent_values = df[boolean_cols].mode().iloc[0]\n",
    "df[boolean_cols] = df[boolean_cols].fillna(most_frequent_values)\n",
    "\n",
    "# Same for floats\n",
    "float_cols = df.select_dtypes(include = float).columns\n",
    "mean_values = df[float_cols].mean()\n",
    "df[float_cols] = df[float_cols].fillna(mean_values)\n",
    "\n",
    "# Same for categoricals\n",
    "categorical_cols = df.select_dtypes(include='string').columns\n",
    "categorical_mode_cols = df[categorical_cols].mode()\n",
    "df[categorical_cols] = df[categorical_cols].fillna(categorical_mode_cols)\n",
    "\n",
    "# if after all this, there still exists na, drop the rows\n",
    "df = df.dropna(ignore_index=True)\n",
    "df"
   ]
  },
  {
   "cell_type": "markdown",
   "metadata": {},
   "source": [
    "#### One hot encoding"
   ]
  },
  {
   "cell_type": "code",
   "execution_count": 4,
   "metadata": {},
   "outputs": [
    {
     "data": {
      "text/html": [
       "<div>\n",
       "<style scoped>\n",
       "    .dataframe tbody tr th:only-of-type {\n",
       "        vertical-align: middle;\n",
       "    }\n",
       "\n",
       "    .dataframe tbody tr th {\n",
       "        vertical-align: top;\n",
       "    }\n",
       "\n",
       "    .dataframe thead th {\n",
       "        text-align: right;\n",
       "    }\n",
       "</style>\n",
       "<table border=\"1\" class=\"dataframe\">\n",
       "  <thead>\n",
       "    <tr style=\"text-align: right;\">\n",
       "      <th></th>\n",
       "      <th>stop_date</th>\n",
       "      <th>stop_time</th>\n",
       "      <th>driver_age_raw</th>\n",
       "      <th>driver_age</th>\n",
       "      <th>search_conducted</th>\n",
       "      <th>is_arrested</th>\n",
       "      <th>drugs_related_stop</th>\n",
       "      <th>driver_gender_F</th>\n",
       "      <th>driver_gender_M</th>\n",
       "      <th>driver_race_Asian</th>\n",
       "      <th>...</th>\n",
       "      <th>violation_Registration/plates</th>\n",
       "      <th>violation_Speeding</th>\n",
       "      <th>stop_outcome_Arrest Driver</th>\n",
       "      <th>stop_outcome_Arrest Passenger</th>\n",
       "      <th>stop_outcome_Citation</th>\n",
       "      <th>stop_outcome_No Action</th>\n",
       "      <th>stop_outcome_Warning</th>\n",
       "      <th>stop_duration_0-15 Min</th>\n",
       "      <th>stop_duration_16-30 Min</th>\n",
       "      <th>stop_duration_30+ Min</th>\n",
       "    </tr>\n",
       "  </thead>\n",
       "  <tbody>\n",
       "    <tr>\n",
       "      <th>0</th>\n",
       "      <td>43872.0</td>\n",
       "      <td>115</td>\n",
       "      <td>1985</td>\n",
       "      <td>20</td>\n",
       "      <td>False</td>\n",
       "      <td>False</td>\n",
       "      <td>False</td>\n",
       "      <td>False</td>\n",
       "      <td>True</td>\n",
       "      <td>False</td>\n",
       "      <td>...</td>\n",
       "      <td>False</td>\n",
       "      <td>True</td>\n",
       "      <td>False</td>\n",
       "      <td>False</td>\n",
       "      <td>True</td>\n",
       "      <td>False</td>\n",
       "      <td>False</td>\n",
       "      <td>True</td>\n",
       "      <td>False</td>\n",
       "      <td>False</td>\n",
       "    </tr>\n",
       "    <tr>\n",
       "      <th>1</th>\n",
       "      <td>44256.0</td>\n",
       "      <td>495</td>\n",
       "      <td>1965</td>\n",
       "      <td>40</td>\n",
       "      <td>False</td>\n",
       "      <td>False</td>\n",
       "      <td>False</td>\n",
       "      <td>False</td>\n",
       "      <td>True</td>\n",
       "      <td>False</td>\n",
       "      <td>...</td>\n",
       "      <td>False</td>\n",
       "      <td>True</td>\n",
       "      <td>False</td>\n",
       "      <td>False</td>\n",
       "      <td>True</td>\n",
       "      <td>False</td>\n",
       "      <td>False</td>\n",
       "      <td>True</td>\n",
       "      <td>False</td>\n",
       "      <td>False</td>\n",
       "    </tr>\n",
       "    <tr>\n",
       "      <th>2</th>\n",
       "      <td>44376.0</td>\n",
       "      <td>1395</td>\n",
       "      <td>1972</td>\n",
       "      <td>33</td>\n",
       "      <td>False</td>\n",
       "      <td>False</td>\n",
       "      <td>False</td>\n",
       "      <td>False</td>\n",
       "      <td>True</td>\n",
       "      <td>False</td>\n",
       "      <td>...</td>\n",
       "      <td>False</td>\n",
       "      <td>True</td>\n",
       "      <td>False</td>\n",
       "      <td>False</td>\n",
       "      <td>True</td>\n",
       "      <td>False</td>\n",
       "      <td>False</td>\n",
       "      <td>True</td>\n",
       "      <td>False</td>\n",
       "      <td>False</td>\n",
       "    </tr>\n",
       "    <tr>\n",
       "      <th>3</th>\n",
       "      <td>45048.0</td>\n",
       "      <td>1035</td>\n",
       "      <td>1986</td>\n",
       "      <td>19</td>\n",
       "      <td>False</td>\n",
       "      <td>True</td>\n",
       "      <td>False</td>\n",
       "      <td>False</td>\n",
       "      <td>True</td>\n",
       "      <td>False</td>\n",
       "      <td>...</td>\n",
       "      <td>False</td>\n",
       "      <td>False</td>\n",
       "      <td>True</td>\n",
       "      <td>False</td>\n",
       "      <td>False</td>\n",
       "      <td>False</td>\n",
       "      <td>False</td>\n",
       "      <td>False</td>\n",
       "      <td>True</td>\n",
       "      <td>False</td>\n",
       "    </tr>\n",
       "    <tr>\n",
       "      <th>4</th>\n",
       "      <td>45576.0</td>\n",
       "      <td>600</td>\n",
       "      <td>1984</td>\n",
       "      <td>21</td>\n",
       "      <td>False</td>\n",
       "      <td>False</td>\n",
       "      <td>False</td>\n",
       "      <td>True</td>\n",
       "      <td>False</td>\n",
       "      <td>False</td>\n",
       "      <td>...</td>\n",
       "      <td>False</td>\n",
       "      <td>True</td>\n",
       "      <td>False</td>\n",
       "      <td>False</td>\n",
       "      <td>True</td>\n",
       "      <td>False</td>\n",
       "      <td>False</td>\n",
       "      <td>True</td>\n",
       "      <td>False</td>\n",
       "      <td>False</td>\n",
       "    </tr>\n",
       "    <tr>\n",
       "      <th>...</th>\n",
       "      <td>...</td>\n",
       "      <td>...</td>\n",
       "      <td>...</td>\n",
       "      <td>...</td>\n",
       "      <td>...</td>\n",
       "      <td>...</td>\n",
       "      <td>...</td>\n",
       "      <td>...</td>\n",
       "      <td>...</td>\n",
       "      <td>...</td>\n",
       "      <td>...</td>\n",
       "      <td>...</td>\n",
       "      <td>...</td>\n",
       "      <td>...</td>\n",
       "      <td>...</td>\n",
       "      <td>...</td>\n",
       "      <td>...</td>\n",
       "      <td>...</td>\n",
       "      <td>...</td>\n",
       "      <td>...</td>\n",
       "      <td>...</td>\n",
       "    </tr>\n",
       "    <tr>\n",
       "      <th>49335</th>\n",
       "      <td>103056.0</td>\n",
       "      <td>1342</td>\n",
       "      <td>1979</td>\n",
       "      <td>32</td>\n",
       "      <td>False</td>\n",
       "      <td>True</td>\n",
       "      <td>False</td>\n",
       "      <td>False</td>\n",
       "      <td>True</td>\n",
       "      <td>False</td>\n",
       "      <td>...</td>\n",
       "      <td>False</td>\n",
       "      <td>True</td>\n",
       "      <td>True</td>\n",
       "      <td>False</td>\n",
       "      <td>False</td>\n",
       "      <td>False</td>\n",
       "      <td>False</td>\n",
       "      <td>True</td>\n",
       "      <td>False</td>\n",
       "      <td>False</td>\n",
       "    </tr>\n",
       "    <tr>\n",
       "      <th>49336</th>\n",
       "      <td>103056.0</td>\n",
       "      <td>1356</td>\n",
       "      <td>1967</td>\n",
       "      <td>44</td>\n",
       "      <td>False</td>\n",
       "      <td>False</td>\n",
       "      <td>False</td>\n",
       "      <td>True</td>\n",
       "      <td>False</td>\n",
       "      <td>False</td>\n",
       "      <td>...</td>\n",
       "      <td>False</td>\n",
       "      <td>True</td>\n",
       "      <td>False</td>\n",
       "      <td>False</td>\n",
       "      <td>True</td>\n",
       "      <td>False</td>\n",
       "      <td>False</td>\n",
       "      <td>True</td>\n",
       "      <td>False</td>\n",
       "      <td>False</td>\n",
       "    </tr>\n",
       "    <tr>\n",
       "      <th>49337</th>\n",
       "      <td>103056.0</td>\n",
       "      <td>1405</td>\n",
       "      <td>1991</td>\n",
       "      <td>20</td>\n",
       "      <td>False</td>\n",
       "      <td>False</td>\n",
       "      <td>False</td>\n",
       "      <td>True</td>\n",
       "      <td>False</td>\n",
       "      <td>False</td>\n",
       "      <td>...</td>\n",
       "      <td>False</td>\n",
       "      <td>True</td>\n",
       "      <td>False</td>\n",
       "      <td>False</td>\n",
       "      <td>True</td>\n",
       "      <td>False</td>\n",
       "      <td>False</td>\n",
       "      <td>True</td>\n",
       "      <td>False</td>\n",
       "      <td>False</td>\n",
       "    </tr>\n",
       "    <tr>\n",
       "      <th>49338</th>\n",
       "      <td>103080.0</td>\n",
       "      <td>403</td>\n",
       "      <td>1986</td>\n",
       "      <td>25</td>\n",
       "      <td>False</td>\n",
       "      <td>False</td>\n",
       "      <td>False</td>\n",
       "      <td>False</td>\n",
       "      <td>True</td>\n",
       "      <td>False</td>\n",
       "      <td>...</td>\n",
       "      <td>False</td>\n",
       "      <td>True</td>\n",
       "      <td>False</td>\n",
       "      <td>False</td>\n",
       "      <td>True</td>\n",
       "      <td>False</td>\n",
       "      <td>False</td>\n",
       "      <td>True</td>\n",
       "      <td>False</td>\n",
       "      <td>False</td>\n",
       "    </tr>\n",
       "    <tr>\n",
       "      <th>49339</th>\n",
       "      <td>103080.0</td>\n",
       "      <td>439</td>\n",
       "      <td>1986</td>\n",
       "      <td>25</td>\n",
       "      <td>False</td>\n",
       "      <td>False</td>\n",
       "      <td>False</td>\n",
       "      <td>True</td>\n",
       "      <td>False</td>\n",
       "      <td>False</td>\n",
       "      <td>...</td>\n",
       "      <td>False</td>\n",
       "      <td>True</td>\n",
       "      <td>False</td>\n",
       "      <td>False</td>\n",
       "      <td>True</td>\n",
       "      <td>False</td>\n",
       "      <td>False</td>\n",
       "      <td>True</td>\n",
       "      <td>False</td>\n",
       "      <td>False</td>\n",
       "    </tr>\n",
       "  </tbody>\n",
       "</table>\n",
       "<p>48992 rows × 38 columns</p>\n",
       "</div>"
      ],
      "text/plain": [
       "       stop_date  stop_time  driver_age_raw  driver_age  search_conducted  \\\n",
       "0        43872.0        115            1985          20             False   \n",
       "1        44256.0        495            1965          40             False   \n",
       "2        44376.0       1395            1972          33             False   \n",
       "3        45048.0       1035            1986          19             False   \n",
       "4        45576.0        600            1984          21             False   \n",
       "...          ...        ...             ...         ...               ...   \n",
       "49335   103056.0       1342            1979          32             False   \n",
       "49336   103056.0       1356            1967          44             False   \n",
       "49337   103056.0       1405            1991          20             False   \n",
       "49338   103080.0        403            1986          25             False   \n",
       "49339   103080.0        439            1986          25             False   \n",
       "\n",
       "       is_arrested  drugs_related_stop  driver_gender_F  driver_gender_M  \\\n",
       "0            False               False            False             True   \n",
       "1            False               False            False             True   \n",
       "2            False               False            False             True   \n",
       "3             True               False            False             True   \n",
       "4            False               False             True            False   \n",
       "...            ...                 ...              ...              ...   \n",
       "49335         True               False            False             True   \n",
       "49336        False               False             True            False   \n",
       "49337        False               False             True            False   \n",
       "49338        False               False            False             True   \n",
       "49339        False               False             True            False   \n",
       "\n",
       "       driver_race_Asian  ...  violation_Registration/plates  \\\n",
       "0                  False  ...                          False   \n",
       "1                  False  ...                          False   \n",
       "2                  False  ...                          False   \n",
       "3                  False  ...                          False   \n",
       "4                  False  ...                          False   \n",
       "...                  ...  ...                            ...   \n",
       "49335              False  ...                          False   \n",
       "49336              False  ...                          False   \n",
       "49337              False  ...                          False   \n",
       "49338              False  ...                          False   \n",
       "49339              False  ...                          False   \n",
       "\n",
       "       violation_Speeding  stop_outcome_Arrest Driver  \\\n",
       "0                    True                       False   \n",
       "1                    True                       False   \n",
       "2                    True                       False   \n",
       "3                   False                        True   \n",
       "4                    True                       False   \n",
       "...                   ...                         ...   \n",
       "49335                True                        True   \n",
       "49336                True                       False   \n",
       "49337                True                       False   \n",
       "49338                True                       False   \n",
       "49339                True                       False   \n",
       "\n",
       "       stop_outcome_Arrest Passenger  stop_outcome_Citation  \\\n",
       "0                              False                   True   \n",
       "1                              False                   True   \n",
       "2                              False                   True   \n",
       "3                              False                  False   \n",
       "4                              False                   True   \n",
       "...                              ...                    ...   \n",
       "49335                          False                  False   \n",
       "49336                          False                   True   \n",
       "49337                          False                   True   \n",
       "49338                          False                   True   \n",
       "49339                          False                   True   \n",
       "\n",
       "       stop_outcome_No Action  stop_outcome_Warning  stop_duration_0-15 Min  \\\n",
       "0                       False                 False                    True   \n",
       "1                       False                 False                    True   \n",
       "2                       False                 False                    True   \n",
       "3                       False                 False                   False   \n",
       "4                       False                 False                    True   \n",
       "...                       ...                   ...                     ...   \n",
       "49335                   False                 False                    True   \n",
       "49336                   False                 False                    True   \n",
       "49337                   False                 False                    True   \n",
       "49338                   False                 False                    True   \n",
       "49339                   False                 False                    True   \n",
       "\n",
       "       stop_duration_16-30 Min  stop_duration_30+ Min  \n",
       "0                        False                  False  \n",
       "1                        False                  False  \n",
       "2                        False                  False  \n",
       "3                         True                  False  \n",
       "4                        False                  False  \n",
       "...                        ...                    ...  \n",
       "49335                    False                  False  \n",
       "49336                    False                  False  \n",
       "49337                    False                  False  \n",
       "49338                    False                  False  \n",
       "49339                    False                  False  \n",
       "\n",
       "[48992 rows x 38 columns]"
      ]
     },
     "execution_count": 4,
     "metadata": {},
     "output_type": "execute_result"
    }
   ],
   "source": [
    "# transform dates\n",
    "df['stop_date'] = (pd.to_datetime(df['stop_date']) - dt.datetime(2000,1,1)).dt.total_seconds() / 3600\n",
    "df['stop_time'] = pd.Series(int(a[-2:]) + int(a[:-3]) * 60 for a in df['stop_time'])\n",
    "\n",
    "# remove all the outcomes not registered\n",
    "df = df[df['stop_outcome'] != 'N/D']\n",
    "\n",
    "# one hot encoding\n",
    "categorical_features = df.select_dtypes(include='string').columns.tolist()\n",
    "df = pd.get_dummies(df, prefix = categorical_features)\n",
    "df"
   ]
  },
  {
   "cell_type": "markdown",
   "metadata": {},
   "source": [
    "#### Normalization"
   ]
  },
  {
   "cell_type": "code",
   "execution_count": 5,
   "metadata": {},
   "outputs": [
    {
     "data": {
      "text/html": [
       "<div>\n",
       "<style scoped>\n",
       "    .dataframe tbody tr th:only-of-type {\n",
       "        vertical-align: middle;\n",
       "    }\n",
       "\n",
       "    .dataframe tbody tr th {\n",
       "        vertical-align: top;\n",
       "    }\n",
       "\n",
       "    .dataframe thead th {\n",
       "        text-align: right;\n",
       "    }\n",
       "</style>\n",
       "<table border=\"1\" class=\"dataframe\">\n",
       "  <thead>\n",
       "    <tr style=\"text-align: right;\">\n",
       "      <th></th>\n",
       "      <th>stop_date</th>\n",
       "      <th>stop_time</th>\n",
       "      <th>driver_age_raw</th>\n",
       "      <th>driver_age</th>\n",
       "      <th>search_conducted</th>\n",
       "      <th>is_arrested</th>\n",
       "      <th>drugs_related_stop</th>\n",
       "      <th>driver_gender_F</th>\n",
       "      <th>driver_gender_M</th>\n",
       "      <th>driver_race_Asian</th>\n",
       "      <th>...</th>\n",
       "      <th>violation_raw_Violation of City/Town Ordinance</th>\n",
       "      <th>violation_raw_Warrant</th>\n",
       "      <th>violation_Equipment</th>\n",
       "      <th>violation_Moving violation</th>\n",
       "      <th>violation_Other</th>\n",
       "      <th>violation_Registration/plates</th>\n",
       "      <th>violation_Speeding</th>\n",
       "      <th>stop_duration_0-15 Min</th>\n",
       "      <th>stop_duration_16-30 Min</th>\n",
       "      <th>stop_duration_30+ Min</th>\n",
       "    </tr>\n",
       "  </thead>\n",
       "  <tbody>\n",
       "    <tr>\n",
       "      <th>0</th>\n",
       "      <td>-2.004974</td>\n",
       "      <td>-1.557794</td>\n",
       "      <td>0.874360</td>\n",
       "      <td>-1.110781</td>\n",
       "      <td>0</td>\n",
       "      <td>0</td>\n",
       "      <td>0</td>\n",
       "      <td>0</td>\n",
       "      <td>1</td>\n",
       "      <td>0</td>\n",
       "      <td>...</td>\n",
       "      <td>0</td>\n",
       "      <td>0</td>\n",
       "      <td>0</td>\n",
       "      <td>0</td>\n",
       "      <td>0</td>\n",
       "      <td>0</td>\n",
       "      <td>1</td>\n",
       "      <td>1</td>\n",
       "      <td>0</td>\n",
       "      <td>0</td>\n",
       "    </tr>\n",
       "    <tr>\n",
       "      <th>1</th>\n",
       "      <td>-1.980003</td>\n",
       "      <td>-0.586275</td>\n",
       "      <td>-0.692779</td>\n",
       "      <td>0.454742</td>\n",
       "      <td>0</td>\n",
       "      <td>0</td>\n",
       "      <td>0</td>\n",
       "      <td>0</td>\n",
       "      <td>1</td>\n",
       "      <td>0</td>\n",
       "      <td>...</td>\n",
       "      <td>0</td>\n",
       "      <td>0</td>\n",
       "      <td>0</td>\n",
       "      <td>0</td>\n",
       "      <td>0</td>\n",
       "      <td>0</td>\n",
       "      <td>1</td>\n",
       "      <td>1</td>\n",
       "      <td>0</td>\n",
       "      <td>0</td>\n",
       "    </tr>\n",
       "    <tr>\n",
       "      <th>2</th>\n",
       "      <td>-1.972199</td>\n",
       "      <td>1.714690</td>\n",
       "      <td>-0.144280</td>\n",
       "      <td>-0.093191</td>\n",
       "      <td>0</td>\n",
       "      <td>0</td>\n",
       "      <td>0</td>\n",
       "      <td>0</td>\n",
       "      <td>1</td>\n",
       "      <td>0</td>\n",
       "      <td>...</td>\n",
       "      <td>0</td>\n",
       "      <td>0</td>\n",
       "      <td>0</td>\n",
       "      <td>0</td>\n",
       "      <td>0</td>\n",
       "      <td>0</td>\n",
       "      <td>1</td>\n",
       "      <td>1</td>\n",
       "      <td>0</td>\n",
       "      <td>0</td>\n",
       "    </tr>\n",
       "    <tr>\n",
       "      <th>3</th>\n",
       "      <td>-1.928498</td>\n",
       "      <td>0.794304</td>\n",
       "      <td>0.952717</td>\n",
       "      <td>-1.189057</td>\n",
       "      <td>0</td>\n",
       "      <td>1</td>\n",
       "      <td>0</td>\n",
       "      <td>0</td>\n",
       "      <td>1</td>\n",
       "      <td>0</td>\n",
       "      <td>...</td>\n",
       "      <td>0</td>\n",
       "      <td>0</td>\n",
       "      <td>0</td>\n",
       "      <td>0</td>\n",
       "      <td>1</td>\n",
       "      <td>0</td>\n",
       "      <td>0</td>\n",
       "      <td>0</td>\n",
       "      <td>1</td>\n",
       "      <td>0</td>\n",
       "    </tr>\n",
       "    <tr>\n",
       "      <th>4</th>\n",
       "      <td>-1.894162</td>\n",
       "      <td>-0.317829</td>\n",
       "      <td>0.796003</td>\n",
       "      <td>-1.032505</td>\n",
       "      <td>0</td>\n",
       "      <td>0</td>\n",
       "      <td>0</td>\n",
       "      <td>1</td>\n",
       "      <td>0</td>\n",
       "      <td>0</td>\n",
       "      <td>...</td>\n",
       "      <td>0</td>\n",
       "      <td>0</td>\n",
       "      <td>0</td>\n",
       "      <td>0</td>\n",
       "      <td>0</td>\n",
       "      <td>0</td>\n",
       "      <td>1</td>\n",
       "      <td>1</td>\n",
       "      <td>0</td>\n",
       "      <td>0</td>\n",
       "    </tr>\n",
       "    <tr>\n",
       "      <th>...</th>\n",
       "      <td>...</td>\n",
       "      <td>...</td>\n",
       "      <td>...</td>\n",
       "      <td>...</td>\n",
       "      <td>...</td>\n",
       "      <td>...</td>\n",
       "      <td>...</td>\n",
       "      <td>...</td>\n",
       "      <td>...</td>\n",
       "      <td>...</td>\n",
       "      <td>...</td>\n",
       "      <td>...</td>\n",
       "      <td>...</td>\n",
       "      <td>...</td>\n",
       "      <td>...</td>\n",
       "      <td>...</td>\n",
       "      <td>...</td>\n",
       "      <td>...</td>\n",
       "      <td>...</td>\n",
       "      <td>...</td>\n",
       "      <td>...</td>\n",
       "    </tr>\n",
       "    <tr>\n",
       "      <th>49335</th>\n",
       "      <td>1.843818</td>\n",
       "      <td>1.579189</td>\n",
       "      <td>0.404218</td>\n",
       "      <td>-0.171467</td>\n",
       "      <td>0</td>\n",
       "      <td>1</td>\n",
       "      <td>0</td>\n",
       "      <td>0</td>\n",
       "      <td>1</td>\n",
       "      <td>0</td>\n",
       "      <td>...</td>\n",
       "      <td>0</td>\n",
       "      <td>0</td>\n",
       "      <td>0</td>\n",
       "      <td>0</td>\n",
       "      <td>0</td>\n",
       "      <td>0</td>\n",
       "      <td>1</td>\n",
       "      <td>1</td>\n",
       "      <td>0</td>\n",
       "      <td>0</td>\n",
       "    </tr>\n",
       "    <tr>\n",
       "      <th>49336</th>\n",
       "      <td>1.843818</td>\n",
       "      <td>1.614982</td>\n",
       "      <td>-0.536065</td>\n",
       "      <td>0.767847</td>\n",
       "      <td>0</td>\n",
       "      <td>0</td>\n",
       "      <td>0</td>\n",
       "      <td>1</td>\n",
       "      <td>0</td>\n",
       "      <td>0</td>\n",
       "      <td>...</td>\n",
       "      <td>0</td>\n",
       "      <td>0</td>\n",
       "      <td>0</td>\n",
       "      <td>0</td>\n",
       "      <td>0</td>\n",
       "      <td>0</td>\n",
       "      <td>1</td>\n",
       "      <td>1</td>\n",
       "      <td>0</td>\n",
       "      <td>0</td>\n",
       "    </tr>\n",
       "    <tr>\n",
       "      <th>49337</th>\n",
       "      <td>1.843818</td>\n",
       "      <td>1.740256</td>\n",
       "      <td>1.344502</td>\n",
       "      <td>-1.110781</td>\n",
       "      <td>0</td>\n",
       "      <td>0</td>\n",
       "      <td>0</td>\n",
       "      <td>1</td>\n",
       "      <td>0</td>\n",
       "      <td>0</td>\n",
       "      <td>...</td>\n",
       "      <td>0</td>\n",
       "      <td>0</td>\n",
       "      <td>0</td>\n",
       "      <td>0</td>\n",
       "      <td>0</td>\n",
       "      <td>0</td>\n",
       "      <td>1</td>\n",
       "      <td>1</td>\n",
       "      <td>0</td>\n",
       "      <td>0</td>\n",
       "    </tr>\n",
       "    <tr>\n",
       "      <th>49338</th>\n",
       "      <td>1.845379</td>\n",
       "      <td>-0.821485</td>\n",
       "      <td>0.952717</td>\n",
       "      <td>-0.719400</td>\n",
       "      <td>0</td>\n",
       "      <td>0</td>\n",
       "      <td>0</td>\n",
       "      <td>0</td>\n",
       "      <td>1</td>\n",
       "      <td>0</td>\n",
       "      <td>...</td>\n",
       "      <td>0</td>\n",
       "      <td>0</td>\n",
       "      <td>0</td>\n",
       "      <td>0</td>\n",
       "      <td>0</td>\n",
       "      <td>0</td>\n",
       "      <td>1</td>\n",
       "      <td>1</td>\n",
       "      <td>0</td>\n",
       "      <td>0</td>\n",
       "    </tr>\n",
       "    <tr>\n",
       "      <th>49339</th>\n",
       "      <td>1.845379</td>\n",
       "      <td>-0.729447</td>\n",
       "      <td>0.952717</td>\n",
       "      <td>-0.719400</td>\n",
       "      <td>0</td>\n",
       "      <td>0</td>\n",
       "      <td>0</td>\n",
       "      <td>1</td>\n",
       "      <td>0</td>\n",
       "      <td>0</td>\n",
       "      <td>...</td>\n",
       "      <td>0</td>\n",
       "      <td>0</td>\n",
       "      <td>0</td>\n",
       "      <td>0</td>\n",
       "      <td>0</td>\n",
       "      <td>0</td>\n",
       "      <td>1</td>\n",
       "      <td>1</td>\n",
       "      <td>0</td>\n",
       "      <td>0</td>\n",
       "    </tr>\n",
       "  </tbody>\n",
       "</table>\n",
       "<p>48992 rows × 33 columns</p>\n",
       "</div>"
      ],
      "text/plain": [
       "       stop_date  stop_time  driver_age_raw  driver_age  search_conducted  \\\n",
       "0      -2.004974  -1.557794        0.874360   -1.110781                 0   \n",
       "1      -1.980003  -0.586275       -0.692779    0.454742                 0   \n",
       "2      -1.972199   1.714690       -0.144280   -0.093191                 0   \n",
       "3      -1.928498   0.794304        0.952717   -1.189057                 0   \n",
       "4      -1.894162  -0.317829        0.796003   -1.032505                 0   \n",
       "...          ...        ...             ...         ...               ...   \n",
       "49335   1.843818   1.579189        0.404218   -0.171467                 0   \n",
       "49336   1.843818   1.614982       -0.536065    0.767847                 0   \n",
       "49337   1.843818   1.740256        1.344502   -1.110781                 0   \n",
       "49338   1.845379  -0.821485        0.952717   -0.719400                 0   \n",
       "49339   1.845379  -0.729447        0.952717   -0.719400                 0   \n",
       "\n",
       "       is_arrested  drugs_related_stop  driver_gender_F  driver_gender_M  \\\n",
       "0                0                   0                0                1   \n",
       "1                0                   0                0                1   \n",
       "2                0                   0                0                1   \n",
       "3                1                   0                0                1   \n",
       "4                0                   0                1                0   \n",
       "...            ...                 ...              ...              ...   \n",
       "49335            1                   0                0                1   \n",
       "49336            0                   0                1                0   \n",
       "49337            0                   0                1                0   \n",
       "49338            0                   0                0                1   \n",
       "49339            0                   0                1                0   \n",
       "\n",
       "       driver_race_Asian  ...  violation_raw_Violation of City/Town Ordinance  \\\n",
       "0                      0  ...                                               0   \n",
       "1                      0  ...                                               0   \n",
       "2                      0  ...                                               0   \n",
       "3                      0  ...                                               0   \n",
       "4                      0  ...                                               0   \n",
       "...                  ...  ...                                             ...   \n",
       "49335                  0  ...                                               0   \n",
       "49336                  0  ...                                               0   \n",
       "49337                  0  ...                                               0   \n",
       "49338                  0  ...                                               0   \n",
       "49339                  0  ...                                               0   \n",
       "\n",
       "       violation_raw_Warrant  violation_Equipment  violation_Moving violation  \\\n",
       "0                          0                    0                           0   \n",
       "1                          0                    0                           0   \n",
       "2                          0                    0                           0   \n",
       "3                          0                    0                           0   \n",
       "4                          0                    0                           0   \n",
       "...                      ...                  ...                         ...   \n",
       "49335                      0                    0                           0   \n",
       "49336                      0                    0                           0   \n",
       "49337                      0                    0                           0   \n",
       "49338                      0                    0                           0   \n",
       "49339                      0                    0                           0   \n",
       "\n",
       "       violation_Other  violation_Registration/plates  violation_Speeding  \\\n",
       "0                    0                              0                   1   \n",
       "1                    0                              0                   1   \n",
       "2                    0                              0                   1   \n",
       "3                    1                              0                   0   \n",
       "4                    0                              0                   1   \n",
       "...                ...                            ...                 ...   \n",
       "49335                0                              0                   1   \n",
       "49336                0                              0                   1   \n",
       "49337                0                              0                   1   \n",
       "49338                0                              0                   1   \n",
       "49339                0                              0                   1   \n",
       "\n",
       "       stop_duration_0-15 Min  stop_duration_16-30 Min  stop_duration_30+ Min  \n",
       "0                           1                        0                      0  \n",
       "1                           1                        0                      0  \n",
       "2                           1                        0                      0  \n",
       "3                           0                        1                      0  \n",
       "4                           1                        0                      0  \n",
       "...                       ...                      ...                    ...  \n",
       "49335                       1                        0                      0  \n",
       "49336                       1                        0                      0  \n",
       "49337                       1                        0                      0  \n",
       "49338                       1                        0                      0  \n",
       "49339                       1                        0                      0  \n",
       "\n",
       "[48992 rows x 33 columns]"
      ]
     },
     "execution_count": 5,
     "metadata": {},
     "output_type": "execute_result"
    }
   ],
   "source": [
    "# Normalize the data\n",
    "\n",
    "X = df.drop(columns = ['stop_outcome_Arrest Passenger', 'stop_outcome_Citation', 'stop_outcome_No Action', 'stop_outcome_Warning', 'stop_outcome_Arrest Driver'])\n",
    "y = df[['stop_outcome_Arrest Passenger', 'stop_outcome_Citation', 'stop_outcome_No Action', 'stop_outcome_Warning', 'stop_outcome_Arrest Driver']]\n",
    "\n",
    "scaler = sklearn.preprocessing.StandardScaler()\n",
    "numerical_cols = df.select_dtypes(include = 'number').columns\n",
    "X[numerical_cols] = scaler.fit_transform(X[numerical_cols])\n",
    "# Select boolean columns\n",
    "bool_cols = X.select_dtypes(include=bool).columns\n",
    "\n",
    "# Convert boolean columns to integers\n",
    "X[bool_cols] = X[bool_cols].astype(np.int64)\n",
    "X"
   ]
  },
  {
   "cell_type": "code",
   "execution_count": 6,
   "metadata": {},
   "outputs": [
    {
     "name": "stderr",
     "output_type": "stream",
     "text": [
      "/tmp/ipykernel_183166/3702652623.py:4: SettingWithCopyWarning: \n",
      "A value is trying to be set on a copy of a slice from a DataFrame.\n",
      "Try using .loc[row_indexer,col_indexer] = value instead\n",
      "\n",
      "See the caveats in the documentation: https://pandas.pydata.org/pandas-docs/stable/user_guide/indexing.html#returning-a-view-versus-a-copy\n",
      "  y[bool_cols] = y[bool_cols].astype(np.int64)\n"
     ]
    },
    {
     "data": {
      "text/html": [
       "<div>\n",
       "<style scoped>\n",
       "    .dataframe tbody tr th:only-of-type {\n",
       "        vertical-align: middle;\n",
       "    }\n",
       "\n",
       "    .dataframe tbody tr th {\n",
       "        vertical-align: top;\n",
       "    }\n",
       "\n",
       "    .dataframe thead th {\n",
       "        text-align: right;\n",
       "    }\n",
       "</style>\n",
       "<table border=\"1\" class=\"dataframe\">\n",
       "  <thead>\n",
       "    <tr style=\"text-align: right;\">\n",
       "      <th></th>\n",
       "      <th>stop_outcome_Arrest Passenger</th>\n",
       "      <th>stop_outcome_Citation</th>\n",
       "      <th>stop_outcome_No Action</th>\n",
       "      <th>stop_outcome_Warning</th>\n",
       "      <th>stop_outcome_Arrest Driver</th>\n",
       "    </tr>\n",
       "  </thead>\n",
       "  <tbody>\n",
       "    <tr>\n",
       "      <th>0</th>\n",
       "      <td>0</td>\n",
       "      <td>1</td>\n",
       "      <td>0</td>\n",
       "      <td>0</td>\n",
       "      <td>0</td>\n",
       "    </tr>\n",
       "    <tr>\n",
       "      <th>1</th>\n",
       "      <td>0</td>\n",
       "      <td>1</td>\n",
       "      <td>0</td>\n",
       "      <td>0</td>\n",
       "      <td>0</td>\n",
       "    </tr>\n",
       "    <tr>\n",
       "      <th>2</th>\n",
       "      <td>0</td>\n",
       "      <td>1</td>\n",
       "      <td>0</td>\n",
       "      <td>0</td>\n",
       "      <td>0</td>\n",
       "    </tr>\n",
       "    <tr>\n",
       "      <th>3</th>\n",
       "      <td>0</td>\n",
       "      <td>0</td>\n",
       "      <td>0</td>\n",
       "      <td>0</td>\n",
       "      <td>1</td>\n",
       "    </tr>\n",
       "    <tr>\n",
       "      <th>4</th>\n",
       "      <td>0</td>\n",
       "      <td>1</td>\n",
       "      <td>0</td>\n",
       "      <td>0</td>\n",
       "      <td>0</td>\n",
       "    </tr>\n",
       "    <tr>\n",
       "      <th>...</th>\n",
       "      <td>...</td>\n",
       "      <td>...</td>\n",
       "      <td>...</td>\n",
       "      <td>...</td>\n",
       "      <td>...</td>\n",
       "    </tr>\n",
       "    <tr>\n",
       "      <th>49335</th>\n",
       "      <td>0</td>\n",
       "      <td>0</td>\n",
       "      <td>0</td>\n",
       "      <td>0</td>\n",
       "      <td>1</td>\n",
       "    </tr>\n",
       "    <tr>\n",
       "      <th>49336</th>\n",
       "      <td>0</td>\n",
       "      <td>1</td>\n",
       "      <td>0</td>\n",
       "      <td>0</td>\n",
       "      <td>0</td>\n",
       "    </tr>\n",
       "    <tr>\n",
       "      <th>49337</th>\n",
       "      <td>0</td>\n",
       "      <td>1</td>\n",
       "      <td>0</td>\n",
       "      <td>0</td>\n",
       "      <td>0</td>\n",
       "    </tr>\n",
       "    <tr>\n",
       "      <th>49338</th>\n",
       "      <td>0</td>\n",
       "      <td>1</td>\n",
       "      <td>0</td>\n",
       "      <td>0</td>\n",
       "      <td>0</td>\n",
       "    </tr>\n",
       "    <tr>\n",
       "      <th>49339</th>\n",
       "      <td>0</td>\n",
       "      <td>1</td>\n",
       "      <td>0</td>\n",
       "      <td>0</td>\n",
       "      <td>0</td>\n",
       "    </tr>\n",
       "  </tbody>\n",
       "</table>\n",
       "<p>48992 rows × 5 columns</p>\n",
       "</div>"
      ],
      "text/plain": [
       "       stop_outcome_Arrest Passenger  stop_outcome_Citation  \\\n",
       "0                                  0                      1   \n",
       "1                                  0                      1   \n",
       "2                                  0                      1   \n",
       "3                                  0                      0   \n",
       "4                                  0                      1   \n",
       "...                              ...                    ...   \n",
       "49335                              0                      0   \n",
       "49336                              0                      1   \n",
       "49337                              0                      1   \n",
       "49338                              0                      1   \n",
       "49339                              0                      1   \n",
       "\n",
       "       stop_outcome_No Action  stop_outcome_Warning  \\\n",
       "0                           0                     0   \n",
       "1                           0                     0   \n",
       "2                           0                     0   \n",
       "3                           0                     0   \n",
       "4                           0                     0   \n",
       "...                       ...                   ...   \n",
       "49335                       0                     0   \n",
       "49336                       0                     0   \n",
       "49337                       0                     0   \n",
       "49338                       0                     0   \n",
       "49339                       0                     0   \n",
       "\n",
       "       stop_outcome_Arrest Driver  \n",
       "0                               0  \n",
       "1                               0  \n",
       "2                               0  \n",
       "3                               1  \n",
       "4                               0  \n",
       "...                           ...  \n",
       "49335                           1  \n",
       "49336                           0  \n",
       "49337                           0  \n",
       "49338                           0  \n",
       "49339                           0  \n",
       "\n",
       "[48992 rows x 5 columns]"
      ]
     },
     "execution_count": 6,
     "metadata": {},
     "output_type": "execute_result"
    }
   ],
   "source": [
    "bool_cols = y.select_dtypes(include=bool).columns\n",
    "\n",
    "# Convert boolean columns to integers\n",
    "y[bool_cols] = y[bool_cols].astype(np.int64)\n",
    "\n",
    "y"
   ]
  },
  {
   "cell_type": "markdown",
   "metadata": {},
   "source": [
    "# Definition of the network, dataloaders and validation"
   ]
  },
  {
   "cell_type": "code",
   "execution_count": 7,
   "metadata": {},
   "outputs": [],
   "source": [
    "device = torch.device('cuda' if torch.cuda.is_available() else 'cpu')\n",
    "\n",
    "# define the dataloader\n",
    "class Dataset(torch.utils.data.Dataset):\n",
    "    def __init__(self, df, target):\n",
    "        self.data = torch.tensor(df.values, dtype=torch.float32) # viene messo in memoria, non si può fare con dataset molto grandi\n",
    "        self.target = torch.tensor(target.values, dtype=torch.long)\n",
    "\n",
    "    def __len__(self):\n",
    "        return len(self.data)\n",
    "\n",
    "    def __getitem__(self, idx):\n",
    "        return self.data[idx], torch.argmax(self.target[idx])\n",
    "\n",
    "# define the net\n",
    "class Net(nn.Module):\n",
    "    def __init__(self):\n",
    "        super(Net, self).__init__()\n",
    "        \n",
    "        self.fc1 = nn.Linear(33, 128) # 50 input features\n",
    "        self.fc2 = nn.Linear(128, 512) \n",
    "        self.fc3 = nn.Linear(512, 2048)\n",
    "        self.fc4 = nn.Linear(2048, 512)\n",
    "        self.fc5 = nn.Linear(512, 16)\n",
    "        self.fc6 = nn.Linear(16, 5) # 1 output feature\n",
    "\n",
    "    def forward(self, x):\n",
    "        x = F.relu(self.fc1(x))\n",
    "        x = F.relu(self.fc2(x))\n",
    "        x = F.relu(self.fc3(x))\n",
    "        x = F.relu(self.fc4(x))\n",
    "        x = F.relu(self.fc5(x))\n",
    "        x = self.fc6(x)\n",
    "        \n",
    "        return x\n",
    "    \n",
    "    import torch.nn.functional as F\n",
    "\n",
    "# Define the validate\n",
    "def validate_with_loss(model, val_loader):\n",
    "    # Validate classification model:\n",
    "    model.eval()\n",
    "    total_loss = 0.0\n",
    "    acc_micro = torchmetrics.Accuracy(task = 'multiclass', num_classes = 5, average = 'micro').to(device)\n",
    "    acc_macro = torchmetrics.Accuracy(task = 'multiclass', num_classes = 5, average = 'macro').to(device)\n",
    "    with torch.no_grad():\n",
    "        for data in val_loader:\n",
    "            inputs, labels = data\n",
    "            inputs, labels = inputs.to(device), labels.to(device)\n",
    "            outputs = model(inputs)\n",
    "            loss = F.cross_entropy(outputs, labels)  # Compute cross-entropy loss\n",
    "            total_loss += loss.item() * inputs.size(0)  # Multiply by batch size to account for different batch sizes\n",
    "            for i in range(len(outputs)):\n",
    "                outputs[i] = torch.argmax(outputs[i])\n",
    "            acc_micro.update(outputs, labels)\n",
    "            acc_macro.update(outputs, labels)\n",
    "            total_loss += loss.item()\n",
    "    return acc_micro.compute(), acc_macro.compute(), total_loss / len(val_loader.dataset)\n"
   ]
  },
  {
   "cell_type": "markdown",
   "metadata": {},
   "source": [
    "# Splitting of the data"
   ]
  },
  {
   "cell_type": "code",
   "execution_count": 8,
   "metadata": {},
   "outputs": [],
   "source": [
    "batch_size = 512\n",
    "\n",
    "X_train, X_val, y_train, y_val = train_test_split(X, y, test_size=0.2, random_state=42)\n",
    "\n",
    "train_dataset = Dataset(X_train, y_train.astype(int))\n",
    "val_dataset = Dataset(X_val, y_val.astype(int))\n",
    "\n",
    "train_loader = torch.utils.data.DataLoader(train_dataset, batch_size=batch_size, shuffle=True, num_workers=0, drop_last=True)\n",
    "val_loader = torch.utils.data.DataLoader(val_dataset, batch_size=batch_size, shuffle=False, num_workers=0)"
   ]
  },
  {
   "cell_type": "markdown",
   "metadata": {},
   "source": [
    "# Preparation of the training"
   ]
  },
  {
   "cell_type": "code",
   "execution_count": 9,
   "metadata": {},
   "outputs": [],
   "source": [
    "model = Net().to(device)\n",
    "\n",
    "criterion = nn.CrossEntropyLoss()\n",
    "optimizer = torch.optim.Adam(params=model.parameters(), lr=0.0001)\n",
    "epochs = 2500\n",
    "num_workers = 2\n",
    "n_iter = 0\n",
    "\n",
    "\n",
    "writer = SummaryWriter('Forest_experiment')\n"
   ]
  },
  {
   "cell_type": "markdown",
   "metadata": {},
   "source": [
    "# Training"
   ]
  },
  {
   "cell_type": "code",
   "execution_count": 11,
   "metadata": {},
   "outputs": [
    {
     "name": "stderr",
     "output_type": "stream",
     "text": [
      "  0%|          | 0/76 [00:00<?, ?it/s]"
     ]
    },
    {
     "name": "stderr",
     "output_type": "stream",
     "text": [
      "100%|██████████| 76/76 [00:00<00:00, 143.50it/s]\n"
     ]
    },
    {
     "name": "stdout",
     "output_type": "stream",
     "text": [
      "Epoch 1, Loss: 0.0012944271155966823, Acc micro train: 0.9343647360801697, Acc macro train: 0.20000000298023224, Acc micro val: 0.003571792971342802, Acc macro val: 0.20000000298023224\n"
     ]
    },
    {
     "name": "stderr",
     "output_type": "stream",
     "text": [
      "100%|██████████| 76/76 [00:00<00:00, 235.49it/s]\n"
     ]
    },
    {
     "name": "stdout",
     "output_type": "stream",
     "text": [
      "Epoch 2, Loss: 0.0005154638845283713, Acc micro train: 0.9343904256820679, Acc macro train: 0.20000000298023224, Acc micro val: 0.003571792971342802, Acc macro val: 0.20000000298023224\n"
     ]
    },
    {
     "name": "stderr",
     "output_type": "stream",
     "text": [
      "100%|██████████| 76/76 [00:00<00:00, 231.21it/s]\n"
     ]
    },
    {
     "name": "stdout",
     "output_type": "stream",
     "text": [
      "Epoch 3, Loss: 0.0003930962441894821, Acc micro train: 0.9408922791481018, Acc macro train: 0.2391238659620285, Acc micro val: 0.003571792971342802, Acc macro val: 0.20000000298023224\n"
     ]
    },
    {
     "name": "stderr",
     "output_type": "stream",
     "text": [
      "100%|██████████| 76/76 [00:00<00:00, 165.21it/s]\n"
     ]
    },
    {
     "name": "stdout",
     "output_type": "stream",
     "text": [
      "Epoch 4, Loss: 0.00031163600473676703, Acc micro train: 0.9672594666481018, Acc macro train: 0.3945138156414032, Acc micro val: 0.003571792971342802, Acc macro val: 0.20000000298023224\n"
     ]
    },
    {
     "name": "stderr",
     "output_type": "stream",
     "text": [
      "100%|██████████| 76/76 [00:00<00:00, 233.44it/s]\n"
     ]
    },
    {
     "name": "stdout",
     "output_type": "stream",
     "text": [
      "Epoch 5, Loss: 0.0002793777835079246, Acc micro train: 0.9681332111358643, Acc macro train: 0.3999890089035034, Acc micro val: 0.003571792971342802, Acc macro val: 0.20000000298023224\n"
     ]
    },
    {
     "name": "stderr",
     "output_type": "stream",
     "text": [
      "100%|██████████| 76/76 [00:00<00:00, 243.76it/s]\n"
     ]
    },
    {
     "name": "stdout",
     "output_type": "stream",
     "text": [
      "Epoch 6, Loss: 0.00026898874852023023, Acc micro train: 0.9681589007377625, Acc macro train: 0.3999890089035034, Acc micro val: 0.003571792971342802, Acc macro val: 0.20000000298023224\n"
     ]
    },
    {
     "name": "stderr",
     "output_type": "stream",
     "text": [
      "100%|██████████| 76/76 [00:00<00:00, 232.80it/s]\n"
     ]
    },
    {
     "name": "stdout",
     "output_type": "stream",
     "text": [
      "Epoch 7, Loss: 0.00026153183703040155, Acc micro train: 0.9682874083518982, Acc macro train: 0.39999449253082275, Acc micro val: 0.003571792971342802, Acc macro val: 0.20000000298023224\n"
     ]
    },
    {
     "name": "stderr",
     "output_type": "stream",
     "text": [
      "100%|██████████| 76/76 [00:00<00:00, 248.48it/s]\n"
     ]
    },
    {
     "name": "stdout",
     "output_type": "stream",
     "text": [
      "Epoch 8, Loss: 0.00025650107737836767, Acc micro train: 0.9684159159660339, Acc macro train: 0.4000000059604645, Acc micro val: 0.003571792971342802, Acc macro val: 0.20000000298023224\n"
     ]
    },
    {
     "name": "stderr",
     "output_type": "stream",
     "text": [
      "100%|██████████| 76/76 [00:00<00:00, 225.39it/s]\n"
     ]
    },
    {
     "name": "stdout",
     "output_type": "stream",
     "text": [
      "Epoch 9, Loss: 0.0002526683750023746, Acc micro train: 0.9684159159660339, Acc macro train: 0.4000000059604645, Acc micro val: 0.003571792971342802, Acc macro val: 0.20000000298023224\n"
     ]
    },
    {
     "name": "stderr",
     "output_type": "stream",
     "text": [
      "100%|██████████| 76/76 [00:00<00:00, 236.56it/s]\n"
     ]
    },
    {
     "name": "stdout",
     "output_type": "stream",
     "text": [
      "Epoch 10, Loss: 0.00024861099255823186, Acc micro train: 0.9683645367622375, Acc macro train: 0.4000000059604645, Acc micro val: 0.003571792971342802, Acc macro val: 0.20000000298023224\n"
     ]
    },
    {
     "name": "stderr",
     "output_type": "stream",
     "text": [
      "100%|██████████| 76/76 [00:00<00:00, 223.42it/s]\n"
     ]
    },
    {
     "name": "stdout",
     "output_type": "stream",
     "text": [
      "Epoch 11, Loss: 0.0002458234094304775, Acc micro train: 0.96826171875, Acc macro train: 0.4000000059604645, Acc micro val: 0.003571792971342802, Acc macro val: 0.20000000298023224\n"
     ]
    },
    {
     "name": "stderr",
     "output_type": "stream",
     "text": [
      "100%|██████████| 76/76 [00:00<00:00, 237.38it/s]\n"
     ]
    },
    {
     "name": "stdout",
     "output_type": "stream",
     "text": [
      "Epoch 12, Loss: 0.00024474529266278343, Acc micro train: 0.9682103395462036, Acc macro train: 0.4000000059604645, Acc micro val: 0.003571792971342802, Acc macro val: 0.20000000298023224\n"
     ]
    },
    {
     "name": "stderr",
     "output_type": "stream",
     "text": [
      "100%|██████████| 76/76 [00:00<00:00, 157.28it/s]\n"
     ]
    },
    {
     "name": "stdout",
     "output_type": "stream",
     "text": [
      "Epoch 13, Loss: 0.00024354237681661797, Acc micro train: 0.9682103395462036, Acc macro train: 0.4000000059604645, Acc micro val: 0.003571792971342802, Acc macro val: 0.20000000298023224\n"
     ]
    },
    {
     "name": "stderr",
     "output_type": "stream",
     "text": [
      "100%|██████████| 76/76 [00:00<00:00, 234.26it/s]\n"
     ]
    },
    {
     "name": "stdout",
     "output_type": "stream",
     "text": [
      "Epoch 14, Loss: 0.00023954831527780963, Acc micro train: 0.9684159159660339, Acc macro train: 0.4000000059604645, Acc micro val: 0.003571792971342802, Acc macro val: 0.20000000298023224\n"
     ]
    },
    {
     "name": "stderr",
     "output_type": "stream",
     "text": [
      "100%|██████████| 76/76 [00:00<00:00, 225.14it/s]\n"
     ]
    },
    {
     "name": "stdout",
     "output_type": "stream",
     "text": [
      "Epoch 15, Loss: 0.00023784330219514755, Acc micro train: 0.9683902263641357, Acc macro train: 0.4000000059604645, Acc micro val: 0.003571792971342802, Acc macro val: 0.20000000298023224\n"
     ]
    },
    {
     "name": "stderr",
     "output_type": "stream",
     "text": [
      "100%|██████████| 76/76 [00:00<00:00, 226.26it/s]\n"
     ]
    },
    {
     "name": "stdout",
     "output_type": "stream",
     "text": [
      "Epoch 16, Loss: 0.0002382653894767044, Acc micro train: 0.9684416055679321, Acc macro train: 0.4000000059604645, Acc micro val: 0.003571792971342802, Acc macro val: 0.20000000298023224\n"
     ]
    },
    {
     "name": "stderr",
     "output_type": "stream",
     "text": [
      "100%|██████████| 76/76 [00:00<00:00, 230.49it/s]\n"
     ]
    },
    {
     "name": "stdout",
     "output_type": "stream",
     "text": [
      "Epoch 17, Loss: 0.00023714078333306483, Acc micro train: 0.96826171875, Acc macro train: 0.4000000059604645, Acc micro val: 0.003571792971342802, Acc macro val: 0.20000000298023224\n"
     ]
    },
    {
     "name": "stderr",
     "output_type": "stream",
     "text": [
      "100%|██████████| 76/76 [00:00<00:00, 240.99it/s]\n"
     ]
    },
    {
     "name": "stdout",
     "output_type": "stream",
     "text": [
      "Epoch 18, Loss: 0.00023471824063460417, Acc micro train: 0.9684159159660339, Acc macro train: 0.403809517621994, Acc micro val: 0.003571792971342802, Acc macro val: 0.20000000298023224\n"
     ]
    },
    {
     "name": "stderr",
     "output_type": "stream",
     "text": [
      "100%|██████████| 76/76 [00:00<00:00, 236.01it/s]\n"
     ]
    },
    {
     "name": "stdout",
     "output_type": "stream",
     "text": [
      "Epoch 19, Loss: 0.00023165108251592338, Acc micro train: 0.9686986207962036, Acc macro train: 0.4173637926578522, Acc micro val: 0.003571792971342802, Acc macro val: 0.20000000298023224\n"
     ]
    },
    {
     "name": "stderr",
     "output_type": "stream",
     "text": [
      "100%|██████████| 76/76 [00:00<00:00, 244.92it/s]\n"
     ]
    },
    {
     "name": "stdout",
     "output_type": "stream",
     "text": [
      "Epoch 20, Loss: 0.00023236144546514336, Acc micro train: 0.9688528180122375, Acc macro train: 0.42976367473602295, Acc micro val: 0.003571792971342802, Acc macro val: 0.20000000298023224\n"
     ]
    },
    {
     "name": "stderr",
     "output_type": "stream",
     "text": [
      "100%|██████████| 76/76 [00:00<00:00, 236.67it/s]\n"
     ]
    },
    {
     "name": "stdout",
     "output_type": "stream",
     "text": [
      "Epoch 21, Loss: 0.00023161719894140303, Acc micro train: 0.9690327048301697, Acc macro train: 0.4382169842720032, Acc micro val: 0.003571792971342802, Acc macro val: 0.20000000298023224\n"
     ]
    },
    {
     "name": "stderr",
     "output_type": "stream",
     "text": [
      "100%|██████████| 76/76 [00:00<00:00, 253.90it/s]\n"
     ]
    },
    {
     "name": "stdout",
     "output_type": "stream",
     "text": [
      "Epoch 22, Loss: 0.0002299885727020129, Acc micro train: 0.9693153500556946, Acc macro train: 0.45230942964553833, Acc micro val: 0.003571792971342802, Acc macro val: 0.20000000298023224\n"
     ]
    },
    {
     "name": "stderr",
     "output_type": "stream",
     "text": [
      "100%|██████████| 76/76 [00:00<00:00, 230.45it/s]\n"
     ]
    },
    {
     "name": "stdout",
     "output_type": "stream",
     "text": [
      "Epoch 23, Loss: 0.00022996552215343843, Acc micro train: 0.9693410992622375, Acc macro train: 0.45826321840286255, Acc micro val: 0.003571792971342802, Acc macro val: 0.20000000298023224\n"
     ]
    },
    {
     "name": "stderr",
     "output_type": "stream",
     "text": [
      "100%|██████████| 76/76 [00:00<00:00, 242.66it/s]\n"
     ]
    },
    {
     "name": "stdout",
     "output_type": "stream",
     "text": [
      "Epoch 24, Loss: 0.00022753903954203001, Acc micro train: 0.9695466756820679, Acc macro train: 0.46210744976997375, Acc micro val: 0.003571792971342802, Acc macro val: 0.20000000298023224\n"
     ]
    },
    {
     "name": "stderr",
     "output_type": "stream",
     "text": [
      "100%|██████████| 76/76 [00:00<00:00, 234.17it/s]\n"
     ]
    },
    {
     "name": "stdout",
     "output_type": "stream",
     "text": [
      "Epoch 25, Loss: 0.00022726996642323625, Acc micro train: 0.9694695472717285, Acc macro train: 0.46906226873397827, Acc micro val: 0.003571792971342802, Acc macro val: 0.20000000298023224\n"
     ]
    },
    {
     "name": "stderr",
     "output_type": "stream",
     "text": [
      "100%|██████████| 76/76 [00:00<00:00, 238.83it/s]\n"
     ]
    },
    {
     "name": "stdout",
     "output_type": "stream",
     "text": [
      "Epoch 26, Loss: 0.00022623646673877458, Acc micro train: 0.9697522521018982, Acc macro train: 0.47382915019989014, Acc micro val: 0.003571792971342802, Acc macro val: 0.20000000298023224\n"
     ]
    },
    {
     "name": "stderr",
     "output_type": "stream",
     "text": [
      "100%|██████████| 76/76 [00:00<00:00, 242.30it/s]\n"
     ]
    },
    {
     "name": "stdout",
     "output_type": "stream",
     "text": [
      "Epoch 27, Loss: 0.0002245327401563597, Acc micro train: 0.9697008728981018, Acc macro train: 0.4754660427570343, Acc micro val: 0.003571792971342802, Acc macro val: 0.20000000298023224\n"
     ]
    },
    {
     "name": "stderr",
     "output_type": "stream",
     "text": [
      "100%|██████████| 76/76 [00:00<00:00, 244.18it/s]\n"
     ]
    },
    {
     "name": "stdout",
     "output_type": "stream",
     "text": [
      "Epoch 28, Loss: 0.00022393346210743066, Acc micro train: 0.9698036313056946, Acc macro train: 0.4760584533214569, Acc micro val: 0.003571792971342802, Acc macro val: 0.20000000298023224\n"
     ]
    },
    {
     "name": "stderr",
     "output_type": "stream",
     "text": [
      "100%|██████████| 76/76 [00:00<00:00, 230.85it/s]\n"
     ]
    },
    {
     "name": "stdout",
     "output_type": "stream",
     "text": [
      "Epoch 29, Loss: 0.00022481596648877102, Acc micro train: 0.9695723652839661, Acc macro train: 0.47696682810783386, Acc micro val: 0.003571792971342802, Acc macro val: 0.20000000298023224\n"
     ]
    },
    {
     "name": "stderr",
     "output_type": "stream",
     "text": [
      "100%|██████████| 76/76 [00:00<00:00, 231.99it/s]\n"
     ]
    },
    {
     "name": "stdout",
     "output_type": "stream",
     "text": [
      "Epoch 30, Loss: 0.0002251789821653298, Acc micro train: 0.9694952964782715, Acc macro train: 0.474492609500885, Acc micro val: 0.003571792971342802, Acc macro val: 0.20000000298023224\n"
     ]
    },
    {
     "name": "stderr",
     "output_type": "stream",
     "text": [
      "100%|██████████| 76/76 [00:00<00:00, 157.30it/s]\n"
     ]
    },
    {
     "name": "stdout",
     "output_type": "stream",
     "text": [
      "Epoch 31, Loss: 0.00022205077949110562, Acc micro train: 0.9697779417037964, Acc macro train: 0.47699984908103943, Acc micro val: 0.003571792971342802, Acc macro val: 0.20000000298023224\n"
     ]
    },
    {
     "name": "stderr",
     "output_type": "stream",
     "text": [
      "100%|██████████| 76/76 [00:00<00:00, 242.45it/s]\n"
     ]
    },
    {
     "name": "stdout",
     "output_type": "stream",
     "text": [
      "Epoch 32, Loss: 0.0002202348295008297, Acc micro train: 0.9698036313056946, Acc macro train: 0.47834235429763794, Acc micro val: 0.003571792971342802, Acc macro val: 0.20000000298023224\n"
     ]
    },
    {
     "name": "stderr",
     "output_type": "stream",
     "text": [
      "100%|██████████| 76/76 [00:00<00:00, 241.94it/s]\n"
     ]
    },
    {
     "name": "stdout",
     "output_type": "stream",
     "text": [
      "Epoch 33, Loss: 0.00021958094386493817, Acc micro train: 0.9700092673301697, Acc macro train: 0.488400936126709, Acc micro val: 0.003571792971342802, Acc macro val: 0.20000000298023224\n"
     ]
    },
    {
     "name": "stderr",
     "output_type": "stream",
     "text": [
      "100%|██████████| 76/76 [00:00<00:00, 239.81it/s]\n"
     ]
    },
    {
     "name": "stdout",
     "output_type": "stream",
     "text": [
      "Epoch 34, Loss: 0.0002198264626707459, Acc micro train: 0.9699321389198303, Acc macro train: 0.48608770966529846, Acc micro val: 0.003571792971342802, Acc macro val: 0.20000000298023224\n"
     ]
    },
    {
     "name": "stderr",
     "output_type": "stream",
     "text": [
      "100%|██████████| 76/76 [00:00<00:00, 240.57it/s]\n"
     ]
    },
    {
     "name": "stdout",
     "output_type": "stream",
     "text": [
      "Epoch 35, Loss: 0.00022021198340456638, Acc micro train: 0.9697265625, Acc macro train: 0.486610472202301, Acc micro val: 0.003571792971342802, Acc macro val: 0.20000000298023224\n"
     ]
    },
    {
     "name": "stderr",
     "output_type": "stream",
     "text": [
      "100%|██████████| 76/76 [00:00<00:00, 244.51it/s]\n"
     ]
    },
    {
     "name": "stdout",
     "output_type": "stream",
     "text": [
      "Epoch 36, Loss: 0.00021847731352089662, Acc micro train: 0.9697265625, Acc macro train: 0.4786011576652527, Acc micro val: 0.003571792971342802, Acc macro val: 0.20000000298023224\n"
     ]
    },
    {
     "name": "stderr",
     "output_type": "stream",
     "text": [
      "100%|██████████| 76/76 [00:00<00:00, 238.79it/s]\n"
     ]
    },
    {
     "name": "stdout",
     "output_type": "stream",
     "text": [
      "Epoch 37, Loss: 0.0002181776869004426, Acc micro train: 0.9699064493179321, Acc macro train: 0.49307483434677124, Acc micro val: 0.003571792971342802, Acc macro val: 0.20000000298023224\n"
     ]
    },
    {
     "name": "stderr",
     "output_type": "stream",
     "text": [
      "100%|██████████| 76/76 [00:00<00:00, 244.99it/s]\n"
     ]
    },
    {
     "name": "stdout",
     "output_type": "stream",
     "text": [
      "Epoch 38, Loss: 0.000216731583727196, Acc micro train: 0.9696494936943054, Acc macro train: 0.4865224361419678, Acc micro val: 0.003571792971342802, Acc macro val: 0.20000000298023224\n"
     ]
    },
    {
     "name": "stderr",
     "output_type": "stream",
     "text": [
      "100%|██████████| 76/76 [00:00<00:00, 234.83it/s]\n"
     ]
    },
    {
     "name": "stdout",
     "output_type": "stream",
     "text": [
      "Epoch 39, Loss: 0.00021679288662833764, Acc micro train: 0.9702919125556946, Acc macro train: 0.498637318611145, Acc micro val: 0.003571792971342802, Acc macro val: 0.20000000298023224\n"
     ]
    },
    {
     "name": "stderr",
     "output_type": "stream",
     "text": [
      "100%|██████████| 76/76 [00:00<00:00, 169.78it/s]\n"
     ]
    },
    {
     "name": "stdout",
     "output_type": "stream",
     "text": [
      "Epoch 40, Loss: 0.000216577249416525, Acc micro train: 0.9700092673301697, Acc macro train: 0.498984158039093, Acc micro val: 0.003571792971342802, Acc macro val: 0.20000000298023224\n"
     ]
    },
    {
     "name": "stderr",
     "output_type": "stream",
     "text": [
      "100%|██████████| 76/76 [00:00<00:00, 227.48it/s]\n"
     ]
    },
    {
     "name": "stdout",
     "output_type": "stream",
     "text": [
      "Epoch 41, Loss: 0.00021555014193214657, Acc micro train: 0.9700863361358643, Acc macro train: 0.5026752948760986, Acc micro val: 0.003571792971342802, Acc macro val: 0.20000000298023224\n"
     ]
    },
    {
     "name": "stderr",
     "output_type": "stream",
     "text": [
      "100%|██████████| 76/76 [00:00<00:00, 243.91it/s]\n"
     ]
    },
    {
     "name": "stdout",
     "output_type": "stream",
     "text": [
      "Epoch 42, Loss: 0.00021289170432418642, Acc micro train: 0.9703947305679321, Acc macro train: 0.5088801383972168, Acc micro val: 0.003571792971342802, Acc macro val: 0.20000000298023224\n"
     ]
    },
    {
     "name": "stderr",
     "output_type": "stream",
     "text": [
      "100%|██████████| 76/76 [00:00<00:00, 232.10it/s]\n"
     ]
    },
    {
     "name": "stdout",
     "output_type": "stream",
     "text": [
      "Epoch 43, Loss: 0.00021260016407303667, Acc micro train: 0.9703690409660339, Acc macro train: 0.51420658826828, Acc micro val: 0.003571792971342802, Acc macro val: 0.20000000298023224\n"
     ]
    },
    {
     "name": "stderr",
     "output_type": "stream",
     "text": [
      "100%|██████████| 76/76 [00:00<00:00, 237.37it/s]\n"
     ]
    },
    {
     "name": "stdout",
     "output_type": "stream",
     "text": [
      "Epoch 44, Loss: 0.0002132028493753357, Acc micro train: 0.9700863361358643, Acc macro train: 0.5093982815742493, Acc micro val: 0.003571792971342802, Acc macro val: 0.20000000298023224\n"
     ]
    },
    {
     "name": "stderr",
     "output_type": "stream",
     "text": [
      "100%|██████████| 76/76 [00:00<00:00, 160.15it/s]\n"
     ]
    },
    {
     "name": "stdout",
     "output_type": "stream",
     "text": [
      "Epoch 45, Loss: 0.0002111242938409112, Acc micro train: 0.9704461097717285, Acc macro train: 0.5256507992744446, Acc micro val: 0.003571792971342802, Acc macro val: 0.20000000298023224\n"
     ]
    },
    {
     "name": "stderr",
     "output_type": "stream",
     "text": [
      "100%|██████████| 76/76 [00:00<00:00, 236.97it/s]\n"
     ]
    },
    {
     "name": "stdout",
     "output_type": "stream",
     "text": [
      "Epoch 46, Loss: 0.0002126526303761004, Acc micro train: 0.9702919125556946, Acc macro train: 0.5194005966186523, Acc micro val: 0.003571792971342802, Acc macro val: 0.20000000298023224\n"
     ]
    },
    {
     "name": "stderr",
     "output_type": "stream",
     "text": [
      "100%|██████████| 76/76 [00:00<00:00, 226.88it/s]\n"
     ]
    },
    {
     "name": "stdout",
     "output_type": "stream",
     "text": [
      "Epoch 47, Loss: 0.00021257098717891842, Acc micro train: 0.9703690409660339, Acc macro train: 0.5240347385406494, Acc micro val: 0.003571792971342802, Acc macro val: 0.20000000298023224\n"
     ]
    },
    {
     "name": "stderr",
     "output_type": "stream",
     "text": [
      "100%|██████████| 76/76 [00:00<00:00, 238.85it/s]\n"
     ]
    },
    {
     "name": "stdout",
     "output_type": "stream",
     "text": [
      "Epoch 48, Loss: 0.00020971795764021252, Acc micro train: 0.9705746173858643, Acc macro train: 0.5303152203559875, Acc micro val: 0.003571792971342802, Acc macro val: 0.20000000298023224\n"
     ]
    },
    {
     "name": "stderr",
     "output_type": "stream",
     "text": [
      "100%|██████████| 76/76 [00:00<00:00, 231.54it/s]\n"
     ]
    },
    {
     "name": "stdout",
     "output_type": "stream",
     "text": [
      "Epoch 49, Loss: 0.0002084245682720798, Acc micro train: 0.9708573222160339, Acc macro train: 0.5376119613647461, Acc micro val: 0.003571792971342802, Acc macro val: 0.20000000298023224\n"
     ]
    },
    {
     "name": "stderr",
     "output_type": "stream",
     "text": [
      "100%|██████████| 76/76 [00:00<00:00, 238.05it/s]\n"
     ]
    },
    {
     "name": "stdout",
     "output_type": "stream",
     "text": [
      "Epoch 50, Loss: 0.00020872756887844267, Acc micro train: 0.9707545042037964, Acc macro train: 0.5318213105201721, Acc micro val: 0.003571792971342802, Acc macro val: 0.20000000298023224\n"
     ]
    },
    {
     "name": "stderr",
     "output_type": "stream",
     "text": [
      "100%|██████████| 76/76 [00:00<00:00, 226.83it/s]\n"
     ]
    },
    {
     "name": "stdout",
     "output_type": "stream",
     "text": [
      "Epoch 51, Loss: 0.00020824874755380726, Acc micro train: 0.9707545042037964, Acc macro train: 0.5407309532165527, Acc micro val: 0.003571792971342802, Acc macro val: 0.20000000298023224\n"
     ]
    },
    {
     "name": "stderr",
     "output_type": "stream",
     "text": [
      "100%|██████████| 76/76 [00:00<00:00, 235.74it/s]\n"
     ]
    },
    {
     "name": "stdout",
     "output_type": "stream",
     "text": [
      "Epoch 52, Loss: 0.00020576442337801398, Acc micro train: 0.970703125, Acc macro train: 0.5395238995552063, Acc micro val: 0.003571792971342802, Acc macro val: 0.20000000298023224\n"
     ]
    },
    {
     "name": "stderr",
     "output_type": "stream",
     "text": [
      "100%|██████████| 76/76 [00:00<00:00, 231.24it/s]\n"
     ]
    },
    {
     "name": "stdout",
     "output_type": "stream",
     "text": [
      "Epoch 53, Loss: 0.00020888512262390302, Acc micro train: 0.9708316326141357, Acc macro train: 0.531561553478241, Acc micro val: 0.003571792971342802, Acc macro val: 0.20000000298023224\n"
     ]
    },
    {
     "name": "stderr",
     "output_type": "stream",
     "text": [
      "100%|██████████| 76/76 [00:00<00:00, 162.99it/s]\n"
     ]
    },
    {
     "name": "stdout",
     "output_type": "stream",
     "text": [
      "Epoch 54, Loss: 0.0002057987795405823, Acc micro train: 0.9711657166481018, Acc macro train: 0.5495297908782959, Acc micro val: 0.003571792971342802, Acc macro val: 0.20000000298023224\n"
     ]
    },
    {
     "name": "stderr",
     "output_type": "stream",
     "text": [
      "100%|██████████| 76/76 [00:00<00:00, 224.90it/s]\n"
     ]
    },
    {
     "name": "stdout",
     "output_type": "stream",
     "text": [
      "Epoch 55, Loss: 0.00020487462135134805, Acc micro train: 0.9712170958518982, Acc macro train: 0.5546555519104004, Acc micro val: 0.003571792971342802, Acc macro val: 0.20000000298023224\n"
     ]
    },
    {
     "name": "stderr",
     "output_type": "stream",
     "text": [
      "100%|██████████| 76/76 [00:00<00:00, 238.87it/s]\n"
     ]
    },
    {
     "name": "stdout",
     "output_type": "stream",
     "text": [
      "Epoch 56, Loss: 0.0002024509169531444, Acc micro train: 0.9716796875, Acc macro train: 0.5659176111221313, Acc micro val: 0.003571792971342802, Acc macro val: 0.20000000298023224\n"
     ]
    },
    {
     "name": "stderr",
     "output_type": "stream",
     "text": [
      "100%|██████████| 76/76 [00:00<00:00, 231.77it/s]\n"
     ]
    },
    {
     "name": "stdout",
     "output_type": "stream",
     "text": [
      "Epoch 57, Loss: 0.00020204198410097177, Acc micro train: 0.9714998006820679, Acc macro train: 0.5705626010894775, Acc micro val: 0.003571792971342802, Acc macro val: 0.20000000298023224\n"
     ]
    },
    {
     "name": "stderr",
     "output_type": "stream",
     "text": [
      "100%|██████████| 76/76 [00:00<00:00, 237.90it/s]\n"
     ]
    },
    {
     "name": "stdout",
     "output_type": "stream",
     "text": [
      "Epoch 58, Loss: 0.00020152231955389562, Acc micro train: 0.9715511798858643, Acc macro train: 0.5686780214309692, Acc micro val: 0.003571792971342802, Acc macro val: 0.20000000298023224\n"
     ]
    },
    {
     "name": "stderr",
     "output_type": "stream",
     "text": [
      "100%|██████████| 76/76 [00:00<00:00, 157.92it/s]\n"
     ]
    },
    {
     "name": "stdout",
     "output_type": "stream",
     "text": [
      "Epoch 59, Loss: 0.00020081450479714907, Acc micro train: 0.9719109535217285, Acc macro train: 0.5803669691085815, Acc micro val: 0.003571792971342802, Acc macro val: 0.20000000298023224\n"
     ]
    },
    {
     "name": "stderr",
     "output_type": "stream",
     "text": [
      "100%|██████████| 76/76 [00:00<00:00, 236.82it/s]\n"
     ]
    },
    {
     "name": "stdout",
     "output_type": "stream",
     "text": [
      "Epoch 60, Loss: 0.00020424670020847721, Acc micro train: 0.9715254902839661, Acc macro train: 0.5763919353485107, Acc micro val: 0.003571792971342802, Acc macro val: 0.20000000298023224\n"
     ]
    },
    {
     "name": "stderr",
     "output_type": "stream",
     "text": [
      "100%|██████████| 76/76 [00:00<00:00, 219.99it/s]\n"
     ]
    },
    {
     "name": "stdout",
     "output_type": "stream",
     "text": [
      "Epoch 61, Loss: 0.0001993619390869014, Acc micro train: 0.9714741110801697, Acc macro train: 0.5620551109313965, Acc micro val: 0.003571792971342802, Acc macro val: 0.20000000298023224\n"
     ]
    },
    {
     "name": "stderr",
     "output_type": "stream",
     "text": [
      "100%|██████████| 76/76 [00:00<00:00, 239.03it/s]\n"
     ]
    },
    {
     "name": "stdout",
     "output_type": "stream",
     "text": [
      "Epoch 62, Loss: 0.0002016410521682532, Acc micro train: 0.9716796875, Acc macro train: 0.5792497992515564, Acc micro val: 0.003571792971342802, Acc macro val: 0.20000000298023224\n"
     ]
    },
    {
     "name": "stderr",
     "output_type": "stream",
     "text": [
      "100%|██████████| 76/76 [00:00<00:00, 230.95it/s]\n"
     ]
    },
    {
     "name": "stdout",
     "output_type": "stream",
     "text": [
      "Epoch 63, Loss: 0.0001981559573115173, Acc micro train: 0.9724249839782715, Acc macro train: 0.588466465473175, Acc micro val: 0.003571792971342802, Acc macro val: 0.20000000298023224\n"
     ]
    },
    {
     "name": "stderr",
     "output_type": "stream",
     "text": [
      "100%|██████████| 76/76 [00:00<00:00, 237.05it/s]\n"
     ]
    },
    {
     "name": "stdout",
     "output_type": "stream",
     "text": [
      "Epoch 64, Loss: 0.0002007336353060633, Acc micro train: 0.9718595743179321, Acc macro train: 0.5759082436561584, Acc micro val: 0.003571792971342802, Acc macro val: 0.20000000298023224\n"
     ]
    },
    {
     "name": "stderr",
     "output_type": "stream",
     "text": [
      "100%|██████████| 76/76 [00:00<00:00, 230.89it/s]\n"
     ]
    },
    {
     "name": "stdout",
     "output_type": "stream",
     "text": [
      "Epoch 65, Loss: 0.0001975759655504098, Acc micro train: 0.9719880819320679, Acc macro train: 0.5931989550590515, Acc micro val: 0.003571792971342802, Acc macro val: 0.20000000298023224\n"
     ]
    },
    {
     "name": "stderr",
     "output_type": "stream",
     "text": [
      "100%|██████████| 76/76 [00:00<00:00, 229.30it/s]\n"
     ]
    },
    {
     "name": "stdout",
     "output_type": "stream",
     "text": [
      "Epoch 66, Loss: 0.00019522102746567972, Acc micro train: 0.9723478555679321, Acc macro train: 0.5972718000411987, Acc micro val: 0.003571792971342802, Acc macro val: 0.20000000298023224\n"
     ]
    },
    {
     "name": "stderr",
     "output_type": "stream",
     "text": [
      "100%|██████████| 76/76 [00:00<00:00, 224.31it/s]\n"
     ]
    },
    {
     "name": "stdout",
     "output_type": "stream",
     "text": [
      "Epoch 67, Loss: 0.0001966573528568478, Acc micro train: 0.9724506735801697, Acc macro train: 0.6020035743713379, Acc micro val: 0.003571792971342802, Acc macro val: 0.20000000298023224\n"
     ]
    },
    {
     "name": "stderr",
     "output_type": "stream",
     "text": [
      "100%|██████████| 76/76 [00:00<00:00, 161.22it/s]\n"
     ]
    },
    {
     "name": "stdout",
     "output_type": "stream",
     "text": [
      "Epoch 68, Loss: 0.0001962463857469514, Acc micro train: 0.9719623923301697, Acc macro train: 0.5890939831733704, Acc micro val: 0.003571792971342802, Acc macro val: 0.20000000298023224\n"
     ]
    },
    {
     "name": "stderr",
     "output_type": "stream",
     "text": [
      "100%|██████████| 76/76 [00:00<00:00, 231.24it/s]\n"
     ]
    },
    {
     "name": "stdout",
     "output_type": "stream",
     "text": [
      "Epoch 69, Loss: 0.00019379971739062212, Acc micro train: 0.9725791811943054, Acc macro train: 0.6141827702522278, Acc micro val: 0.003571792971342802, Acc macro val: 0.20000000298023224\n"
     ]
    },
    {
     "name": "stderr",
     "output_type": "stream",
     "text": [
      "100%|██████████| 76/76 [00:00<00:00, 231.80it/s]\n"
     ]
    },
    {
     "name": "stdout",
     "output_type": "stream",
     "text": [
      "Epoch 70, Loss: 0.00019397420436885265, Acc micro train: 0.9725791811943054, Acc macro train: 0.6087172031402588, Acc micro val: 0.003571792971342802, Acc macro val: 0.20000000298023224\n"
     ]
    },
    {
     "name": "stderr",
     "output_type": "stream",
     "text": [
      "100%|██████████| 76/76 [00:00<00:00, 227.46it/s]\n"
     ]
    },
    {
     "name": "stdout",
     "output_type": "stream",
     "text": [
      "Epoch 71, Loss: 0.00019460799930971225, Acc micro train: 0.9728104472160339, Acc macro train: 0.6217777729034424, Acc micro val: 0.003571792971342802, Acc macro val: 0.20000000298023224\n"
     ]
    },
    {
     "name": "stderr",
     "output_type": "stream",
     "text": [
      "100%|██████████| 76/76 [00:00<00:00, 237.88it/s]\n"
     ]
    },
    {
     "name": "stdout",
     "output_type": "stream",
     "text": [
      "Epoch 72, Loss: 0.00019340695575625978, Acc micro train: 0.9730417132377625, Acc macro train: 0.6210119724273682, Acc micro val: 0.003571792971342802, Acc macro val: 0.20000000298023224\n"
     ]
    },
    {
     "name": "stderr",
     "output_type": "stream",
     "text": [
      "100%|██████████| 76/76 [00:00<00:00, 230.57it/s]\n"
     ]
    },
    {
     "name": "stdout",
     "output_type": "stream",
     "text": [
      "Epoch 73, Loss: 0.00019084681256523124, Acc micro train: 0.9730674624443054, Acc macro train: 0.6268907189369202, Acc micro val: 0.003571792971342802, Acc macro val: 0.20000000298023224\n"
     ]
    },
    {
     "name": "stderr",
     "output_type": "stream",
     "text": [
      "100%|██████████| 76/76 [00:00<00:00, 234.52it/s]\n"
     ]
    },
    {
     "name": "stdout",
     "output_type": "stream",
     "text": [
      "Epoch 74, Loss: 0.00019257693925430795, Acc micro train: 0.9732216000556946, Acc macro train: 0.6256059408187866, Acc micro val: 0.003571792971342802, Acc macro val: 0.20000000298023224\n"
     ]
    },
    {
     "name": "stderr",
     "output_type": "stream",
     "text": [
      "100%|██████████| 76/76 [00:00<00:00, 234.88it/s]\n"
     ]
    },
    {
     "name": "stdout",
     "output_type": "stream",
     "text": [
      "Epoch 75, Loss: 0.00019052841862934948, Acc micro train: 0.9731959104537964, Acc macro train: 0.6338598728179932, Acc micro val: 0.003571792971342802, Acc macro val: 0.20000000298023224\n"
     ]
    },
    {
     "name": "stderr",
     "output_type": "stream",
     "text": [
      "100%|██████████| 76/76 [00:00<00:00, 234.37it/s]\n"
     ]
    },
    {
     "name": "stdout",
     "output_type": "stream",
     "text": [
      "Epoch 76, Loss: 0.00018789708002988479, Acc micro train: 0.9733757972717285, Acc macro train: 0.6374949216842651, Acc micro val: 0.003571792971342802, Acc macro val: 0.20000000298023224\n"
     ]
    },
    {
     "name": "stderr",
     "output_type": "stream",
     "text": [
      "100%|██████████| 76/76 [00:00<00:00, 237.32it/s]\n"
     ]
    },
    {
     "name": "stdout",
     "output_type": "stream",
     "text": [
      "Epoch 77, Loss: 0.00018952567556816078, Acc micro train: 0.9735043048858643, Acc macro train: 0.6342846155166626, Acc micro val: 0.003571792971342802, Acc macro val: 0.20000000298023224\n"
     ]
    },
    {
     "name": "stderr",
     "output_type": "stream",
     "text": [
      "100%|██████████| 76/76 [00:00<00:00, 238.65it/s]\n"
     ]
    },
    {
     "name": "stdout",
     "output_type": "stream",
     "text": [
      "Epoch 78, Loss: 0.0001885639049022119, Acc micro train: 0.9736841917037964, Acc macro train: 0.6438294649124146, Acc micro val: 0.003571792971342802, Acc macro val: 0.20000000298023224\n"
     ]
    },
    {
     "name": "stderr",
     "output_type": "stream",
     "text": [
      "100%|██████████| 76/76 [00:00<00:00, 238.93it/s]\n"
     ]
    },
    {
     "name": "stdout",
     "output_type": "stream",
     "text": [
      "Epoch 79, Loss: 0.0001883549081607925, Acc micro train: 0.9736071228981018, Acc macro train: 0.642377495765686, Acc micro val: 0.003571792971342802, Acc macro val: 0.20000000298023224\n"
     ]
    },
    {
     "name": "stderr",
     "output_type": "stream",
     "text": [
      "100%|██████████| 76/76 [00:00<00:00, 238.76it/s]\n"
     ]
    },
    {
     "name": "stdout",
     "output_type": "stream",
     "text": [
      "Epoch 80, Loss: 0.00018514372493744845, Acc micro train: 0.9739412069320679, Acc macro train: 0.6503140926361084, Acc micro val: 0.003571792971342802, Acc macro val: 0.20000000298023224\n"
     ]
    },
    {
     "name": "stderr",
     "output_type": "stream",
     "text": [
      "100%|██████████| 76/76 [00:00<00:00, 238.63it/s]\n"
     ]
    },
    {
     "name": "stdout",
     "output_type": "stream",
     "text": [
      "Epoch 81, Loss: 0.00018660655232875938, Acc micro train: 0.9736585021018982, Acc macro train: 0.6482095718383789, Acc micro val: 0.003571792971342802, Acc macro val: 0.20000000298023224\n"
     ]
    },
    {
     "name": "stderr",
     "output_type": "stream",
     "text": [
      "100%|██████████| 76/76 [00:00<00:00, 155.87it/s]\n"
     ]
    },
    {
     "name": "stdout",
     "output_type": "stream",
     "text": [
      "Epoch 82, Loss: 0.00018708284770259536, Acc micro train: 0.9733501076698303, Acc macro train: 0.6382248401641846, Acc micro val: 0.003571792971342802, Acc macro val: 0.20000000298023224\n"
     ]
    },
    {
     "name": "stderr",
     "output_type": "stream",
     "text": [
      "100%|██████████| 76/76 [00:00<00:00, 237.72it/s]\n"
     ]
    },
    {
     "name": "stdout",
     "output_type": "stream",
     "text": [
      "Epoch 83, Loss: 0.00018653063636263735, Acc micro train: 0.9738383889198303, Acc macro train: 0.657330334186554, Acc micro val: 0.003571792971342802, Acc macro val: 0.20000000298023224\n"
     ]
    },
    {
     "name": "stderr",
     "output_type": "stream",
     "text": [
      "100%|██████████| 76/76 [00:00<00:00, 200.13it/s]\n"
     ]
    },
    {
     "name": "stdout",
     "output_type": "stream",
     "text": [
      "Epoch 84, Loss: 0.0001826695938166986, Acc micro train: 0.9743781089782715, Acc macro train: 0.6596206426620483, Acc micro val: 0.003571792971342802, Acc macro val: 0.20000000298023224\n"
     ]
    },
    {
     "name": "stderr",
     "output_type": "stream",
     "text": [
      "100%|██████████| 76/76 [00:00<00:00, 226.67it/s]\n"
     ]
    },
    {
     "name": "stdout",
     "output_type": "stream",
     "text": [
      "Epoch 85, Loss: 0.00018604820627886738, Acc micro train: 0.9738383889198303, Acc macro train: 0.6542352437973022, Acc micro val: 0.003571792971342802, Acc macro val: 0.20000000298023224\n"
     ]
    },
    {
     "name": "stderr",
     "output_type": "stream",
     "text": [
      "100%|██████████| 76/76 [00:00<00:00, 174.17it/s]\n"
     ]
    },
    {
     "name": "stdout",
     "output_type": "stream",
     "text": [
      "Epoch 86, Loss: 0.000182066483546346, Acc micro train: 0.9742239117622375, Acc macro train: 0.6687952876091003, Acc micro val: 0.003571792971342802, Acc macro val: 0.20000000298023224\n"
     ]
    },
    {
     "name": "stderr",
     "output_type": "stream",
     "text": [
      "100%|██████████| 76/76 [00:00<00:00, 259.66it/s]\n"
     ]
    },
    {
     "name": "stdout",
     "output_type": "stream",
     "text": [
      "Epoch 87, Loss: 0.0001822403752271219, Acc micro train: 0.9740954041481018, Acc macro train: 0.6643753051757812, Acc micro val: 0.003571792971342802, Acc macro val: 0.20000000298023224\n"
     ]
    },
    {
     "name": "stderr",
     "output_type": "stream",
     "text": [
      "100%|██████████| 76/76 [00:00<00:00, 261.40it/s]\n"
     ]
    },
    {
     "name": "stdout",
     "output_type": "stream",
     "text": [
      "Epoch 88, Loss: 0.00018083821257199807, Acc micro train: 0.9748406410217285, Acc macro train: 0.6791722178459167, Acc micro val: 0.003571792971342802, Acc macro val: 0.20000000298023224\n"
     ]
    },
    {
     "name": "stderr",
     "output_type": "stream",
     "text": [
      "100%|██████████| 76/76 [00:00<00:00, 255.21it/s]\n"
     ]
    },
    {
     "name": "stdout",
     "output_type": "stream",
     "text": [
      "Epoch 89, Loss: 0.00018118553151979234, Acc micro train: 0.9747635722160339, Acc macro train: 0.6774522066116333, Acc micro val: 0.003571792971342802, Acc macro val: 0.20000000298023224\n"
     ]
    },
    {
     "name": "stderr",
     "output_type": "stream",
     "text": [
      "100%|██████████| 76/76 [00:00<00:00, 256.57it/s]\n"
     ]
    },
    {
     "name": "stdout",
     "output_type": "stream",
     "text": [
      "Epoch 90, Loss: 0.00018133170532224567, Acc micro train: 0.9743523597717285, Acc macro train: 0.6627537608146667, Acc micro val: 0.003571792971342802, Acc macro val: 0.20000000298023224\n"
     ]
    },
    {
     "name": "stderr",
     "output_type": "stream",
     "text": [
      "100%|██████████| 76/76 [00:00<00:00, 259.23it/s]\n"
     ]
    },
    {
     "name": "stdout",
     "output_type": "stream",
     "text": [
      "Epoch 91, Loss: 0.00018065741228509216, Acc micro train: 0.9747121930122375, Acc macro train: 0.6760636568069458, Acc micro val: 0.003571792971342802, Acc macro val: 0.20000000298023224\n"
     ]
    },
    {
     "name": "stderr",
     "output_type": "stream",
     "text": [
      "100%|██████████| 76/76 [00:00<00:00, 257.11it/s]\n"
     ]
    },
    {
     "name": "stdout",
     "output_type": "stream",
     "text": [
      "Epoch 92, Loss: 0.00017927531931897478, Acc micro train: 0.9749434590339661, Acc macro train: 0.6802051067352295, Acc micro val: 0.003571792971342802, Acc macro val: 0.20000000298023224\n"
     ]
    },
    {
     "name": "stderr",
     "output_type": "stream",
     "text": [
      "100%|██████████| 76/76 [00:00<00:00, 258.13it/s]\n"
     ]
    },
    {
     "name": "stdout",
     "output_type": "stream",
     "text": [
      "Epoch 93, Loss: 0.00017690851653680395, Acc micro train: 0.9749948382377625, Acc macro train: 0.6859185695648193, Acc micro val: 0.003571792971342802, Acc macro val: 0.20000000298023224\n"
     ]
    },
    {
     "name": "stderr",
     "output_type": "stream",
     "text": [
      "100%|██████████| 76/76 [00:00<00:00, 258.28it/s]\n"
     ]
    },
    {
     "name": "stdout",
     "output_type": "stream",
     "text": [
      "Epoch 94, Loss: 0.00017859562602237937, Acc micro train: 0.9748663902282715, Acc macro train: 0.6848907470703125, Acc micro val: 0.003571792971342802, Acc macro val: 0.20000000298023224\n"
     ]
    },
    {
     "name": "stderr",
     "output_type": "stream",
     "text": [
      "100%|██████████| 76/76 [00:00<00:00, 170.19it/s]\n"
     ]
    },
    {
     "name": "stdout",
     "output_type": "stream",
     "text": [
      "Epoch 95, Loss: 0.00017715338596177024, Acc micro train: 0.9750719666481018, Acc macro train: 0.6858049035072327, Acc micro val: 0.003571792971342802, Acc macro val: 0.20000000298023224\n"
     ]
    },
    {
     "name": "stderr",
     "output_type": "stream",
     "text": [
      "100%|██████████| 76/76 [00:00<00:00, 260.83it/s]\n"
     ]
    },
    {
     "name": "stdout",
     "output_type": "stream",
     "text": [
      "Epoch 96, Loss: 0.00017593407296420842, Acc micro train: 0.9747635722160339, Acc macro train: 0.6850877404212952, Acc micro val: 0.003571792971342802, Acc macro val: 0.20000000298023224\n"
     ]
    },
    {
     "name": "stderr",
     "output_type": "stream",
     "text": [
      "100%|██████████| 76/76 [00:00<00:00, 258.43it/s]\n"
     ]
    },
    {
     "name": "stdout",
     "output_type": "stream",
     "text": [
      "Epoch 97, Loss: 0.00017694643916130626, Acc micro train: 0.97509765625, Acc macro train: 0.6971613168716431, Acc micro val: 0.003571792971342802, Acc macro val: 0.20000000298023224\n"
     ]
    },
    {
     "name": "stderr",
     "output_type": "stream",
     "text": [
      "100%|██████████| 76/76 [00:00<00:00, 256.57it/s]\n"
     ]
    },
    {
     "name": "stdout",
     "output_type": "stream",
     "text": [
      "Epoch 98, Loss: 0.00017770416908209654, Acc micro train: 0.9750719666481018, Acc macro train: 0.6904534101486206, Acc micro val: 0.003571792971342802, Acc macro val: 0.20000000298023224\n"
     ]
    },
    {
     "name": "stderr",
     "output_type": "stream",
     "text": [
      "100%|██████████| 76/76 [00:00<00:00, 253.62it/s]\n"
     ]
    },
    {
     "name": "stdout",
     "output_type": "stream",
     "text": [
      "Epoch 99, Loss: 0.00017423642244594604, Acc micro train: 0.9755859375, Acc macro train: 0.709632158279419, Acc micro val: 0.003571792971342802, Acc macro val: 0.20000000298023224\n"
     ]
    },
    {
     "name": "stderr",
     "output_type": "stream",
     "text": [
      "100%|██████████| 76/76 [00:00<00:00, 171.38it/s]\n"
     ]
    },
    {
     "name": "stdout",
     "output_type": "stream",
     "text": [
      "Epoch 100, Loss: 0.0001741132880712302, Acc micro train: 0.9753803610801697, Acc macro train: 0.7055884003639221, Acc micro val: 0.003571792971342802, Acc macro val: 0.20000000298023224\n"
     ]
    },
    {
     "name": "stderr",
     "output_type": "stream",
     "text": [
      "100%|██████████| 76/76 [00:00<00:00, 259.06it/s]\n"
     ]
    },
    {
     "name": "stdout",
     "output_type": "stream",
     "text": [
      "Epoch 101, Loss: 0.00017992686064440474, Acc micro train: 0.9753289222717285, Acc macro train: 0.6997584104537964, Acc micro val: 0.003571792971342802, Acc macro val: 0.20000000298023224\n"
     ]
    },
    {
     "name": "stderr",
     "output_type": "stream",
     "text": [
      "100%|██████████| 76/76 [00:00<00:00, 234.36it/s]\n"
     ]
    },
    {
     "name": "stdout",
     "output_type": "stream",
     "text": [
      "Epoch 102, Loss: 0.000175987503358296, Acc micro train: 0.9749691486358643, Acc macro train: 0.6942222714424133, Acc micro val: 0.003571792971342802, Acc macro val: 0.20000000298023224\n"
     ]
    },
    {
     "name": "stderr",
     "output_type": "stream",
     "text": [
      "100%|██████████| 76/76 [00:00<00:00, 250.28it/s]\n"
     ]
    },
    {
     "name": "stdout",
     "output_type": "stream",
     "text": [
      "Epoch 103, Loss: 0.00017341373647658138, Acc micro train: 0.9754574298858643, Acc macro train: 0.6982392072677612, Acc micro val: 0.003571792971342802, Acc macro val: 0.20000000298023224\n"
     ]
    },
    {
     "name": "stderr",
     "output_type": "stream",
     "text": [
      "100%|██████████| 76/76 [00:00<00:00, 257.90it/s]\n"
     ]
    },
    {
     "name": "stdout",
     "output_type": "stream",
     "text": [
      "Epoch 104, Loss: 0.00017579568479321063, Acc micro train: 0.9749434590339661, Acc macro train: 0.690941333770752, Acc micro val: 0.003571792971342802, Acc macro val: 0.20000000298023224\n"
     ]
    },
    {
     "name": "stderr",
     "output_type": "stream",
     "text": [
      "100%|██████████| 76/76 [00:00<00:00, 239.66it/s]\n"
     ]
    },
    {
     "name": "stdout",
     "output_type": "stream",
     "text": [
      "Epoch 105, Loss: 0.00017020601249889656, Acc micro train: 0.9759457111358643, Acc macro train: 0.7109723091125488, Acc micro val: 0.003571792971342802, Acc macro val: 0.20000000298023224\n"
     ]
    },
    {
     "name": "stderr",
     "output_type": "stream",
     "text": [
      "100%|██████████| 76/76 [00:00<00:00, 257.99it/s]\n"
     ]
    },
    {
     "name": "stdout",
     "output_type": "stream",
     "text": [
      "Epoch 106, Loss: 0.00017069315857795776, Acc micro train: 0.9759200215339661, Acc macro train: 0.7087485790252686, Acc micro val: 0.003571792971342802, Acc macro val: 0.20000000298023224\n"
     ]
    },
    {
     "name": "stderr",
     "output_type": "stream",
     "text": [
      "100%|██████████| 76/76 [00:00<00:00, 249.35it/s]\n"
     ]
    },
    {
     "name": "stdout",
     "output_type": "stream",
     "text": [
      "Epoch 107, Loss: 0.00017115203872103662, Acc micro train: 0.9758943319320679, Acc macro train: 0.7086927890777588, Acc micro val: 0.003571792971342802, Acc macro val: 0.20000000298023224\n"
     ]
    },
    {
     "name": "stderr",
     "output_type": "stream",
     "text": [
      "100%|██████████| 76/76 [00:00<00:00, 258.47it/s]\n"
     ]
    },
    {
     "name": "stdout",
     "output_type": "stream",
     "text": [
      "Epoch 108, Loss: 0.00016979060532353664, Acc micro train: 0.9759200215339661, Acc macro train: 0.7149831056594849, Acc micro val: 0.003571792971342802, Acc macro val: 0.20000000298023224\n"
     ]
    },
    {
     "name": "stderr",
     "output_type": "stream",
     "text": [
      "100%|██████████| 76/76 [00:00<00:00, 166.71it/s]\n"
     ]
    },
    {
     "name": "stdout",
     "output_type": "stream",
     "text": [
      "Epoch 109, Loss: 0.00016953794760571792, Acc micro train: 0.9758172035217285, Acc macro train: 0.720105767250061, Acc micro val: 0.003571792971342802, Acc macro val: 0.20000000298023224\n"
     ]
    },
    {
     "name": "stderr",
     "output_type": "stream",
     "text": [
      "100%|██████████| 76/76 [00:00<00:00, 257.64it/s]\n"
     ]
    },
    {
     "name": "stdout",
     "output_type": "stream",
     "text": [
      "Epoch 110, Loss: 0.00016763970095027333, Acc micro train: 0.9763826131820679, Acc macro train: 0.7295372486114502, Acc micro val: 0.003571792971342802, Acc macro val: 0.20000000298023224\n"
     ]
    },
    {
     "name": "stderr",
     "output_type": "stream",
     "text": [
      "100%|██████████| 76/76 [00:00<00:00, 259.48it/s]\n"
     ]
    },
    {
     "name": "stdout",
     "output_type": "stream",
     "text": [
      "Epoch 111, Loss: 0.0001682152921866711, Acc micro train: 0.9762541055679321, Acc macro train: 0.7115148305892944, Acc micro val: 0.003571792971342802, Acc macro val: 0.20000000298023224\n"
     ]
    },
    {
     "name": "stderr",
     "output_type": "stream",
     "text": [
      "100%|██████████| 76/76 [00:00<00:00, 263.42it/s]\n"
     ]
    },
    {
     "name": "stdout",
     "output_type": "stream",
     "text": [
      "Epoch 112, Loss: 0.00016819046449032253, Acc micro train: 0.9761770367622375, Acc macro train: 0.7289875149726868, Acc micro val: 0.003571792971342802, Acc macro val: 0.20000000298023224\n"
     ]
    },
    {
     "name": "stderr",
     "output_type": "stream",
     "text": [
      "100%|██████████| 76/76 [00:00<00:00, 263.94it/s]\n"
     ]
    },
    {
     "name": "stdout",
     "output_type": "stream",
     "text": [
      "Epoch 113, Loss: 0.0001708888600260575, Acc micro train: 0.9756116271018982, Acc macro train: 0.7216328978538513, Acc micro val: 0.003571792971342802, Acc macro val: 0.20000000298023224\n"
     ]
    },
    {
     "name": "stderr",
     "output_type": "stream",
     "text": [
      "100%|██████████| 76/76 [00:00<00:00, 166.16it/s]\n"
     ]
    },
    {
     "name": "stdout",
     "output_type": "stream",
     "text": [
      "Epoch 114, Loss: 0.00016828036761790604, Acc micro train: 0.9760999083518982, Acc macro train: 0.7264171242713928, Acc micro val: 0.003571792971342802, Acc macro val: 0.20000000298023224\n"
     ]
    },
    {
     "name": "stderr",
     "output_type": "stream",
     "text": [
      "100%|██████████| 76/76 [00:00<00:00, 262.00it/s]\n"
     ]
    },
    {
     "name": "stdout",
     "output_type": "stream",
     "text": [
      "Epoch 115, Loss: 0.0001658997060866737, Acc micro train: 0.9765111207962036, Acc macro train: 0.7343621253967285, Acc micro val: 0.003571792971342802, Acc macro val: 0.20000000298023224\n"
     ]
    },
    {
     "name": "stderr",
     "output_type": "stream",
     "text": [
      "100%|██████████| 76/76 [00:00<00:00, 265.93it/s]\n"
     ]
    },
    {
     "name": "stdout",
     "output_type": "stream",
     "text": [
      "Epoch 116, Loss: 0.00016594281168657175, Acc micro train: 0.9763312339782715, Acc macro train: 0.7240080237388611, Acc micro val: 0.003571792971342802, Acc macro val: 0.20000000298023224\n"
     ]
    },
    {
     "name": "stderr",
     "output_type": "stream",
     "text": [
      "100%|██████████| 76/76 [00:00<00:00, 265.68it/s]\n"
     ]
    },
    {
     "name": "stdout",
     "output_type": "stream",
     "text": [
      "Epoch 117, Loss: 0.00016710841893051765, Acc micro train: 0.9760999083518982, Acc macro train: 0.7246899008750916, Acc micro val: 0.003571792971342802, Acc macro val: 0.20000000298023224\n"
     ]
    },
    {
     "name": "stderr",
     "output_type": "stream",
     "text": [
      "100%|██████████| 76/76 [00:00<00:00, 233.52it/s]\n"
     ]
    },
    {
     "name": "stdout",
     "output_type": "stream",
     "text": [
      "Epoch 118, Loss: 0.00016485786624970423, Acc micro train: 0.9763569235801697, Acc macro train: 0.7259385585784912, Acc micro val: 0.003571792971342802, Acc macro val: 0.20000000298023224\n"
     ]
    },
    {
     "name": "stderr",
     "output_type": "stream",
     "text": [
      "100%|██████████| 76/76 [00:00<00:00, 253.74it/s]\n"
     ]
    },
    {
     "name": "stdout",
     "output_type": "stream",
     "text": [
      "Epoch 119, Loss: 0.00016737649668687412, Acc micro train: 0.9760485291481018, Acc macro train: 0.7254823446273804, Acc micro val: 0.003571792971342802, Acc macro val: 0.20000000298023224\n"
     ]
    },
    {
     "name": "stderr",
     "output_type": "stream",
     "text": [
      "100%|██████████| 76/76 [00:00<00:00, 246.89it/s]\n"
     ]
    },
    {
     "name": "stdout",
     "output_type": "stream",
     "text": [
      "Epoch 120, Loss: 0.00016302778728353247, Acc micro train: 0.9769222736358643, Acc macro train: 0.7368266582489014, Acc micro val: 0.003571792971342802, Acc macro val: 0.20000000298023224\n"
     ]
    },
    {
     "name": "stderr",
     "output_type": "stream",
     "text": [
      "100%|██████████| 76/76 [00:00<00:00, 239.02it/s]\n"
     ]
    },
    {
     "name": "stdout",
     "output_type": "stream",
     "text": [
      "Epoch 121, Loss: 0.00016516818417671965, Acc micro train: 0.9761255979537964, Acc macro train: 0.7314854860305786, Acc micro val: 0.003571792971342802, Acc macro val: 0.20000000298023224\n"
     ]
    },
    {
     "name": "stderr",
     "output_type": "stream",
     "text": [
      "100%|██████████| 76/76 [00:00<00:00, 265.44it/s]\n"
     ]
    },
    {
     "name": "stdout",
     "output_type": "stream",
     "text": [
      "Epoch 122, Loss: 0.00016910139097461283, Acc micro train: 0.9757658243179321, Acc macro train: 0.724187970161438, Acc micro val: 0.003571792971342802, Acc macro val: 0.20000000298023224\n"
     ]
    },
    {
     "name": "stderr",
     "output_type": "stream",
     "text": [
      "100%|██████████| 76/76 [00:00<00:00, 170.94it/s]\n"
     ]
    },
    {
     "name": "stdout",
     "output_type": "stream",
     "text": [
      "Epoch 123, Loss: 0.0001632885051368861, Acc micro train: 0.9766653180122375, Acc macro train: 0.7445492148399353, Acc micro val: 0.003571792971342802, Acc macro val: 0.20000000298023224\n"
     ]
    },
    {
     "name": "stderr",
     "output_type": "stream",
     "text": [
      "100%|██████████| 76/76 [00:00<00:00, 265.22it/s]\n"
     ]
    },
    {
     "name": "stdout",
     "output_type": "stream",
     "text": [
      "Epoch 124, Loss: 0.00016366325348658988, Acc micro train: 0.9765368103981018, Acc macro train: 0.7388071417808533, Acc micro val: 0.003571792971342802, Acc macro val: 0.20000000298023224\n"
     ]
    },
    {
     "name": "stderr",
     "output_type": "stream",
     "text": [
      "100%|██████████| 76/76 [00:00<00:00, 238.93it/s]\n"
     ]
    },
    {
     "name": "stdout",
     "output_type": "stream",
     "text": [
      "Epoch 125, Loss: 0.00016157252871488035, Acc micro train: 0.97705078125, Acc macro train: 0.7478258013725281, Acc micro val: 0.003571792971342802, Acc macro val: 0.20000000298023224\n"
     ]
    },
    {
     "name": "stderr",
     "output_type": "stream",
     "text": [
      "100%|██████████| 76/76 [00:00<00:00, 230.98it/s]\n"
     ]
    },
    {
     "name": "stdout",
     "output_type": "stream",
     "text": [
      "Epoch 126, Loss: 0.0001609256373250688, Acc micro train: 0.97705078125, Acc macro train: 0.7508926391601562, Acc micro val: 0.003571792971342802, Acc macro val: 0.20000000298023224\n"
     ]
    },
    {
     "name": "stderr",
     "output_type": "stream",
     "text": [
      "100%|██████████| 76/76 [00:00<00:00, 228.57it/s]\n"
     ]
    },
    {
     "name": "stdout",
     "output_type": "stream",
     "text": [
      "Epoch 127, Loss: 0.0001617457435453969, Acc micro train: 0.97705078125, Acc macro train: 0.7456527352333069, Acc micro val: 0.003571792971342802, Acc macro val: 0.20000000298023224\n"
     ]
    },
    {
     "name": "stderr",
     "output_type": "stream",
     "text": [
      "100%|██████████| 76/76 [00:00<00:00, 159.05it/s]\n"
     ]
    },
    {
     "name": "stdout",
     "output_type": "stream",
     "text": [
      "Epoch 128, Loss: 0.00015956683766494233, Acc micro train: 0.9771278500556946, Acc macro train: 0.7497732043266296, Acc micro val: 0.003571792971342802, Acc macro val: 0.20000000298023224\n"
     ]
    },
    {
     "name": "stderr",
     "output_type": "stream",
     "text": [
      "100%|██████████| 76/76 [00:00<00:00, 230.43it/s]\n"
     ]
    },
    {
     "name": "stdout",
     "output_type": "stream",
     "text": [
      "Epoch 129, Loss: 0.00016104471592102225, Acc micro train: 0.9771278500556946, Acc macro train: 0.7428004741668701, Acc micro val: 0.003571792971342802, Acc macro val: 0.20000000298023224\n"
     ]
    },
    {
     "name": "stderr",
     "output_type": "stream",
     "text": [
      "100%|██████████| 76/76 [00:00<00:00, 232.23it/s]\n"
     ]
    },
    {
     "name": "stdout",
     "output_type": "stream",
     "text": [
      "Epoch 130, Loss: 0.00015952482010112335, Acc micro train: 0.9772049784660339, Acc macro train: 0.7504525780677795, Acc micro val: 0.003571792971342802, Acc macro val: 0.20000000298023224\n"
     ]
    },
    {
     "name": "stderr",
     "output_type": "stream",
     "text": [
      "100%|██████████| 76/76 [00:00<00:00, 224.09it/s]\n"
     ]
    },
    {
     "name": "stdout",
     "output_type": "stream",
     "text": [
      "Epoch 131, Loss: 0.0001603594387285994, Acc micro train: 0.9772563576698303, Acc macro train: 0.7509880065917969, Acc micro val: 0.003571792971342802, Acc macro val: 0.20000000298023224\n"
     ]
    },
    {
     "name": "stderr",
     "output_type": "stream",
     "text": [
      "100%|██████████| 76/76 [00:00<00:00, 234.17it/s]\n"
     ]
    },
    {
     "name": "stdout",
     "output_type": "stream",
     "text": [
      "Epoch 132, Loss: 0.00015739856320961916, Acc micro train: 0.9774619936943054, Acc macro train: 0.7579160928726196, Acc micro val: 0.003571792971342802, Acc macro val: 0.20000000298023224\n"
     ]
    },
    {
     "name": "stderr",
     "output_type": "stream",
     "text": [
      "100%|██████████| 76/76 [00:00<00:00, 234.19it/s]\n"
     ]
    },
    {
     "name": "stdout",
     "output_type": "stream",
     "text": [
      "Epoch 133, Loss: 0.0001592848785376508, Acc micro train: 0.9767423868179321, Acc macro train: 0.7478847503662109, Acc micro val: 0.003571792971342802, Acc macro val: 0.20000000298023224\n"
     ]
    },
    {
     "name": "stderr",
     "output_type": "stream",
     "text": [
      "100%|██████████| 76/76 [00:00<00:00, 233.83it/s]\n"
     ]
    },
    {
     "name": "stdout",
     "output_type": "stream",
     "text": [
      "Epoch 134, Loss: 0.0001601583974727871, Acc micro train: 0.9767423868179321, Acc macro train: 0.7464760541915894, Acc micro val: 0.003571792971342802, Acc macro val: 0.20000000298023224\n"
     ]
    },
    {
     "name": "stderr",
     "output_type": "stream",
     "text": [
      "100%|██████████| 76/76 [00:00<00:00, 228.88it/s]\n"
     ]
    },
    {
     "name": "stdout",
     "output_type": "stream",
     "text": [
      "Epoch 135, Loss: 0.00016031286561370178, Acc micro train: 0.9767423868179321, Acc macro train: 0.7465043067932129, Acc micro val: 0.003571792971342802, Acc macro val: 0.20000000298023224\n"
     ]
    },
    {
     "name": "stderr",
     "output_type": "stream",
     "text": [
      "100%|██████████| 76/76 [00:00<00:00, 236.79it/s]\n"
     ]
    },
    {
     "name": "stdout",
     "output_type": "stream",
     "text": [
      "Epoch 136, Loss: 0.00015977596481480942, Acc micro train: 0.9768708944320679, Acc macro train: 0.7534710168838501, Acc micro val: 0.003571792971342802, Acc macro val: 0.20000000298023224\n"
     ]
    },
    {
     "name": "stderr",
     "output_type": "stream",
     "text": [
      "100%|██████████| 76/76 [00:00<00:00, 167.22it/s]\n"
     ]
    },
    {
     "name": "stdout",
     "output_type": "stream",
     "text": [
      "Epoch 137, Loss: 0.00015932994891380378, Acc micro train: 0.9773848652839661, Acc macro train: 0.7619724273681641, Acc micro val: 0.003571792971342802, Acc macro val: 0.20000000298023224\n"
     ]
    },
    {
     "name": "stderr",
     "output_type": "stream",
     "text": [
      "100%|██████████| 76/76 [00:00<00:00, 239.76it/s]\n"
     ]
    },
    {
     "name": "stdout",
     "output_type": "stream",
     "text": [
      "Epoch 138, Loss: 0.0001562540781421003, Acc micro train: 0.9775904417037964, Acc macro train: 0.7616946697235107, Acc micro val: 0.003571792971342802, Acc macro val: 0.20000000298023224\n"
     ]
    },
    {
     "name": "stderr",
     "output_type": "stream",
     "text": [
      "100%|██████████| 76/76 [00:00<00:00, 239.97it/s]\n"
     ]
    },
    {
     "name": "stdout",
     "output_type": "stream",
     "text": [
      "Epoch 139, Loss: 0.00015674987243035945, Acc micro train: 0.9774105548858643, Acc macro train: 0.7507078051567078, Acc micro val: 0.003571792971342802, Acc macro val: 0.20000000298023224\n"
     ]
    },
    {
     "name": "stderr",
     "output_type": "stream",
     "text": [
      "100%|██████████| 76/76 [00:00<00:00, 247.80it/s]\n"
     ]
    },
    {
     "name": "stdout",
     "output_type": "stream",
     "text": [
      "Epoch 140, Loss: 0.00015718073671371383, Acc micro train: 0.9775133728981018, Acc macro train: 0.7674921751022339, Acc micro val: 0.003571792971342802, Acc macro val: 0.20000000298023224\n"
     ]
    },
    {
     "name": "stderr",
     "output_type": "stream",
     "text": [
      "100%|██████████| 76/76 [00:00<00:00, 249.66it/s]\n"
     ]
    },
    {
     "name": "stdout",
     "output_type": "stream",
     "text": [
      "Epoch 141, Loss: 0.00015633271538654356, Acc micro train: 0.9772306680679321, Acc macro train: 0.7575258016586304, Acc micro val: 0.003571792971342802, Acc macro val: 0.20000000298023224\n"
     ]
    },
    {
     "name": "stderr",
     "output_type": "stream",
     "text": [
      "100%|██████████| 76/76 [00:00<00:00, 237.56it/s]\n"
     ]
    },
    {
     "name": "stdout",
     "output_type": "stream",
     "text": [
      "Epoch 142, Loss: 0.0001560125355582979, Acc micro train: 0.9775133728981018, Acc macro train: 0.7673230767250061, Acc micro val: 0.003571792971342802, Acc macro val: 0.20000000298023224\n"
     ]
    },
    {
     "name": "stderr",
     "output_type": "stream",
     "text": [
      "100%|██████████| 76/76 [00:00<00:00, 245.29it/s]\n"
     ]
    },
    {
     "name": "stdout",
     "output_type": "stream",
     "text": [
      "Epoch 143, Loss: 0.00015386144982984645, Acc micro train: 0.9778988361358643, Acc macro train: 0.7639329433441162, Acc micro val: 0.003571792971342802, Acc macro val: 0.20000000298023224\n"
     ]
    },
    {
     "name": "stderr",
     "output_type": "stream",
     "text": [
      "100%|██████████| 76/76 [00:00<00:00, 242.22it/s]\n"
     ]
    },
    {
     "name": "stdout",
     "output_type": "stream",
     "text": [
      "Epoch 144, Loss: 0.00015258668710330583, Acc micro train: 0.9777189493179321, Acc macro train: 0.7734202146530151, Acc micro val: 0.003571792971342802, Acc macro val: 0.20000000298023224\n"
     ]
    },
    {
     "name": "stderr",
     "output_type": "stream",
     "text": [
      "100%|██████████| 76/76 [00:00<00:00, 250.47it/s]\n"
     ]
    },
    {
     "name": "stdout",
     "output_type": "stream",
     "text": [
      "Epoch 145, Loss: 0.0001519972868289385, Acc micro train: 0.9781815409660339, Acc macro train: 0.7720161080360413, Acc micro val: 0.003571792971342802, Acc macro val: 0.20000000298023224\n"
     ]
    },
    {
     "name": "stderr",
     "output_type": "stream",
     "text": [
      "100%|██████████| 76/76 [00:00<00:00, 234.34it/s]\n"
     ]
    },
    {
     "name": "stdout",
     "output_type": "stream",
     "text": [
      "Epoch 146, Loss: 0.0001522953467420726, Acc micro train: 0.9780016541481018, Acc macro train: 0.7693884372711182, Acc micro val: 0.003571792971342802, Acc macro val: 0.20000000298023224\n"
     ]
    },
    {
     "name": "stderr",
     "output_type": "stream",
     "text": [
      "100%|██████████| 76/76 [00:00<00:00, 243.26it/s]\n"
     ]
    },
    {
     "name": "stdout",
     "output_type": "stream",
     "text": [
      "Epoch 147, Loss: 0.00015216572074508965, Acc micro train: 0.9781815409660339, Acc macro train: 0.7716029286384583, Acc micro val: 0.003571792971342802, Acc macro val: 0.20000000298023224\n"
     ]
    },
    {
     "name": "stderr",
     "output_type": "stream",
     "text": [
      "100%|██████████| 76/76 [00:00<00:00, 243.39it/s]\n"
     ]
    },
    {
     "name": "stdout",
     "output_type": "stream",
     "text": [
      "Epoch 148, Loss: 0.00015046893166397102, Acc micro train: 0.9782843589782715, Acc macro train: 0.782199501991272, Acc micro val: 0.003571792971342802, Acc macro val: 0.20000000298023224\n"
     ]
    },
    {
     "name": "stderr",
     "output_type": "stream",
     "text": [
      "100%|██████████| 76/76 [00:00<00:00, 238.81it/s]\n"
     ]
    },
    {
     "name": "stdout",
     "output_type": "stream",
     "text": [
      "Epoch 149, Loss: 0.0001521173518526397, Acc micro train: 0.9775904417037964, Acc macro train: 0.7684556841850281, Acc micro val: 0.003571792971342802, Acc macro val: 0.20000000298023224\n"
     ]
    },
    {
     "name": "stderr",
     "output_type": "stream",
     "text": [
      "100%|██████████| 76/76 [00:00<00:00, 239.99it/s]\n"
     ]
    },
    {
     "name": "stdout",
     "output_type": "stream",
     "text": [
      "Epoch 150, Loss: 0.00015638784698354395, Acc micro train: 0.9774105548858643, Acc macro train: 0.7601325511932373, Acc micro val: 0.003571792971342802, Acc macro val: 0.20000000298023224\n"
     ]
    },
    {
     "name": "stderr",
     "output_type": "stream",
     "text": [
      "100%|██████████| 76/76 [00:00<00:00, 222.92it/s]\n"
     ]
    },
    {
     "name": "stdout",
     "output_type": "stream",
     "text": [
      "Epoch 151, Loss: 0.0001517854163491759, Acc micro train: 0.9778988361358643, Acc macro train: 0.7658026814460754, Acc micro val: 0.003571792971342802, Acc macro val: 0.20000000298023224\n"
     ]
    },
    {
     "name": "stderr",
     "output_type": "stream",
     "text": [
      "100%|██████████| 76/76 [00:00<00:00, 232.87it/s]\n"
     ]
    },
    {
     "name": "stdout",
     "output_type": "stream",
     "text": [
      "Epoch 152, Loss: 0.00015112948172282782, Acc micro train: 0.9780530333518982, Acc macro train: 0.778306782245636, Acc micro val: 0.003571792971342802, Acc macro val: 0.20000000298023224\n"
     ]
    },
    {
     "name": "stderr",
     "output_type": "stream",
     "text": [
      "100%|██████████| 76/76 [00:00<00:00, 237.80it/s]\n"
     ]
    },
    {
     "name": "stdout",
     "output_type": "stream",
     "text": [
      "Epoch 153, Loss: 0.00014854869626226166, Acc micro train: 0.9787726402282715, Acc macro train: 0.7807063460350037, Acc micro val: 0.003571792971342802, Acc macro val: 0.20000000298023224\n"
     ]
    },
    {
     "name": "stderr",
     "output_type": "stream",
     "text": [
      "100%|██████████| 76/76 [00:00<00:00, 236.95it/s]\n"
     ]
    },
    {
     "name": "stdout",
     "output_type": "stream",
     "text": [
      "Epoch 154, Loss: 0.0001504611674187405, Acc micro train: 0.9782329201698303, Acc macro train: 0.7759631872177124, Acc micro val: 0.003571792971342802, Acc macro val: 0.20000000298023224\n"
     ]
    },
    {
     "name": "stderr",
     "output_type": "stream",
     "text": [
      "100%|██████████| 76/76 [00:00<00:00, 165.76it/s]\n"
     ]
    },
    {
     "name": "stdout",
     "output_type": "stream",
     "text": [
      "Epoch 155, Loss: 0.0001519171150515627, Acc micro train: 0.9780530333518982, Acc macro train: 0.7718603610992432, Acc micro val: 0.003571792971342802, Acc macro val: 0.20000000298023224\n"
     ]
    },
    {
     "name": "stderr",
     "output_type": "stream",
     "text": [
      "100%|██████████| 76/76 [00:00<00:00, 243.94it/s]\n"
     ]
    },
    {
     "name": "stdout",
     "output_type": "stream",
     "text": [
      "Epoch 156, Loss: 0.00015112122806571897, Acc micro train: 0.9782586097717285, Acc macro train: 0.7817786335945129, Acc micro val: 0.003571792971342802, Acc macro val: 0.20000000298023224\n"
     ]
    },
    {
     "name": "stderr",
     "output_type": "stream",
     "text": [
      "100%|██████████| 76/76 [00:00<00:00, 232.36it/s]\n"
     ]
    },
    {
     "name": "stdout",
     "output_type": "stream",
     "text": [
      "Epoch 157, Loss: 0.00015135234728859697, Acc micro train: 0.9783100485801697, Acc macro train: 0.7796308398246765, Acc micro val: 0.003571792971342802, Acc macro val: 0.20000000298023224\n"
     ]
    },
    {
     "name": "stderr",
     "output_type": "stream",
     "text": [
      "100%|██████████| 76/76 [00:00<00:00, 232.60it/s]\n"
     ]
    },
    {
     "name": "stdout",
     "output_type": "stream",
     "text": [
      "Epoch 158, Loss: 0.00014883386888372448, Acc micro train: 0.9782072305679321, Acc macro train: 0.7768787145614624, Acc micro val: 0.003571792971342802, Acc macro val: 0.20000000298023224\n"
     ]
    },
    {
     "name": "stderr",
     "output_type": "stream",
     "text": [
      "100%|██████████| 76/76 [00:00<00:00, 230.20it/s]\n"
     ]
    },
    {
     "name": "stdout",
     "output_type": "stream",
     "text": [
      "Epoch 159, Loss: 0.0001506952237782376, Acc micro train: 0.9781301617622375, Acc macro train: 0.7791985273361206, Acc micro val: 0.003571792971342802, Acc macro val: 0.20000000298023224\n"
     ]
    },
    {
     "name": "stderr",
     "output_type": "stream",
     "text": [
      "100%|██████████| 76/76 [00:00<00:00, 234.37it/s]\n"
     ]
    },
    {
     "name": "stdout",
     "output_type": "stream",
     "text": [
      "Epoch 160, Loss: 0.00014792494172632376, Acc micro train: 0.9782329201698303, Acc macro train: 0.7796386480331421, Acc micro val: 0.003571792971342802, Acc macro val: 0.20000000298023224\n"
     ]
    },
    {
     "name": "stderr",
     "output_type": "stream",
     "text": [
      "100%|██████████| 76/76 [00:00<00:00, 249.62it/s]\n"
     ]
    },
    {
     "name": "stdout",
     "output_type": "stream",
     "text": [
      "Epoch 161, Loss: 0.00014674018154955056, Acc micro train: 0.9782329201698303, Acc macro train: 0.7766282558441162, Acc micro val: 0.003571792971342802, Acc macro val: 0.20000000298023224\n"
     ]
    },
    {
     "name": "stderr",
     "output_type": "stream",
     "text": [
      "100%|██████████| 76/76 [00:00<00:00, 250.96it/s]\n"
     ]
    },
    {
     "name": "stdout",
     "output_type": "stream",
     "text": [
      "Epoch 162, Loss: 0.00014748702892340284, Acc micro train: 0.9785413146018982, Acc macro train: 0.7800283432006836, Acc micro val: 0.003571792971342802, Acc macro val: 0.20000000298023224\n"
     ]
    },
    {
     "name": "stderr",
     "output_type": "stream",
     "text": [
      "100%|██████████| 76/76 [00:00<00:00, 247.77it/s]\n"
     ]
    },
    {
     "name": "stdout",
     "output_type": "stream",
     "text": [
      "Epoch 163, Loss: 0.0001525807978597101, Acc micro train: 0.9781301617622375, Acc macro train: 0.7775828242301941, Acc micro val: 0.003571792971342802, Acc macro val: 0.20000000298023224\n"
     ]
    },
    {
     "name": "stderr",
     "output_type": "stream",
     "text": [
      "100%|██████████| 76/76 [00:00<00:00, 165.48it/s]\n"
     ]
    },
    {
     "name": "stdout",
     "output_type": "stream",
     "text": [
      "Epoch 164, Loss: 0.0001443346165672081, Acc micro train: 0.9789268374443054, Acc macro train: 0.7925646305084229, Acc micro val: 0.003571792971342802, Acc macro val: 0.20000000298023224\n"
     ]
    },
    {
     "name": "stderr",
     "output_type": "stream",
     "text": [
      "100%|██████████| 76/76 [00:00<00:00, 230.71it/s]\n"
     ]
    },
    {
     "name": "stdout",
     "output_type": "stream",
     "text": [
      "Epoch 165, Loss: 0.00014812470636707726, Acc micro train: 0.9781301617622375, Acc macro train: 0.7794246673583984, Acc micro val: 0.003571792971342802, Acc macro val: 0.20000000298023224\n"
     ]
    },
    {
     "name": "stderr",
     "output_type": "stream",
     "text": [
      "100%|██████████| 76/76 [00:00<00:00, 231.42it/s]\n"
     ]
    },
    {
     "name": "stdout",
     "output_type": "stream",
     "text": [
      "Epoch 166, Loss: 0.00014578942678553395, Acc micro train: 0.9784899353981018, Acc macro train: 0.7766007781028748, Acc micro val: 0.003571792971342802, Acc macro val: 0.20000000298023224\n"
     ]
    },
    {
     "name": "stderr",
     "output_type": "stream",
     "text": [
      "100%|██████████| 76/76 [00:00<00:00, 221.39it/s]\n"
     ]
    },
    {
     "name": "stdout",
     "output_type": "stream",
     "text": [
      "Epoch 167, Loss: 0.0001472038000246445, Acc micro train: 0.9782843589782715, Acc macro train: 0.7867923974990845, Acc micro val: 0.003571792971342802, Acc macro val: 0.20000000298023224\n"
     ]
    },
    {
     "name": "stderr",
     "output_type": "stream",
     "text": [
      "100%|██████████| 76/76 [00:00<00:00, 234.91it/s]\n"
     ]
    },
    {
     "name": "stdout",
     "output_type": "stream",
     "text": [
      "Epoch 168, Loss: 0.0001509584999944028, Acc micro train: 0.9783614277839661, Acc macro train: 0.7794950008392334, Acc micro val: 0.003571792971342802, Acc macro val: 0.20000000298023224\n"
     ]
    },
    {
     "name": "stderr",
     "output_type": "stream",
     "text": [
      "100%|██████████| 76/76 [00:00<00:00, 155.89it/s]\n"
     ]
    },
    {
     "name": "stdout",
     "output_type": "stream",
     "text": [
      "Epoch 169, Loss: 0.0001458977655994826, Acc micro train: 0.9789525270462036, Acc macro train: 0.7900381088256836, Acc micro val: 0.003571792971342802, Acc macro val: 0.20000000298023224\n"
     ]
    },
    {
     "name": "stderr",
     "output_type": "stream",
     "text": [
      "100%|██████████| 76/76 [00:00<00:00, 235.56it/s]\n"
     ]
    },
    {
     "name": "stdout",
     "output_type": "stream",
     "text": [
      "Epoch 170, Loss: 0.00014414648916951105, Acc micro train: 0.97900390625, Acc macro train: 0.7888410687446594, Acc micro val: 0.003571792971342802, Acc macro val: 0.20000000298023224\n"
     ]
    },
    {
     "name": "stderr",
     "output_type": "stream",
     "text": [
      "100%|██████████| 76/76 [00:00<00:00, 238.09it/s]\n"
     ]
    },
    {
     "name": "stdout",
     "output_type": "stream",
     "text": [
      "Epoch 171, Loss: 0.00014602988399465416, Acc micro train: 0.9784642457962036, Acc macro train: 0.7770712971687317, Acc micro val: 0.003571792971342802, Acc macro val: 0.20000000298023224\n"
     ]
    },
    {
     "name": "stderr",
     "output_type": "stream",
     "text": [
      "100%|██████████| 76/76 [00:00<00:00, 232.72it/s]\n"
     ]
    },
    {
     "name": "stdout",
     "output_type": "stream",
     "text": [
      "Epoch 172, Loss: 0.00014369812277980102, Acc micro train: 0.9789268374443054, Acc macro train: 0.7896923422813416, Acc micro val: 0.003571792971342802, Acc macro val: 0.20000000298023224\n"
     ]
    },
    {
     "name": "stderr",
     "output_type": "stream",
     "text": [
      "100%|██████████| 76/76 [00:00<00:00, 235.00it/s]\n"
     ]
    },
    {
     "name": "stdout",
     "output_type": "stream",
     "text": [
      "Epoch 173, Loss: 0.0001409129105764772, Acc micro train: 0.9794408082962036, Acc macro train: 0.7985979318618774, Acc micro val: 0.003571792971342802, Acc macro val: 0.20000000298023224\n"
     ]
    },
    {
     "name": "stderr",
     "output_type": "stream",
     "text": [
      "100%|██████████| 76/76 [00:00<00:00, 235.77it/s]\n"
     ]
    },
    {
     "name": "stdout",
     "output_type": "stream",
     "text": [
      "Epoch 174, Loss: 0.00014411838415299074, Acc micro train: 0.9789268374443054, Acc macro train: 0.7848002910614014, Acc micro val: 0.003571792971342802, Acc macro val: 0.20000000298023224\n"
     ]
    },
    {
     "name": "stderr",
     "output_type": "stream",
     "text": [
      "100%|██████████| 76/76 [00:00<00:00, 237.30it/s]\n"
     ]
    },
    {
     "name": "stdout",
     "output_type": "stream",
     "text": [
      "Epoch 175, Loss: 0.00014310887011791126, Acc micro train: 0.9793893694877625, Acc macro train: 0.7933670282363892, Acc micro val: 0.003571792971342802, Acc macro val: 0.20000000298023224\n"
     ]
    },
    {
     "name": "stderr",
     "output_type": "stream",
     "text": [
      "100%|██████████| 76/76 [00:00<00:00, 236.77it/s]\n"
     ]
    },
    {
     "name": "stdout",
     "output_type": "stream",
     "text": [
      "Epoch 176, Loss: 0.00014304981818824024, Acc micro train: 0.9788497090339661, Acc macro train: 0.7910155057907104, Acc micro val: 0.003571792971342802, Acc macro val: 0.20000000298023224\n"
     ]
    },
    {
     "name": "stderr",
     "output_type": "stream",
     "text": [
      "100%|██████████| 76/76 [00:00<00:00, 228.99it/s]\n"
     ]
    },
    {
     "name": "stdout",
     "output_type": "stream",
     "text": [
      "Epoch 177, Loss: 0.00014408838431693375, Acc micro train: 0.9788497090339661, Acc macro train: 0.7881617546081543, Acc micro val: 0.003571792971342802, Acc macro val: 0.20000000298023224\n"
     ]
    },
    {
     "name": "stderr",
     "output_type": "stream",
     "text": [
      "100%|██████████| 76/76 [00:00<00:00, 162.31it/s]\n"
     ]
    },
    {
     "name": "stdout",
     "output_type": "stream",
     "text": [
      "Epoch 178, Loss: 0.0001398343982586701, Acc micro train: 0.9794664978981018, Acc macro train: 0.7940835952758789, Acc micro val: 0.003571792971342802, Acc macro val: 0.20000000298023224\n"
     ]
    },
    {
     "name": "stderr",
     "output_type": "stream",
     "text": [
      "100%|██████████| 76/76 [00:00<00:00, 229.09it/s]\n"
     ]
    },
    {
     "name": "stdout",
     "output_type": "stream",
     "text": [
      "Epoch 179, Loss: 0.00014616123719069456, Acc micro train: 0.9787983298301697, Acc macro train: 0.7821593284606934, Acc micro val: 0.003571792971342802, Acc macro val: 0.20000000298023224\n"
     ]
    },
    {
     "name": "stderr",
     "output_type": "stream",
     "text": [
      "100%|██████████| 76/76 [00:00<00:00, 238.78it/s]\n"
     ]
    },
    {
     "name": "stdout",
     "output_type": "stream",
     "text": [
      "Epoch 180, Loss: 0.00014014111422261803, Acc micro train: 0.9795950055122375, Acc macro train: 0.80318284034729, Acc micro val: 0.003571792971342802, Acc macro val: 0.20000000298023224\n"
     ]
    },
    {
     "name": "stderr",
     "output_type": "stream",
     "text": [
      "100%|██████████| 76/76 [00:00<00:00, 230.98it/s]\n"
     ]
    },
    {
     "name": "stdout",
     "output_type": "stream",
     "text": [
      "Epoch 181, Loss: 0.00014190295278635186, Acc micro train: 0.9784899353981018, Acc macro train: 0.786275327205658, Acc micro val: 0.003571792971342802, Acc macro val: 0.20000000298023224\n"
     ]
    },
    {
     "name": "stderr",
     "output_type": "stream",
     "text": [
      "100%|██████████| 76/76 [00:00<00:00, 238.51it/s]\n"
     ]
    },
    {
     "name": "stdout",
     "output_type": "stream",
     "text": [
      "Epoch 182, Loss: 0.00013831778132726615, Acc micro train: 0.9797748923301697, Acc macro train: 0.8028507232666016, Acc micro val: 0.003571792971342802, Acc macro val: 0.20000000298023224\n"
     ]
    },
    {
     "name": "stderr",
     "output_type": "stream",
     "text": [
      "100%|██████████| 76/76 [00:00<00:00, 157.35it/s]\n"
     ]
    },
    {
     "name": "stdout",
     "output_type": "stream",
     "text": [
      "Epoch 183, Loss: 0.0001396541440809013, Acc micro train: 0.9793123006820679, Acc macro train: 0.7950325012207031, Acc micro val: 0.003571792971342802, Acc macro val: 0.20000000298023224\n"
     ]
    },
    {
     "name": "stderr",
     "output_type": "stream",
     "text": [
      "100%|██████████| 76/76 [00:00<00:00, 237.88it/s]\n"
     ]
    },
    {
     "name": "stdout",
     "output_type": "stream",
     "text": [
      "Epoch 184, Loss: 0.00014024724117812538, Acc micro train: 0.9792351722717285, Acc macro train: 0.7960669994354248, Acc micro val: 0.003571792971342802, Acc macro val: 0.20000000298023224\n"
     ]
    },
    {
     "name": "stderr",
     "output_type": "stream",
     "text": [
      "100%|██████████| 76/76 [00:00<00:00, 231.94it/s]\n"
     ]
    },
    {
     "name": "stdout",
     "output_type": "stream",
     "text": [
      "Epoch 185, Loss: 0.00013853696779698286, Acc micro train: 0.9792351722717285, Acc macro train: 0.7954986095428467, Acc micro val: 0.003571792971342802, Acc macro val: 0.20000000298023224\n"
     ]
    },
    {
     "name": "stderr",
     "output_type": "stream",
     "text": [
      "100%|██████████| 76/76 [00:00<00:00, 237.35it/s]\n"
     ]
    },
    {
     "name": "stdout",
     "output_type": "stream",
     "text": [
      "Epoch 186, Loss: 0.00013716998975925963, Acc micro train: 0.9798519611358643, Acc macro train: 0.8013278245925903, Acc micro val: 0.003571792971342802, Acc macro val: 0.20000000298023224\n"
     ]
    },
    {
     "name": "stderr",
     "output_type": "stream",
     "text": [
      "100%|██████████| 76/76 [00:00<00:00, 230.47it/s]\n"
     ]
    },
    {
     "name": "stdout",
     "output_type": "stream",
     "text": [
      "Epoch 187, Loss: 0.00014100879395792515, Acc micro train: 0.9793123006820679, Acc macro train: 0.8016806840896606, Acc micro val: 0.003571792971342802, Acc macro val: 0.20000000298023224\n"
     ]
    },
    {
     "name": "stderr",
     "output_type": "stream",
     "text": [
      "100%|██████████| 76/76 [00:00<00:00, 234.97it/s]\n"
     ]
    },
    {
     "name": "stdout",
     "output_type": "stream",
     "text": [
      "Epoch 188, Loss: 0.00013950719096440827, Acc micro train: 0.9794151186943054, Acc macro train: 0.7929055094718933, Acc micro val: 0.003571792971342802, Acc macro val: 0.20000000298023224\n"
     ]
    },
    {
     "name": "stderr",
     "output_type": "stream",
     "text": [
      "100%|██████████| 76/76 [00:00<00:00, 235.74it/s]\n"
     ]
    },
    {
     "name": "stdout",
     "output_type": "stream",
     "text": [
      "Epoch 189, Loss: 0.00014030435109598988, Acc micro train: 0.9788497090339661, Acc macro train: 0.7946832180023193, Acc micro val: 0.003571792971342802, Acc macro val: 0.20000000298023224\n"
     ]
    },
    {
     "name": "stderr",
     "output_type": "stream",
     "text": [
      "100%|██████████| 76/76 [00:00<00:00, 237.44it/s]\n"
     ]
    },
    {
     "name": "stdout",
     "output_type": "stream",
     "text": [
      "Epoch 190, Loss: 0.00013873674954671637, Acc micro train: 0.9793636798858643, Acc macro train: 0.7991735935211182, Acc micro val: 0.003571792971342802, Acc macro val: 0.20000000298023224\n"
     ]
    },
    {
     "name": "stderr",
     "output_type": "stream",
     "text": [
      "100%|██████████| 76/76 [00:00<00:00, 229.32it/s]\n"
     ]
    },
    {
     "name": "stdout",
     "output_type": "stream",
     "text": [
      "Epoch 191, Loss: 0.00013759477721806237, Acc micro train: 0.9794408082962036, Acc macro train: 0.8036624193191528, Acc micro val: 0.003571792971342802, Acc macro val: 0.20000000298023224\n"
     ]
    },
    {
     "name": "stderr",
     "output_type": "stream",
     "text": [
      "100%|██████████| 76/76 [00:00<00:00, 157.97it/s]\n"
     ]
    },
    {
     "name": "stdout",
     "output_type": "stream",
     "text": [
      "Epoch 192, Loss: 0.0001417323790120503, Acc micro train: 0.9792094826698303, Acc macro train: 0.7940670251846313, Acc micro val: 0.003571792971342802, Acc macro val: 0.20000000298023224\n"
     ]
    },
    {
     "name": "stderr",
     "output_type": "stream",
     "text": [
      "100%|██████████| 76/76 [00:00<00:00, 225.52it/s]\n"
     ]
    },
    {
     "name": "stdout",
     "output_type": "stream",
     "text": [
      "Epoch 193, Loss: 0.00013898129475651137, Acc micro train: 0.9794921875, Acc macro train: 0.801285445690155, Acc micro val: 0.003571792971342802, Acc macro val: 0.20000000298023224\n"
     ]
    },
    {
     "name": "stderr",
     "output_type": "stream",
     "text": [
      "100%|██████████| 76/76 [00:00<00:00, 232.62it/s]\n"
     ]
    },
    {
     "name": "stdout",
     "output_type": "stream",
     "text": [
      "Epoch 194, Loss: 0.00013775443874233562, Acc micro train: 0.9800575375556946, Acc macro train: 0.8033331632614136, Acc micro val: 0.003571792971342802, Acc macro val: 0.20000000298023224\n"
     ]
    },
    {
     "name": "stderr",
     "output_type": "stream",
     "text": [
      "100%|██████████| 76/76 [00:00<00:00, 237.96it/s]\n"
     ]
    },
    {
     "name": "stdout",
     "output_type": "stream",
     "text": [
      "Epoch 195, Loss: 0.00013709979456080513, Acc micro train: 0.9794921875, Acc macro train: 0.802635908126831, Acc micro val: 0.003571792971342802, Acc macro val: 0.20000000298023224\n"
     ]
    },
    {
     "name": "stderr",
     "output_type": "stream",
     "text": [
      "100%|██████████| 76/76 [00:00<00:00, 226.01it/s]\n"
     ]
    },
    {
     "name": "stdout",
     "output_type": "stream",
     "text": [
      "Epoch 196, Loss: 0.00013645966216859834, Acc micro train: 0.9795950055122375, Acc macro train: 0.8011682629585266, Acc micro val: 0.003571792971342802, Acc macro val: 0.20000000298023224\n"
     ]
    },
    {
     "name": "stderr",
     "output_type": "stream",
     "text": [
      "100%|██████████| 76/76 [00:00<00:00, 238.75it/s]\n"
     ]
    },
    {
     "name": "stdout",
     "output_type": "stream",
     "text": [
      "Epoch 197, Loss: 0.0001370967119978559, Acc micro train: 0.9793379902839661, Acc macro train: 0.7991020679473877, Acc micro val: 0.003571792971342802, Acc macro val: 0.20000000298023224\n"
     ]
    },
    {
     "name": "stderr",
     "output_type": "stream",
     "text": [
      "100%|██████████| 76/76 [00:00<00:00, 238.51it/s]\n"
     ]
    },
    {
     "name": "stdout",
     "output_type": "stream",
     "text": [
      "Epoch 198, Loss: 0.00013771321878965995, Acc micro train: 0.9793893694877625, Acc macro train: 0.7948409914970398, Acc micro val: 0.003571792971342802, Acc macro val: 0.20000000298023224\n"
     ]
    },
    {
     "name": "stderr",
     "output_type": "stream",
     "text": [
      "100%|██████████| 76/76 [00:00<00:00, 234.73it/s]\n"
     ]
    },
    {
     "name": "stdout",
     "output_type": "stream",
     "text": [
      "Epoch 199, Loss: 0.00013675476156284065, Acc micro train: 0.9797492027282715, Acc macro train: 0.8042604923248291, Acc micro val: 0.003571792971342802, Acc macro val: 0.20000000298023224\n"
     ]
    },
    {
     "name": "stderr",
     "output_type": "stream",
     "text": [
      "100%|██████████| 76/76 [00:00<00:00, 237.69it/s]\n"
     ]
    },
    {
     "name": "stdout",
     "output_type": "stream",
     "text": [
      "Epoch 200, Loss: 0.00013682243014514648, Acc micro train: 0.9793123006820679, Acc macro train: 0.8033123016357422, Acc micro val: 0.003571792971342802, Acc macro val: 0.20000000298023224\n"
     ]
    },
    {
     "name": "stderr",
     "output_type": "stream",
     "text": [
      "100%|██████████| 76/76 [00:00<00:00, 245.07it/s]\n"
     ]
    },
    {
     "name": "stdout",
     "output_type": "stream",
     "text": [
      "Epoch 201, Loss: 0.00013580341910536054, Acc micro train: 0.9797234535217285, Acc macro train: 0.8044558167457581, Acc micro val: 0.003571792971342802, Acc macro val: 0.20000000298023224\n"
     ]
    },
    {
     "name": "stderr",
     "output_type": "stream",
     "text": [
      "100%|██████████| 76/76 [00:00<00:00, 238.30it/s]\n"
     ]
    },
    {
     "name": "stdout",
     "output_type": "stream",
     "text": [
      "Epoch 202, Loss: 0.00013396400543216772, Acc micro train: 0.9800061583518982, Acc macro train: 0.8079429268836975, Acc micro val: 0.003571792971342802, Acc macro val: 0.20000000298023224\n"
     ]
    },
    {
     "name": "stderr",
     "output_type": "stream",
     "text": [
      " 32%|███▏      | 24/76 [00:00<00:00, 232.10it/s]"
     ]
    }
   ],
   "source": [
    "\n",
    "for epoch in range(epochs):\n",
    "    model.train()\n",
    "    running_loss = 0.0\n",
    "    # not a multitask model, so we can use the same metric for both\n",
    "    acc_micro = torchmetrics.Accuracy(task = 'multiclass', num_classes = 5, average = 'micro').to(device)\n",
    "    acc_macro = torchmetrics.Accuracy(task = 'multiclass', num_classes = 5, average = 'macro').to(device)\n",
    "    for i, data in enumerate(tqdm(train_loader)):\n",
    "        \n",
    "        inputs, labels = data\n",
    "        inputs, labels = inputs.to(device), labels.to(device)\n",
    "        outputs = model(inputs)\n",
    "        \n",
    "        acc_micro.update(outputs, labels)\n",
    "        acc_macro.update(outputs, labels)\n",
    "        \n",
    "        optimizer.zero_grad()\n",
    "        loss = criterion(outputs, labels)\n",
    "        loss.backward()\n",
    "        optimizer.step()\n",
    "        \n",
    "        running_loss += loss.item()\n",
    "        n_iter += 1\n",
    "        writer.add_scalar('Loss/train', loss.item(), n_iter)\n",
    "    acc_micro_train = acc_micro.compute()\n",
    "    acc_macro_train = acc_macro.compute()\n",
    "    acc_micro_val, acc_macro_val, val_loss = validate_with_loss(model, val_loader)\n",
    "    writer.add_scalar('Loss/val', val_loss, epoch)\n",
    "    writer.add_scalar('Accuracy/micro_train', acc_micro_train, epoch)\n",
    "    writer.add_scalar('Accuracy/macro_train', acc_macro_train, epoch)\n",
    "    writer.add_scalar('Accuracy/micro_val', acc_micro_val, epoch)\n",
    "    writer.add_scalar('Accuracy/macro_val', acc_macro_val, epoch)\n",
    "    print(f'Epoch {epoch + 1}, Loss: {running_loss / len(train_loader.dataset)}, Acc micro train: {acc_micro_train}, Acc macro train: {acc_macro_train}, Acc micro val: {acc_micro_val}, Acc macro val: {acc_macro_val}')"
   ]
  },
  {
   "cell_type": "code",
   "execution_count": null,
   "metadata": {},
   "outputs": [
    {
     "data": {
      "text/plain": [
       "tensor(0)"
      ]
     },
     "execution_count": 21,
     "metadata": {},
     "output_type": "execute_result"
    }
   ],
   "source": [
    "torch.argmax(torch.tensor([1.9]))"
   ]
  }
 ],
 "metadata": {
  "kernelspec": {
   "display_name": "Python 3",
   "language": "python",
   "name": "python3"
  },
  "language_info": {
   "codemirror_mode": {
    "name": "ipython",
    "version": 3
   },
   "file_extension": ".py",
   "mimetype": "text/x-python",
   "name": "python",
   "nbconvert_exporter": "python",
   "pygments_lexer": "ipython3",
   "version": "3.12.3"
  }
 },
 "nbformat": 4,
 "nbformat_minor": 2
}
