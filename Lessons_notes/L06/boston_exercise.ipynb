{
 "cells": [
  {
   "cell_type": "code",
   "execution_count": null,
   "id": "9ca84460",
   "metadata": {},
   "outputs": [],
   "source": [
    "import pandas as pd\n",
    "import torch\n",
    "import torch.nn as nn\n",
    "import torch.nn.functional as F\n",
    "from torch.utils.tensorboard import SummaryWriter\n",
    "\n",
    "import matplotlib.pyplot as plt\n",
    "from IPython.core.debugger import Pdb"
   ]
  },
  {
   "cell_type": "markdown",
   "id": "b7c402dc",
   "metadata": {},
   "source": [
    "# Definition of parameters"
   ]
  },
  {
   "cell_type": "code",
   "execution_count": 31,
   "id": "590fea7a",
   "metadata": {},
   "outputs": [],
   "source": [
    "import timeit\n",
    "\n",
    "a_cuda = torch.rand(1000, device='cuda')\n",
    "b_cuda = torch.rand((1000, 1000), device='cuda')\n",
    "a_cpu = torch.rand(1000, device='cpu')\n",
    "b_cpu = torch.rand((1000, 1000), device='cpu')\n",
    " \n",
    "#print('cuda', timeit.timeit(lambda: a_cuda @ b_cuda, number=100_000))\n",
    "# print('cpu', timeit.timeit(lambda: a_cpu @ b_cpu, number=100_000))\n",
    "\n",
    "#print('cuda', timeit.timeit(lambda: b_cuda @ b_cuda, number=100_000))\n",
    "# print('cpu', timeit.timeit(lambda: b_cpu @ b_cpu, number=10_000))\n",
    "\n"
   ]
  },
  {
   "cell_type": "code",
   "execution_count": 32,
   "id": "c00cfe23",
   "metadata": {},
   "outputs": [],
   "source": [
    "\n",
    "# # b_cpu = torch.rand((1000, 1000), device='cpu')\n",
    "# b_cuda = torch.rand((1000, 1000), device='cuda')\n",
    "\n",
    "# # print('cpu', timeit.timeit(lambda: b_cpu @ b_cpu, number=100))\n",
    "# print('cuda', timeit.timeit(lambda: b_cuda @ b_cuda, number=10_000))"
   ]
  },
  {
   "cell_type": "code",
   "execution_count": 33,
   "id": "78f8ee48",
   "metadata": {},
   "outputs": [],
   "source": [
    "# def test_cpu():\n",
    "#     a_cpu = torch.rand(1000, device='cpu')\n",
    "#     b_cpu = torch.rand((1000, 1000), device='cpu')\n",
    "#     a_cpu @ b_cpu\n",
    "# def test_cuda():\n",
    "#     a_cuda = torch.rand(1000, device='cuda')\n",
    "#     b_cuda = torch.rand((1000, 1000), device='cuda')\n",
    "#     a_cuda @ b_cuda\n",
    "\n",
    "# print('cpu', timeit.timeit(lambda: test_cpu(), number=1000))\n",
    "# print('cuda', timeit.timeit(lambda: test_cuda(), number=1000))"
   ]
  },
  {
   "cell_type": "code",
   "execution_count": 34,
   "id": "441df586",
   "metadata": {},
   "outputs": [
    {
     "name": "stdout",
     "output_type": "stream",
     "text": [
      "cuda\n"
     ]
    }
   ],
   "source": [
    "import os\n",
    "import shutil\n",
    "\n",
    "device = 'cuda'\n",
    "print(device)\n",
    "learning_rate = 0.00001\n",
    "batch_size = 2\n",
    "experiment_name = 'test_experiment'\n",
    "# the directory experiment_name exists, delete it\n",
    "# if os.path.exists(experiment_name):\n",
    "#     shutil.rmtree(experiment_name)\n"
   ]
  },
  {
   "cell_type": "markdown",
   "id": "420ec146",
   "metadata": {},
   "source": [
    "# Data loading"
   ]
  },
  {
   "cell_type": "code",
   "execution_count": 35,
   "id": "cfe01b07",
   "metadata": {},
   "outputs": [
    {
     "name": "stderr",
     "output_type": "stream",
     "text": [
      "<>:5: SyntaxWarning: invalid escape sequence '\\s'\n",
      "<>:5: SyntaxWarning: invalid escape sequence '\\s'\n",
      "/tmp/ipykernel_506135/2631637122.py:5: SyntaxWarning: invalid escape sequence '\\s'\n",
      "  self.df = pd.read_csv(csv, sep='\\s+')\n"
     ]
    }
   ],
   "source": [
    "class Dataset(torch.utils.data.Dataset):\n",
    "\n",
    "    def __init__(self, csv):\n",
    "        # read the csv file\n",
    "        self.df = pd.read_csv(csv, sep='\\s+')\n",
    "        # self.df = self.df.dropna(axis=0)\n",
    "        # save cols\n",
    "        self.input_cols = ['CRIM', 'ZN', 'INDUS', 'CHAS', 'NOX', 'RM', 'AGE', 'DIS', 'RAD', 'TAX', 'PTRATIO', 'B', 'LSTAT']\n",
    "        self.output_cols = ['MEDV']\n",
    "        \n",
    "\n",
    "\n",
    "    def __len__(self):\n",
    "        # here i will return the number of samples in the dataset\n",
    "        return len(self.df)\n",
    "\n",
    "\n",
    "    def __getitem__(self, idx):\n",
    "        # here i will load the file in position idx\n",
    "        cur_sample = self.df.iloc[idx]\n",
    "        if cur_sample.isna().any():\n",
    "            Pdb()()\n",
    "        # split in input / ground-truth\n",
    "        cur_sample_x = cur_sample[self.input_cols]\n",
    "        cur_sample_y = cur_sample[self.output_cols]\n",
    "        # convert to torch format\n",
    "        cur_sample_x = torch.tensor(cur_sample_x.tolist())\n",
    "        cur_sample_y = torch.tensor(cur_sample_y.tolist())\n",
    "        # return values\n",
    "        return cur_sample_x, cur_sample_y\n"
   ]
  },
  {
   "cell_type": "code",
   "execution_count": 36,
   "id": "c00e650e",
   "metadata": {},
   "outputs": [
    {
     "name": "stdout",
     "output_type": "stream",
     "text": [
      "torch.Size([13])\n",
      "torch.Size([1])\n"
     ]
    }
   ],
   "source": [
    "# try to use the dataset\n",
    "ds = Dataset('../datasets/BostonHousingDataset/train.csv')\n",
    "# get first item\n",
    "xx,yy = ds.__getitem__(0)\n",
    "# print shapes\n",
    "print(xx.shape)\n",
    "print(yy.shape)"
   ]
  },
  {
   "cell_type": "code",
   "execution_count": 37,
   "id": "5ae1a76f",
   "metadata": {},
   "outputs": [],
   "source": [
    "# create train and validation datasets\n",
    "train_ds = Dataset('../datasets/BostonHousingDataset/train.csv')\n",
    "val_ds =  Dataset('../datasets/BostonHousingDataset/val.csv')"
   ]
  },
  {
   "cell_type": "code",
   "execution_count": 38,
   "id": "48cb05c2",
   "metadata": {},
   "outputs": [
    {
     "data": {
      "text/plain": [
       "(tensor([-0.4176,  1.8728, -1.0734, -0.2726, -0.6107,  0.5861, -0.4329,  0.9208,\n",
       "         -0.5230, -0.2271, -0.3956,  0.4411, -0.7672]),\n",
       " tensor([0.1488]))"
      ]
     },
     "execution_count": 38,
     "metadata": {},
     "output_type": "execute_result"
    }
   ],
   "source": [
    "# create train dataloader\n",
    "train_dl = torch.utils.data.DataLoader(\n",
    "    train_ds,\n",
    "    batch_size = batch_size,\n",
    "    drop_last = True,\n",
    "    shuffle = True,\n",
    "    num_workers = 4\n",
    ")\n",
    "# create validation dataloader\n",
    "val_dl = torch.utils.data.DataLoader(\n",
    "    val_ds,\n",
    "    batch_size = batch_size,\n",
    "    drop_last = False,\n",
    "    shuffle = False,\n",
    "    num_workers = 4\n",
    ")\n",
    "\n",
    "train_ds.__getitem__(1)"
   ]
  },
  {
   "cell_type": "markdown",
   "id": "af0d2573",
   "metadata": {},
   "source": [
    "# Network definition"
   ]
  },
  {
   "cell_type": "code",
   "execution_count": 39,
   "id": "2cec1aa0",
   "metadata": {},
   "outputs": [],
   "source": [
    "# define network\n",
    "\n",
    "class Net(nn.Module):\n",
    "\n",
    "    def __init__(self):\n",
    "        # initialize super class\n",
    "        super(Net, self).__init__()\n",
    "        self.layer1 = nn.Linear(13,128)\n",
    "        self.layer2 = nn.ReLU()\n",
    "        self.layer3 = nn.Linear(128,64)\n",
    "        self.layer4 = nn.ReLU()\n",
    "        self.layer5 = nn.Linear(64,32)\n",
    "        self.layer6 = nn.ReLU()\n",
    "        self.layer7 = nn.Linear(32,16)\n",
    "        self.layer8 = nn.ReLU()\n",
    "        self.layer9 = nn.Linear(16, 1)\n",
    "\n",
    "\n",
    "    def forward(self, x):\n",
    "        # apply layers in cascade\n",
    "        x = self.layer1(x)\n",
    "        x = self.layer2(x)\n",
    "        x = self.layer3(x)\n",
    "        x = self.layer4(x)\n",
    "        x = self.layer5(x)\n",
    "        x = self.layer6(x)\n",
    "        x = self.layer7(x)\n",
    "        x = self.layer8(x)\n",
    "        x = self.layer9(x)\n",
    "        # return output\n",
    "        return x\n"
   ]
  },
  {
   "cell_type": "code",
   "execution_count": 40,
   "id": "f2d5213a",
   "metadata": {},
   "outputs": [
    {
     "name": "stdout",
     "output_type": "stream",
     "text": [
      " Input shape is torch.Size([10, 13])\n",
      "Output shape is torch.Size([10, 1])\n"
     ]
    }
   ],
   "source": [
    "# let's test the network\n",
    "net = Net()\n",
    "\n",
    "# define random batch of 10 elements\n",
    "inp = torch.rand(10, 13)\n",
    "\n",
    "# forward\n",
    "out = net(inp)\n",
    "\n",
    "# let's print the shape\n",
    "print(' Input shape is', inp.shape)\n",
    "print('Output shape is', out.shape)"
   ]
  },
  {
   "cell_type": "code",
   "execution_count": 41,
   "id": "a89a42fc",
   "metadata": {},
   "outputs": [
    {
     "name": "stdout",
     "output_type": "stream",
     "text": [
      " Input shape is torch.Size([10, 13])\n",
      "Output shape is torch.Size([10, 1])\n"
     ]
    }
   ],
   "source": [
    "# let's move the network in GPU\n",
    "net.to(device)\n",
    "\n",
    "# define random batch of 10 elements\n",
    "inp = torch.rand(10, 13)\n",
    "\n",
    "# move the batch in GPU\n",
    "inp = inp.to(device)\n",
    "\n",
    "# get the output\n",
    "out = net(inp)\n",
    "\n",
    "# let's print the shape\n",
    "print(' Input shape is', inp.shape)\n",
    "print('Output shape is', out.shape)"
   ]
  },
  {
   "cell_type": "markdown",
   "id": "879b9c4a",
   "metadata": {},
   "source": [
    "# Define validation routine"
   ]
  },
  {
   "cell_type": "code",
   "execution_count": 42,
   "id": "a26fdfd2",
   "metadata": {},
   "outputs": [],
   "source": [
    "# create validation routine\n",
    "def validate(net, dl):\n",
    "    # get final score\n",
    "    score = 0\n",
    "    # set network in eval mode\n",
    "    net.eval()\n",
    "    # at the end of epoch, validate model\n",
    "    for inp, gt in dl:\n",
    "        # move batch to gpu\n",
    "        inp = inp.to(device)\n",
    "        gt = gt.to(device)\n",
    "        # get output\n",
    "        with torch.no_grad():\n",
    "            out = net(inp)\n",
    "        # compare with gt\n",
    "        cur_score = F.l1_loss(out, gt)\n",
    "        # append\n",
    "        score += cur_score \n",
    "    # at the end, average over batches\n",
    "    score /= len(dl)\n",
    "    # set network in training mode\n",
    "    net.train()\n",
    "    # return score\n",
    "    return score\n",
    "        \n",
    "        "
   ]
  },
  {
   "cell_type": "markdown",
   "id": "aa5604e1",
   "metadata": {},
   "source": [
    "# Train"
   ]
  },
  {
   "cell_type": "code",
   "execution_count": 43,
   "id": "4805c1fe",
   "metadata": {},
   "outputs": [
    {
     "name": "stderr",
     "output_type": "stream",
     "text": [
      "  0%|          | 1/250 [00:00<02:15,  1.84it/s]"
     ]
    },
    {
     "name": "stderr",
     "output_type": "stream",
     "text": [
      " 32%|███▏      | 79/250 [00:39<01:25,  2.00it/s]Exception ignored in: <function _releaseLock at 0x7208a0db7ce0>\n",
      "Traceback (most recent call last):\n",
      "  File \"/usr/lib/python3.12/logging/__init__.py\", line 243, in _releaseLock\n",
      "    def _releaseLock():\n",
      "    \n",
      "KeyboardInterrupt: \n",
      " 41%|████      | 103/250 [00:51<01:14,  1.96it/s]"
     ]
    }
   ],
   "source": [
    "from tqdm import tqdm\n",
    "# define optimizer\n",
    "optimizer = torch.optim.Adam(params=net.parameters(), lr=learning_rate)\n",
    "\n",
    "# define summary writer\n",
    "writer = SummaryWriter(experiment_name)\n",
    "\n",
    "# initialize iteration number\n",
    "n_iter = 0\n",
    "\n",
    "# define best validation value\n",
    "best_val = None\n",
    "\n",
    "# for each epoch\n",
    "for cur_epoch in tqdm(range(250)):\n",
    "    # plot current epoch\n",
    "    writer.add_scalar(\"epoch\", cur_epoch, n_iter)\n",
    "    # for each batch\n",
    "    for inp, gt in train_dl:\n",
    "        # move batch to gpu\n",
    "        inp = inp.to(device)\n",
    "        gt = gt.to(device)\n",
    "        # reset gradients\n",
    "        optimizer.zero_grad()\n",
    "        # get output\n",
    "        out = net(inp)\n",
    "        # compute loss\n",
    "        loss = F.l1_loss(out, gt)\n",
    "        # compute backward\n",
    "        loss.backward()\n",
    "        # update weights\n",
    "        optimizer.step()\n",
    "        # plot\n",
    "        writer.add_scalar(\"loss\", loss.item(), n_iter)\n",
    "        n_iter += 1\n",
    "        \n",
    "    # at the end, validate model\n",
    "    cur_val = validate(net, val_dl)\n",
    "    # plot validation\n",
    "    writer.add_scalar(\"val\", loss.item(), n_iter)\n",
    "    # check if it is the best model so far\n",
    "    if best_val is None or cur_val > best_val:\n",
    "        # define new best val\n",
    "        best_val = cur_val\n",
    "        # save current model as best\n",
    "        torch.save({\n",
    "            'net': net.state_dict(),\n",
    "            'opt': optimizer.state_dict(),\n",
    "            'epoch': cur_epoch\n",
    "        }, experiment_name + '_best.pth')\n",
    "        # save last model\n",
    "        torch.save({\n",
    "            'net': net.state_dict(),\n",
    "            'opt': optimizer.state_dict(),\n",
    "            'epoch': cur_epoch\n",
    "        }, experiment_name + '_last.pth')\n",
    "    "
   ]
  },
  {
   "cell_type": "markdown",
   "id": "cc1a6af2",
   "metadata": {},
   "source": [
    "# Test"
   ]
  },
  {
   "cell_type": "code",
   "execution_count": null,
   "id": "02a36348",
   "metadata": {},
   "outputs": [
    {
     "name": "stderr",
     "output_type": "stream",
     "text": [
      "/tmp/ipykernel_506135/2631637122.py:5: SyntaxWarning: invalid escape sequence '\\s'\n",
      "  self.df = pd.read_csv(csv, sep='\\s+')\n"
     ]
    },
    {
     "ename": "FileNotFoundError",
     "evalue": "[Errno 2] No such file or directory: 'data/test.csv'",
     "output_type": "error",
     "traceback": [
      "\u001b[0;31m---------------------------------------------------------------------------\u001b[0m",
      "\u001b[0;31mFileNotFoundError\u001b[0m                         Traceback (most recent call last)",
      "Cell \u001b[0;32mIn[29], line 2\u001b[0m\n\u001b[1;32m      1\u001b[0m \u001b[38;5;66;03m# create test dataset\u001b[39;00m\n\u001b[0;32m----> 2\u001b[0m test_ds \u001b[38;5;241m=\u001b[39m  \u001b[43mDataset\u001b[49m\u001b[43m(\u001b[49m\u001b[38;5;124;43m'\u001b[39;49m\u001b[38;5;124;43mdata/test.csv\u001b[39;49m\u001b[38;5;124;43m'\u001b[39;49m\u001b[43m)\u001b[49m\n\u001b[1;32m      4\u001b[0m \u001b[38;5;66;03m# create dataloader\u001b[39;00m\n\u001b[1;32m      5\u001b[0m test_dl \u001b[38;5;241m=\u001b[39m torch\u001b[38;5;241m.\u001b[39mutils\u001b[38;5;241m.\u001b[39mdata\u001b[38;5;241m.\u001b[39mDataLoader(\n\u001b[1;32m      6\u001b[0m     test_ds,\n\u001b[1;32m      7\u001b[0m     batch_size \u001b[38;5;241m=\u001b[39m batch_size,\n\u001b[0;32m   (...)\u001b[0m\n\u001b[1;32m     10\u001b[0m     num_workers \u001b[38;5;241m=\u001b[39m \u001b[38;5;241m4\u001b[39m\n\u001b[1;32m     11\u001b[0m )\n",
      "Cell \u001b[0;32mIn[20], line 5\u001b[0m, in \u001b[0;36mDataset.__init__\u001b[0;34m(self, csv)\u001b[0m\n\u001b[1;32m      3\u001b[0m \u001b[38;5;28;01mdef\u001b[39;00m \u001b[38;5;21m__init__\u001b[39m(\u001b[38;5;28mself\u001b[39m, csv):\n\u001b[1;32m      4\u001b[0m     \u001b[38;5;66;03m# read the csv file\u001b[39;00m\n\u001b[0;32m----> 5\u001b[0m     \u001b[38;5;28mself\u001b[39m\u001b[38;5;241m.\u001b[39mdf \u001b[38;5;241m=\u001b[39m \u001b[43mpd\u001b[49m\u001b[38;5;241;43m.\u001b[39;49m\u001b[43mread_csv\u001b[49m\u001b[43m(\u001b[49m\u001b[43mcsv\u001b[49m\u001b[43m,\u001b[49m\u001b[43m \u001b[49m\u001b[43msep\u001b[49m\u001b[38;5;241;43m=\u001b[39;49m\u001b[38;5;124;43m'\u001b[39;49m\u001b[38;5;124;43m\\\u001b[39;49m\u001b[38;5;124;43ms+\u001b[39;49m\u001b[38;5;124;43m'\u001b[39;49m\u001b[43m)\u001b[49m\n\u001b[1;32m      6\u001b[0m     \u001b[38;5;66;03m# self.df = self.df.dropna(axis=0)\u001b[39;00m\n\u001b[1;32m      7\u001b[0m     \u001b[38;5;66;03m# save cols\u001b[39;00m\n\u001b[1;32m      8\u001b[0m     \u001b[38;5;28mself\u001b[39m\u001b[38;5;241m.\u001b[39minput_cols \u001b[38;5;241m=\u001b[39m [\u001b[38;5;124m'\u001b[39m\u001b[38;5;124mCRIM\u001b[39m\u001b[38;5;124m'\u001b[39m, \u001b[38;5;124m'\u001b[39m\u001b[38;5;124mZN\u001b[39m\u001b[38;5;124m'\u001b[39m, \u001b[38;5;124m'\u001b[39m\u001b[38;5;124mINDUS\u001b[39m\u001b[38;5;124m'\u001b[39m, \u001b[38;5;124m'\u001b[39m\u001b[38;5;124mCHAS\u001b[39m\u001b[38;5;124m'\u001b[39m, \u001b[38;5;124m'\u001b[39m\u001b[38;5;124mNOX\u001b[39m\u001b[38;5;124m'\u001b[39m, \u001b[38;5;124m'\u001b[39m\u001b[38;5;124mRM\u001b[39m\u001b[38;5;124m'\u001b[39m, \u001b[38;5;124m'\u001b[39m\u001b[38;5;124mAGE\u001b[39m\u001b[38;5;124m'\u001b[39m, \u001b[38;5;124m'\u001b[39m\u001b[38;5;124mDIS\u001b[39m\u001b[38;5;124m'\u001b[39m, \u001b[38;5;124m'\u001b[39m\u001b[38;5;124mRAD\u001b[39m\u001b[38;5;124m'\u001b[39m, \u001b[38;5;124m'\u001b[39m\u001b[38;5;124mTAX\u001b[39m\u001b[38;5;124m'\u001b[39m, \u001b[38;5;124m'\u001b[39m\u001b[38;5;124mPTRATIO\u001b[39m\u001b[38;5;124m'\u001b[39m, \u001b[38;5;124m'\u001b[39m\u001b[38;5;124mB\u001b[39m\u001b[38;5;124m'\u001b[39m, \u001b[38;5;124m'\u001b[39m\u001b[38;5;124mLSTAT\u001b[39m\u001b[38;5;124m'\u001b[39m]\n",
      "File \u001b[0;32m~/.local/lib/python3.12/site-packages/pandas/io/parsers/readers.py:1026\u001b[0m, in \u001b[0;36mread_csv\u001b[0;34m(filepath_or_buffer, sep, delimiter, header, names, index_col, usecols, dtype, engine, converters, true_values, false_values, skipinitialspace, skiprows, skipfooter, nrows, na_values, keep_default_na, na_filter, verbose, skip_blank_lines, parse_dates, infer_datetime_format, keep_date_col, date_parser, date_format, dayfirst, cache_dates, iterator, chunksize, compression, thousands, decimal, lineterminator, quotechar, quoting, doublequote, escapechar, comment, encoding, encoding_errors, dialect, on_bad_lines, delim_whitespace, low_memory, memory_map, float_precision, storage_options, dtype_backend)\u001b[0m\n\u001b[1;32m   1013\u001b[0m kwds_defaults \u001b[38;5;241m=\u001b[39m _refine_defaults_read(\n\u001b[1;32m   1014\u001b[0m     dialect,\n\u001b[1;32m   1015\u001b[0m     delimiter,\n\u001b[0;32m   (...)\u001b[0m\n\u001b[1;32m   1022\u001b[0m     dtype_backend\u001b[38;5;241m=\u001b[39mdtype_backend,\n\u001b[1;32m   1023\u001b[0m )\n\u001b[1;32m   1024\u001b[0m kwds\u001b[38;5;241m.\u001b[39mupdate(kwds_defaults)\n\u001b[0;32m-> 1026\u001b[0m \u001b[38;5;28;01mreturn\u001b[39;00m \u001b[43m_read\u001b[49m\u001b[43m(\u001b[49m\u001b[43mfilepath_or_buffer\u001b[49m\u001b[43m,\u001b[49m\u001b[43m \u001b[49m\u001b[43mkwds\u001b[49m\u001b[43m)\u001b[49m\n",
      "File \u001b[0;32m~/.local/lib/python3.12/site-packages/pandas/io/parsers/readers.py:620\u001b[0m, in \u001b[0;36m_read\u001b[0;34m(filepath_or_buffer, kwds)\u001b[0m\n\u001b[1;32m    617\u001b[0m _validate_names(kwds\u001b[38;5;241m.\u001b[39mget(\u001b[38;5;124m\"\u001b[39m\u001b[38;5;124mnames\u001b[39m\u001b[38;5;124m\"\u001b[39m, \u001b[38;5;28;01mNone\u001b[39;00m))\n\u001b[1;32m    619\u001b[0m \u001b[38;5;66;03m# Create the parser.\u001b[39;00m\n\u001b[0;32m--> 620\u001b[0m parser \u001b[38;5;241m=\u001b[39m \u001b[43mTextFileReader\u001b[49m\u001b[43m(\u001b[49m\u001b[43mfilepath_or_buffer\u001b[49m\u001b[43m,\u001b[49m\u001b[43m \u001b[49m\u001b[38;5;241;43m*\u001b[39;49m\u001b[38;5;241;43m*\u001b[39;49m\u001b[43mkwds\u001b[49m\u001b[43m)\u001b[49m\n\u001b[1;32m    622\u001b[0m \u001b[38;5;28;01mif\u001b[39;00m chunksize \u001b[38;5;129;01mor\u001b[39;00m iterator:\n\u001b[1;32m    623\u001b[0m     \u001b[38;5;28;01mreturn\u001b[39;00m parser\n",
      "File \u001b[0;32m~/.local/lib/python3.12/site-packages/pandas/io/parsers/readers.py:1620\u001b[0m, in \u001b[0;36mTextFileReader.__init__\u001b[0;34m(self, f, engine, **kwds)\u001b[0m\n\u001b[1;32m   1617\u001b[0m     \u001b[38;5;28mself\u001b[39m\u001b[38;5;241m.\u001b[39moptions[\u001b[38;5;124m\"\u001b[39m\u001b[38;5;124mhas_index_names\u001b[39m\u001b[38;5;124m\"\u001b[39m] \u001b[38;5;241m=\u001b[39m kwds[\u001b[38;5;124m\"\u001b[39m\u001b[38;5;124mhas_index_names\u001b[39m\u001b[38;5;124m\"\u001b[39m]\n\u001b[1;32m   1619\u001b[0m \u001b[38;5;28mself\u001b[39m\u001b[38;5;241m.\u001b[39mhandles: IOHandles \u001b[38;5;241m|\u001b[39m \u001b[38;5;28;01mNone\u001b[39;00m \u001b[38;5;241m=\u001b[39m \u001b[38;5;28;01mNone\u001b[39;00m\n\u001b[0;32m-> 1620\u001b[0m \u001b[38;5;28mself\u001b[39m\u001b[38;5;241m.\u001b[39m_engine \u001b[38;5;241m=\u001b[39m \u001b[38;5;28;43mself\u001b[39;49m\u001b[38;5;241;43m.\u001b[39;49m\u001b[43m_make_engine\u001b[49m\u001b[43m(\u001b[49m\u001b[43mf\u001b[49m\u001b[43m,\u001b[49m\u001b[43m \u001b[49m\u001b[38;5;28;43mself\u001b[39;49m\u001b[38;5;241;43m.\u001b[39;49m\u001b[43mengine\u001b[49m\u001b[43m)\u001b[49m\n",
      "File \u001b[0;32m~/.local/lib/python3.12/site-packages/pandas/io/parsers/readers.py:1880\u001b[0m, in \u001b[0;36mTextFileReader._make_engine\u001b[0;34m(self, f, engine)\u001b[0m\n\u001b[1;32m   1878\u001b[0m     \u001b[38;5;28;01mif\u001b[39;00m \u001b[38;5;124m\"\u001b[39m\u001b[38;5;124mb\u001b[39m\u001b[38;5;124m\"\u001b[39m \u001b[38;5;129;01mnot\u001b[39;00m \u001b[38;5;129;01min\u001b[39;00m mode:\n\u001b[1;32m   1879\u001b[0m         mode \u001b[38;5;241m+\u001b[39m\u001b[38;5;241m=\u001b[39m \u001b[38;5;124m\"\u001b[39m\u001b[38;5;124mb\u001b[39m\u001b[38;5;124m\"\u001b[39m\n\u001b[0;32m-> 1880\u001b[0m \u001b[38;5;28mself\u001b[39m\u001b[38;5;241m.\u001b[39mhandles \u001b[38;5;241m=\u001b[39m \u001b[43mget_handle\u001b[49m\u001b[43m(\u001b[49m\n\u001b[1;32m   1881\u001b[0m \u001b[43m    \u001b[49m\u001b[43mf\u001b[49m\u001b[43m,\u001b[49m\n\u001b[1;32m   1882\u001b[0m \u001b[43m    \u001b[49m\u001b[43mmode\u001b[49m\u001b[43m,\u001b[49m\n\u001b[1;32m   1883\u001b[0m \u001b[43m    \u001b[49m\u001b[43mencoding\u001b[49m\u001b[38;5;241;43m=\u001b[39;49m\u001b[38;5;28;43mself\u001b[39;49m\u001b[38;5;241;43m.\u001b[39;49m\u001b[43moptions\u001b[49m\u001b[38;5;241;43m.\u001b[39;49m\u001b[43mget\u001b[49m\u001b[43m(\u001b[49m\u001b[38;5;124;43m\"\u001b[39;49m\u001b[38;5;124;43mencoding\u001b[39;49m\u001b[38;5;124;43m\"\u001b[39;49m\u001b[43m,\u001b[49m\u001b[43m \u001b[49m\u001b[38;5;28;43;01mNone\u001b[39;49;00m\u001b[43m)\u001b[49m\u001b[43m,\u001b[49m\n\u001b[1;32m   1884\u001b[0m \u001b[43m    \u001b[49m\u001b[43mcompression\u001b[49m\u001b[38;5;241;43m=\u001b[39;49m\u001b[38;5;28;43mself\u001b[39;49m\u001b[38;5;241;43m.\u001b[39;49m\u001b[43moptions\u001b[49m\u001b[38;5;241;43m.\u001b[39;49m\u001b[43mget\u001b[49m\u001b[43m(\u001b[49m\u001b[38;5;124;43m\"\u001b[39;49m\u001b[38;5;124;43mcompression\u001b[39;49m\u001b[38;5;124;43m\"\u001b[39;49m\u001b[43m,\u001b[49m\u001b[43m \u001b[49m\u001b[38;5;28;43;01mNone\u001b[39;49;00m\u001b[43m)\u001b[49m\u001b[43m,\u001b[49m\n\u001b[1;32m   1885\u001b[0m \u001b[43m    \u001b[49m\u001b[43mmemory_map\u001b[49m\u001b[38;5;241;43m=\u001b[39;49m\u001b[38;5;28;43mself\u001b[39;49m\u001b[38;5;241;43m.\u001b[39;49m\u001b[43moptions\u001b[49m\u001b[38;5;241;43m.\u001b[39;49m\u001b[43mget\u001b[49m\u001b[43m(\u001b[49m\u001b[38;5;124;43m\"\u001b[39;49m\u001b[38;5;124;43mmemory_map\u001b[39;49m\u001b[38;5;124;43m\"\u001b[39;49m\u001b[43m,\u001b[49m\u001b[43m \u001b[49m\u001b[38;5;28;43;01mFalse\u001b[39;49;00m\u001b[43m)\u001b[49m\u001b[43m,\u001b[49m\n\u001b[1;32m   1886\u001b[0m \u001b[43m    \u001b[49m\u001b[43mis_text\u001b[49m\u001b[38;5;241;43m=\u001b[39;49m\u001b[43mis_text\u001b[49m\u001b[43m,\u001b[49m\n\u001b[1;32m   1887\u001b[0m \u001b[43m    \u001b[49m\u001b[43merrors\u001b[49m\u001b[38;5;241;43m=\u001b[39;49m\u001b[38;5;28;43mself\u001b[39;49m\u001b[38;5;241;43m.\u001b[39;49m\u001b[43moptions\u001b[49m\u001b[38;5;241;43m.\u001b[39;49m\u001b[43mget\u001b[49m\u001b[43m(\u001b[49m\u001b[38;5;124;43m\"\u001b[39;49m\u001b[38;5;124;43mencoding_errors\u001b[39;49m\u001b[38;5;124;43m\"\u001b[39;49m\u001b[43m,\u001b[49m\u001b[43m \u001b[49m\u001b[38;5;124;43m\"\u001b[39;49m\u001b[38;5;124;43mstrict\u001b[39;49m\u001b[38;5;124;43m\"\u001b[39;49m\u001b[43m)\u001b[49m\u001b[43m,\u001b[49m\n\u001b[1;32m   1888\u001b[0m \u001b[43m    \u001b[49m\u001b[43mstorage_options\u001b[49m\u001b[38;5;241;43m=\u001b[39;49m\u001b[38;5;28;43mself\u001b[39;49m\u001b[38;5;241;43m.\u001b[39;49m\u001b[43moptions\u001b[49m\u001b[38;5;241;43m.\u001b[39;49m\u001b[43mget\u001b[49m\u001b[43m(\u001b[49m\u001b[38;5;124;43m\"\u001b[39;49m\u001b[38;5;124;43mstorage_options\u001b[39;49m\u001b[38;5;124;43m\"\u001b[39;49m\u001b[43m,\u001b[49m\u001b[43m \u001b[49m\u001b[38;5;28;43;01mNone\u001b[39;49;00m\u001b[43m)\u001b[49m\u001b[43m,\u001b[49m\n\u001b[1;32m   1889\u001b[0m \u001b[43m\u001b[49m\u001b[43m)\u001b[49m\n\u001b[1;32m   1890\u001b[0m \u001b[38;5;28;01massert\u001b[39;00m \u001b[38;5;28mself\u001b[39m\u001b[38;5;241m.\u001b[39mhandles \u001b[38;5;129;01mis\u001b[39;00m \u001b[38;5;129;01mnot\u001b[39;00m \u001b[38;5;28;01mNone\u001b[39;00m\n\u001b[1;32m   1891\u001b[0m f \u001b[38;5;241m=\u001b[39m \u001b[38;5;28mself\u001b[39m\u001b[38;5;241m.\u001b[39mhandles\u001b[38;5;241m.\u001b[39mhandle\n",
      "File \u001b[0;32m~/.local/lib/python3.12/site-packages/pandas/io/common.py:873\u001b[0m, in \u001b[0;36mget_handle\u001b[0;34m(path_or_buf, mode, encoding, compression, memory_map, is_text, errors, storage_options)\u001b[0m\n\u001b[1;32m    868\u001b[0m \u001b[38;5;28;01melif\u001b[39;00m \u001b[38;5;28misinstance\u001b[39m(handle, \u001b[38;5;28mstr\u001b[39m):\n\u001b[1;32m    869\u001b[0m     \u001b[38;5;66;03m# Check whether the filename is to be opened in binary mode.\u001b[39;00m\n\u001b[1;32m    870\u001b[0m     \u001b[38;5;66;03m# Binary mode does not support 'encoding' and 'newline'.\u001b[39;00m\n\u001b[1;32m    871\u001b[0m     \u001b[38;5;28;01mif\u001b[39;00m ioargs\u001b[38;5;241m.\u001b[39mencoding \u001b[38;5;129;01mand\u001b[39;00m \u001b[38;5;124m\"\u001b[39m\u001b[38;5;124mb\u001b[39m\u001b[38;5;124m\"\u001b[39m \u001b[38;5;129;01mnot\u001b[39;00m \u001b[38;5;129;01min\u001b[39;00m ioargs\u001b[38;5;241m.\u001b[39mmode:\n\u001b[1;32m    872\u001b[0m         \u001b[38;5;66;03m# Encoding\u001b[39;00m\n\u001b[0;32m--> 873\u001b[0m         handle \u001b[38;5;241m=\u001b[39m \u001b[38;5;28;43mopen\u001b[39;49m\u001b[43m(\u001b[49m\n\u001b[1;32m    874\u001b[0m \u001b[43m            \u001b[49m\u001b[43mhandle\u001b[49m\u001b[43m,\u001b[49m\n\u001b[1;32m    875\u001b[0m \u001b[43m            \u001b[49m\u001b[43mioargs\u001b[49m\u001b[38;5;241;43m.\u001b[39;49m\u001b[43mmode\u001b[49m\u001b[43m,\u001b[49m\n\u001b[1;32m    876\u001b[0m \u001b[43m            \u001b[49m\u001b[43mencoding\u001b[49m\u001b[38;5;241;43m=\u001b[39;49m\u001b[43mioargs\u001b[49m\u001b[38;5;241;43m.\u001b[39;49m\u001b[43mencoding\u001b[49m\u001b[43m,\u001b[49m\n\u001b[1;32m    877\u001b[0m \u001b[43m            \u001b[49m\u001b[43merrors\u001b[49m\u001b[38;5;241;43m=\u001b[39;49m\u001b[43merrors\u001b[49m\u001b[43m,\u001b[49m\n\u001b[1;32m    878\u001b[0m \u001b[43m            \u001b[49m\u001b[43mnewline\u001b[49m\u001b[38;5;241;43m=\u001b[39;49m\u001b[38;5;124;43m\"\u001b[39;49m\u001b[38;5;124;43m\"\u001b[39;49m\u001b[43m,\u001b[49m\n\u001b[1;32m    879\u001b[0m \u001b[43m        \u001b[49m\u001b[43m)\u001b[49m\n\u001b[1;32m    880\u001b[0m     \u001b[38;5;28;01melse\u001b[39;00m:\n\u001b[1;32m    881\u001b[0m         \u001b[38;5;66;03m# Binary mode\u001b[39;00m\n\u001b[1;32m    882\u001b[0m         handle \u001b[38;5;241m=\u001b[39m \u001b[38;5;28mopen\u001b[39m(handle, ioargs\u001b[38;5;241m.\u001b[39mmode)\n",
      "\u001b[0;31mFileNotFoundError\u001b[0m: [Errno 2] No such file or directory: 'data/test.csv'"
     ]
    }
   ],
   "source": [
    "# create test dataset\n",
    "test_ds =  Dataset('data/test.csv')\n",
    "\n",
    "# create dataloader\n",
    "test_dl = torch.utils.data.DataLoader(\n",
    "    test_ds,\n",
    "    batch_size = batch_size,\n",
    "    drop_last = False,\n",
    "    shuffle = False,\n",
    "    num_workers = 4\n",
    ")"
   ]
  },
  {
   "cell_type": "code",
   "execution_count": null,
   "id": "605ecb72",
   "metadata": {},
   "outputs": [
    {
     "data": {
      "text/plain": [
       "<All keys matched successfully>"
      ]
     },
     "execution_count": 23,
     "metadata": {},
     "output_type": "execute_result"
    }
   ],
   "source": [
    "# load best network\n",
    "state = torch.load(experiment_name + '_best.pth')\n",
    "net.load_state_dict(state['net'])"
   ]
  },
  {
   "cell_type": "code",
   "execution_count": null,
   "id": "bd5a6e67",
   "metadata": {},
   "outputs": [],
   "source": [
    "test_value = validate(net, test_dl).item()"
   ]
  },
  {
   "cell_type": "code",
   "execution_count": null,
   "id": "3e12f91b",
   "metadata": {},
   "outputs": [
    {
     "name": "stdout",
     "output_type": "stream",
     "text": [
      "The model scored a MAE of 0.6519 over the testset.\n"
     ]
    }
   ],
   "source": [
    "print(f'The model scored a MAE of {test_value:0.04f} over the testset.')"
   ]
  },
  {
   "cell_type": "code",
   "execution_count": null,
   "id": "f08a3965",
   "metadata": {},
   "outputs": [],
   "source": []
  },
  {
   "cell_type": "code",
   "execution_count": null,
   "id": "cc08fc03",
   "metadata": {},
   "outputs": [],
   "source": []
  }
 ],
 "metadata": {
  "kernelspec": {
   "display_name": "Python 3 (ipykernel)",
   "language": "python",
   "name": "python3"
  },
  "language_info": {
   "codemirror_mode": {
    "name": "ipython",
    "version": 3
   },
   "file_extension": ".py",
   "mimetype": "text/x-python",
   "name": "python",
   "nbconvert_exporter": "python",
   "pygments_lexer": "ipython3",
   "version": "3.12.2"
  }
 },
 "nbformat": 4,
 "nbformat_minor": 5
}
