{
 "cells": [
  {
   "cell_type": "code",
   "execution_count": 4,
   "id": "9ca84460",
   "metadata": {},
   "outputs": [],
   "source": [
    "import pandas as pd\n",
    "import torch\n",
    "import torch.nn as nn\n",
    "import torch.nn.functional as F\n",
    "from torch.utils.tensorboard import SummaryWriter\n",
    "\n",
    "import matplotlib.pyplot as plt\n",
    "from IPython.core.debugger import Pdb"
   ]
  },
  {
   "cell_type": "markdown",
   "id": "b7c402dc",
   "metadata": {},
   "source": [
    "# Definition of parameters"
   ]
  },
  {
   "cell_type": "code",
   "execution_count": 3,
   "id": "441df586",
   "metadata": {},
   "outputs": [
    {
     "name": "stdout",
     "output_type": "stream",
     "text": [
      "cuda\n"
     ]
    }
   ],
   "source": [
    "import os\n",
    "import shutil\n",
    "\n",
    "device = 'cuda'\n",
    "print(device)\n",
    "learning_rate = 0.00001\n",
    "batch_size = 10_000\n",
    "experiment_name = 'test_experiment'\n",
    "# the directory experiment_name exists, delete it\n",
    "# if os.path.exists(experiment_name):\n",
    "#     shutil.rmtree(experiment_name)\n"
   ]
  },
  {
   "cell_type": "markdown",
   "id": "420ec146",
   "metadata": {},
   "source": [
    "# Data loading"
   ]
  },
  {
   "cell_type": "code",
   "execution_count": 7,
   "id": "cfe01b07",
   "metadata": {},
   "outputs": [
    {
     "name": "stderr",
     "output_type": "stream",
     "text": [
      "<>:5: SyntaxWarning: invalid escape sequence '\\s'\n",
      "<>:5: SyntaxWarning: invalid escape sequence '\\s'\n",
      "/tmp/ipykernel_789068/1279152097.py:5: SyntaxWarning: invalid escape sequence '\\s'\n",
      "  self.df = pd.read_csv(csv, sep='\\s+')\n"
     ]
    }
   ],
   "source": [
    "class Dataset(torch.utils.data.Dataset):\n",
    "\n",
    "    def __init__(self, csv):\n",
    "        # read the csv file\n",
    "        self.df = pd.read_csv(csv, sep='\\s+')\n",
    "        # self.df = self.df.dropna(axis=0)\n",
    "        # save cols\n",
    "        self.input_cols = ['CRIM', 'ZN', 'INDUS', 'CHAS', 'NOX', 'RM', 'AGE', 'DIS', 'RAD', 'TAX', 'PTRATIO', 'B', 'LSTAT']\n",
    "        self.output_cols = ['MEDV']\n",
    "        \n",
    "\n",
    "\n",
    "    def __len__(self):\n",
    "        # TODO: here i will return the number of samples in the dataset\n",
    "        return len(self.df)\n",
    "\n",
    "\n",
    "    def __getitem__(self, idx):\n",
    "        # read row, split in input and output and convert in tensors\n",
    "        cur_sample = self.df.iloc[idx]\n",
    "        # split the current sample in input and output (ground truth)\n",
    "        cur_sample_x = cur_sample[self.input_cols]\n",
    "        cur_sample_y = cur_sample[self.output_cols]\n",
    "        # convert to tensor (torch format)\n",
    "        #cur_sample_x = torch.tensor(cur_sample_x.tolist(), dtype=torch.float32, device=device)\n",
    "        #cur_sample_y = torch.tensor(cur_sample_y.tolist(), dtype=torch.float32, device=device)\n",
    "        cur_sample_x = torch.tensor(cur_sample_x.tolist(), dtype=torch.float32)\n",
    "        cur_sample_y = torch.tensor(cur_sample_y.tolist(), dtype=torch.float32)\n",
    "        # return the sample\n",
    "        return cur_sample_x, cur_sample_y\n"
   ]
  },
  {
   "cell_type": "code",
   "execution_count": 8,
   "id": "c00e650e",
   "metadata": {},
   "outputs": [
    {
     "name": "stdout",
     "output_type": "stream",
     "text": [
      "torch.Size([13])\n",
      "torch.Size([1])\n"
     ]
    }
   ],
   "source": [
    "# try to use the dataset\n",
    "ds = Dataset('../datasets/BostonHousingDataset/train.csv')\n",
    "# get first item\n",
    "xx,yy = ds.__getitem__(0)\n",
    "# print shapes\n",
    "print(xx.shape)\n",
    "print(yy.shape)"
   ]
  },
  {
   "cell_type": "code",
   "execution_count": null,
   "id": "5ae1a76f",
   "metadata": {},
   "outputs": [],
   "source": [
    "# create train and validation datasets\n",
    "train_ds = Dataset('../datasets/BostonHousingDataset/train.csv')\n",
    "val_ds =  Dataset('../datasets/BostonHousingDataset/val.csv')"
   ]
  },
  {
   "cell_type": "code",
   "execution_count": null,
   "id": "48cb05c2",
   "metadata": {},
   "outputs": [
    {
     "data": {
      "text/plain": [
       "(tensor([-0.4176,  1.8728, -1.0734, -0.2726, -0.6107,  0.5861, -0.4329,  0.9208,\n",
       "         -0.5230, -0.2271, -0.3956,  0.4411, -0.7672]),\n",
       " tensor([0.1488]))"
      ]
     },
     "execution_count": 69,
     "metadata": {},
     "output_type": "execute_result"
    }
   ],
   "source": [
    "# create train dataloader\n",
    "train_dl = torch.utils.data.DataLoader(\n",
    "    train_ds,\n",
    "    batch_size = batch_size,\n",
    "    drop_last = True,\n",
    "    shuffle = True,\n",
    "    num_workers = 4\n",
    ")\n",
    "# create validation dataloader\n",
    "val_dl = torch.utils.data.DataLoader(\n",
    "    val_ds,\n",
    "    batch_size = batch_size,\n",
    "    drop_last = False,\n",
    "    shuffle = False,\n",
    "    num_workers = 4\n",
    ")\n",
    "\n",
    "train_ds.__getitem__(1)"
   ]
  },
  {
   "cell_type": "markdown",
   "id": "af0d2573",
   "metadata": {},
   "source": [
    "# Network definition"
   ]
  },
  {
   "cell_type": "code",
   "execution_count": null,
   "id": "2cec1aa0",
   "metadata": {},
   "outputs": [],
   "source": [
    "# define network\n",
    "\n",
    "class Net(nn.Module):\n",
    "\n",
    "    def __init__(self):\n",
    "        # initialize super class\n",
    "        super(Net, self).__init__()\n",
    "        self.layer1 = nn.Linear(13,128)\n",
    "        self.layer2 = nn.ReLU()\n",
    "        self.layer3 = nn.Linear(128,64)\n",
    "        self.layer4 = nn.ReLU()\n",
    "        self.layer5 = nn.Linear(64,32)\n",
    "        self.layer6 = nn.ReLU()\n",
    "        self.layer7 = nn.Linear(32,16)\n",
    "        self.layer8 = nn.ReLU()\n",
    "        self.layer9 = nn.Linear(16, 1)\n",
    "\n",
    "\n",
    "    def forward(self, x):\n",
    "        # apply layers in cascade\n",
    "        x = self.layer1(x)\n",
    "        x = self.layer2(x)\n",
    "        x = self.layer3(x)\n",
    "        x = self.layer4(x)\n",
    "        x = self.layer5(x)\n",
    "        x = self.layer6(x)\n",
    "        x = self.layer7(x)\n",
    "        x = self.layer8(x)\n",
    "        x = self.layer9(x)\n",
    "        # return output\n",
    "        return x\n"
   ]
  },
  {
   "cell_type": "code",
   "execution_count": null,
   "id": "f2d5213a",
   "metadata": {},
   "outputs": [
    {
     "name": "stdout",
     "output_type": "stream",
     "text": [
      " Input shape is torch.Size([10, 13])\n",
      "Output shape is torch.Size([10, 1])\n"
     ]
    }
   ],
   "source": [
    "# let's test the network\n",
    "net = Net()\n",
    "\n",
    "# define random batch of 10 elements\n",
    "inp = torch.rand(10, 13)\n",
    "\n",
    "# forward\n",
    "out = net(inp)\n",
    "\n",
    "# let's print the shape\n",
    "print(' Input shape is', inp.shape)\n",
    "print('Output shape is', out.shape)"
   ]
  },
  {
   "cell_type": "code",
   "execution_count": null,
   "id": "a89a42fc",
   "metadata": {},
   "outputs": [
    {
     "name": "stdout",
     "output_type": "stream",
     "text": [
      " Input shape is torch.Size([10, 13])\n",
      "Output shape is torch.Size([10, 1])\n"
     ]
    }
   ],
   "source": [
    "# let's move the network in GPU\n",
    "net.to(device)\n",
    "\n",
    "# define random batch of 10 elements\n",
    "inp = torch.rand(10, 13)\n",
    "\n",
    "# move the batch in GPU\n",
    "inp = inp.to(device)\n",
    "\n",
    "# get the output\n",
    "out = net(inp)\n",
    "\n",
    "# let's print the shape\n",
    "print(' Input shape is', inp.shape)\n",
    "print('Output shape is', out.shape)"
   ]
  },
  {
   "cell_type": "markdown",
   "id": "879b9c4a",
   "metadata": {},
   "source": [
    "# Define validation routine"
   ]
  },
  {
   "cell_type": "code",
   "execution_count": null,
   "id": "a26fdfd2",
   "metadata": {},
   "outputs": [],
   "source": [
    "# create validation routine\n",
    "def validate(net, dl):\n",
    "    # get final score\n",
    "    score = 0\n",
    "    # set network in eval mode\n",
    "    net.eval()\n",
    "    # at the end of epoch, validate model\n",
    "    for inp, gt in dl:\n",
    "        # move batch to gpu\n",
    "        inp = inp.to(device)\n",
    "        gt = gt.to(device)\n",
    "        # get output\n",
    "        with torch.no_grad():\n",
    "            out = net(inp)\n",
    "        # compare with gt\n",
    "        cur_score = F.l1_loss(out, gt)\n",
    "        # append\n",
    "        score += cur_score \n",
    "    # at the end, average over batches\n",
    "    score /= len(dl)\n",
    "    # set network in training mode\n",
    "    net.train()\n",
    "    # return score\n",
    "    return score\n",
    "        \n",
    "        "
   ]
  },
  {
   "cell_type": "markdown",
   "id": "aa5604e1",
   "metadata": {},
   "source": [
    "# Train"
   ]
  },
  {
   "cell_type": "code",
   "execution_count": null,
   "id": "6da808c3",
   "metadata": {},
   "outputs": [],
   "source": [
    "import shutil\n",
    "# %load_ext tensorboard\n",
    "#%reload_ext tensorboard\n",
    "#%tensorboard --logdir={experiment_name}"
   ]
  },
  {
   "cell_type": "code",
   "execution_count": null,
   "id": "4805c1fe",
   "metadata": {},
   "outputs": [
    {
     "name": "stderr",
     "output_type": "stream",
     "text": [
      "  3%|▎         | 7/250 [00:01<00:43,  5.58it/s]"
     ]
    },
    {
     "name": "stderr",
     "output_type": "stream",
     "text": [
      "100%|██████████| 250/250 [00:43<00:00,  5.69it/s]\n"
     ]
    }
   ],
   "source": [
    "from tqdm import tqdm\n",
    "# define optimizer\n",
    "optimizer = torch.optim.Adam(params=net.parameters(), lr=learning_rate)\n",
    "\n",
    "# define summary writer\n",
    "writer = SummaryWriter(experiment_name)\n",
    "\n",
    "# initialize iteration number\n",
    "n_iter = 0\n",
    "\n",
    "# define best validation value\n",
    "best_val = None\n",
    "\n",
    "# for each epoch\n",
    "for cur_epoch in tqdm(range(250)):\n",
    "    # plot current epoch\n",
    "    writer.add_scalar(\"epoch\", cur_epoch, n_iter)\n",
    "    # for each batch\n",
    "    for inp, gt in train_dl:\n",
    "        # move batch to gpu\n",
    "        inp = inp.to(device)\n",
    "        gt = gt.to(device)\n",
    "        # reset gradients\n",
    "        optimizer.zero_grad()\n",
    "        # get output\n",
    "        out = net(inp)\n",
    "        # compute loss\n",
    "        loss = F.l1_loss(out, gt)\n",
    "        # compute backward\n",
    "        loss.backward()\n",
    "        # update weights\n",
    "        optimizer.step()\n",
    "        # plot\n",
    "        writer.add_scalar(\"loss\", loss.item(), n_iter)\n",
    "        n_iter += 1\n",
    "        \n",
    "    # at the end, validate model\n",
    "    cur_val = validate(net, val_dl)\n",
    "    # plot validation\n",
    "    writer.add_scalar(\"val\", loss.item(), n_iter)\n",
    "    # check if it is the best model so far\n",
    "    if best_val is None or cur_val > best_val:\n",
    "        # define new best val\n",
    "        best_val = cur_val\n",
    "        # save current model as best\n",
    "        torch.save({\n",
    "            'net': net.state_dict(),\n",
    "            'opt': optimizer.state_dict(),\n",
    "            'epoch': cur_epoch\n",
    "        }, experiment_name + '_best.pth')\n",
    "        # save last model\n",
    "        torch.save({\n",
    "            'net': net.state_dict(),\n",
    "            'opt': optimizer.state_dict(),\n",
    "            'epoch': cur_epoch\n",
    "        }, experiment_name + '_last.pth')\n",
    "    "
   ]
  },
  {
   "cell_type": "markdown",
   "id": "cc1a6af2",
   "metadata": {},
   "source": [
    "# Test"
   ]
  },
  {
   "cell_type": "code",
   "execution_count": null,
   "id": "02a36348",
   "metadata": {},
   "outputs": [],
   "source": [
    "# create test dataset\n",
    "test_ds =  Dataset('../datasets/BostonHousingDataset/test.csv')\n",
    "\n",
    "# create dataloader\n",
    "test_dl = torch.utils.data.DataLoader(\n",
    "    test_ds,\n",
    "    batch_size = batch_size,\n",
    "    drop_last = False,\n",
    "    shuffle = False\n",
    ")"
   ]
  },
  {
   "cell_type": "code",
   "execution_count": null,
   "id": "605ecb72",
   "metadata": {},
   "outputs": [
    {
     "ename": "KeyError",
     "evalue": "'data'",
     "output_type": "error",
     "traceback": [
      "\u001b[0;31m---------------------------------------------------------------------------\u001b[0m",
      "\u001b[0;31mKeyError\u001b[0m                                  Traceback (most recent call last)",
      "Cell \u001b[0;32mIn[77], line 4\u001b[0m\n\u001b[1;32m      1\u001b[0m \u001b[38;5;66;03m# TODO: load best network\u001b[39;00m\n\u001b[1;32m      3\u001b[0m state \u001b[38;5;241m=\u001b[39m torch\u001b[38;5;241m.\u001b[39mload(experiment_name \u001b[38;5;241m+\u001b[39m \u001b[38;5;124m'\u001b[39m\u001b[38;5;124m_best.pth\u001b[39m\u001b[38;5;124m'\u001b[39m)\n\u001b[0;32m----> 4\u001b[0m net\u001b[38;5;241m.\u001b[39mload_state_dict(\u001b[43mstate\u001b[49m\u001b[43m[\u001b[49m\u001b[38;5;124;43m'\u001b[39;49m\u001b[38;5;124;43mdata\u001b[39;49m\u001b[38;5;124;43m'\u001b[39;49m\u001b[43m]\u001b[49m)\n\u001b[1;32m      5\u001b[0m optimizer\u001b[38;5;241m.\u001b[39mload_state_dict(state[\u001b[38;5;124m'\u001b[39m\u001b[38;5;124mopt\u001b[39m\u001b[38;5;124m'\u001b[39m])\n\u001b[1;32m      6\u001b[0m best_epoch \u001b[38;5;241m=\u001b[39m state[\u001b[38;5;124m'\u001b[39m\u001b[38;5;124mepoch\u001b[39m\u001b[38;5;124m'\u001b[39m]\n",
      "\u001b[0;31mKeyError\u001b[0m: 'data'"
     ]
    }
   ],
   "source": [
    "# TODO: load best network\n",
    "\n",
    "state = torch.load(experiment_name + '_best.pth')\n",
    "net.load_state_dict(state['data'])\n",
    "optimizer.load_state_dict(state['opt'])\n",
    "best_epoch = state['epoch']\n"
   ]
  },
  {
   "cell_type": "code",
   "execution_count": null,
   "id": "bd5a6e67",
   "metadata": {},
   "outputs": [],
   "source": [
    "test_value = validate(net, test_dl).item()"
   ]
  },
  {
   "cell_type": "code",
   "execution_count": null,
   "id": "80d18eb9",
   "metadata": {},
   "outputs": [],
   "source": [
    "# see how many values of the test dataset are predicted correctly\n",
    "correct = 0\n",
    "total = 0\n",
    "for inp, gt in test_dl:\n",
    "    inp = inp.to(device)\n",
    "    gt = gt.to(device)\n",
    "    out = net(inp)\n",
    "    total += gt.size(0)\n",
    "    correct += (torch.abs(out - gt) < 1).sum().item()\n",
    "\n",
    "print('Accuracy of the network on the test dataset: %d %%' % (100 * correct / total))"
   ]
  },
  {
   "cell_type": "code",
   "execution_count": null,
   "id": "3e12f91b",
   "metadata": {},
   "outputs": [],
   "source": [
    "print(f'The model scored a MAE of {test_value:0.04f} over the testset.')"
   ]
  },
  {
   "cell_type": "code",
   "execution_count": null,
   "id": "a2cc0e82",
   "metadata": {},
   "outputs": [],
   "source": [
    "import timeit\n",
    "\n",
    "a_cpu = torch.rand(1000, device='cpu')\n",
    "b_cpu = torch.rand((1000, 1000), device='cpu')\n",
    "a_mps = torch.rand(1000, device='cuda')\n",
    "b_mps = torch.rand((1000, 1000), device='cuda')\n",
    " \n",
    "print('cpu', timeit.timeit(lambda: a_cpu @ b_cpu, number=100_000))\n",
    "print('mps', timeit.timeit(lambda: a_mps @ b_mps, number=100_000))\n",
    "\n",
    "print('cpu', timeit.timeit(lambda: b_cpu @ b_cpu, number=10_000))\n",
    "print('mps', timeit.timeit(lambda: b_mps @ b_mps, number=10_000))\n",
    "\n",
    "\n",
    "b_cpu = torch.rand((10000, 10000), device='cpu')\n",
    "b_mps = torch.rand((10000, 10000), device='cuda')\n",
    "\n",
    "print('cpu', timeit.timeit(lambda: b_cpu @ b_cpu, number=100))\n",
    "print('mps', timeit.timeit(lambda: b_mps @ b_mps, number=100))"
   ]
  },
  {
   "cell_type": "code",
   "execution_count": null,
   "id": "17844166",
   "metadata": {},
   "outputs": [
    {
     "name": "stdout",
     "output_type": "stream",
     "text": [
      "mps 25.301743762000115\n"
     ]
    }
   ],
   "source": [
    "\n",
    "def test_mps():\n",
    "    a_mps = torch.rand(1000, device='cuda')\n",
    "    b_mps = torch.rand((1000, 1000), device='cuda')\n",
    "    a_mps @ b_mps\n",
    "\n",
    "print('mps', timeit.timeit(lambda: test_mps(), number=100_0000))\n",
    "# print('cpu', timeit.timeit(lambda: test_cpu(), number=100_000))"
   ]
  },
  {
   "cell_type": "code",
   "execution_count": null,
   "id": "9e74e74f",
   "metadata": {},
   "outputs": [],
   "source": []
  }
 ],
 "metadata": {
  "kernelspec": {
   "display_name": "Python 3 (ipykernel)",
   "language": "python",
   "name": "python3"
  },
  "language_info": {
   "codemirror_mode": {
    "name": "ipython",
    "version": 3
   },
   "file_extension": ".py",
   "mimetype": "text/x-python",
   "name": "python",
   "nbconvert_exporter": "python",
   "pygments_lexer": "ipython3",
   "version": "3.12.2"
  }
 },
 "nbformat": 4,
 "nbformat_minor": 5
}
